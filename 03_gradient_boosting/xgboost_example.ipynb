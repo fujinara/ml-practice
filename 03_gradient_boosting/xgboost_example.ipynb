{
  "nbformat": 4,
  "nbformat_minor": 0,
  "metadata": {
    "colab": {
      "name": "XGB_example.ipynb",
      "provenance": [],
      "collapsed_sections": [],
      "toc_visible": true
    },
    "kernelspec": {
      "name": "python3",
      "display_name": "Python 3"
    }
  },
  "cells": [
    {
      "cell_type": "markdown",
      "metadata": {
        "id": "JeM3jvuhqJLk",
        "colab_type": "text"
      },
      "source": [
        "# XGBoost example\n",
        "In this notebook we will train a simple gradient boosting model (using XGBoost) on telecom data."
      ]
    },
    {
      "cell_type": "code",
      "metadata": {
        "id": "XcgJUu9ZzEPX",
        "colab_type": "code",
        "colab": {}
      },
      "source": [
        "import numpy as np\n",
        "import pandas as pd\n",
        "from sklearn.preprocessing import LabelEncoder\n",
        "from sklearn.model_selection import train_test_split\n",
        "from sklearn.metrics import accuracy_score, f1_score\n",
        "import xgboost as xgb"
      ],
      "execution_count": null,
      "outputs": []
    },
    {
      "cell_type": "code",
      "metadata": {
        "id": "UQjWfI1F2GwZ",
        "colab_type": "code",
        "colab": {}
      },
      "source": [
        "df = pd.read_csv('telecom_churn.csv')"
      ],
      "execution_count": null,
      "outputs": []
    },
    {
      "cell_type": "code",
      "metadata": {
        "id": "TLqIndHJ2Irc",
        "colab_type": "code",
        "colab": {
          "base_uri": "https://localhost:8080/",
          "height": 249
        },
        "outputId": "61fa415e-a366-43f5-dcf0-fb08a5715d0e"
      },
      "source": [
        "df.head()"
      ],
      "execution_count": null,
      "outputs": [
        {
          "output_type": "execute_result",
          "data": {
            "text/html": [
              "<div>\n",
              "<style scoped>\n",
              "    .dataframe tbody tr th:only-of-type {\n",
              "        vertical-align: middle;\n",
              "    }\n",
              "\n",
              "    .dataframe tbody tr th {\n",
              "        vertical-align: top;\n",
              "    }\n",
              "\n",
              "    .dataframe thead th {\n",
              "        text-align: right;\n",
              "    }\n",
              "</style>\n",
              "<table border=\"1\" class=\"dataframe\">\n",
              "  <thead>\n",
              "    <tr style=\"text-align: right;\">\n",
              "      <th></th>\n",
              "      <th>State</th>\n",
              "      <th>Account length</th>\n",
              "      <th>Area code</th>\n",
              "      <th>International plan</th>\n",
              "      <th>Voice mail plan</th>\n",
              "      <th>Number vmail messages</th>\n",
              "      <th>Total day minutes</th>\n",
              "      <th>Total day calls</th>\n",
              "      <th>Total day charge</th>\n",
              "      <th>Total eve minutes</th>\n",
              "      <th>Total eve calls</th>\n",
              "      <th>Total eve charge</th>\n",
              "      <th>Total night minutes</th>\n",
              "      <th>Total night calls</th>\n",
              "      <th>Total night charge</th>\n",
              "      <th>Total intl minutes</th>\n",
              "      <th>Total intl calls</th>\n",
              "      <th>Total intl charge</th>\n",
              "      <th>Customer service calls</th>\n",
              "      <th>Churn</th>\n",
              "    </tr>\n",
              "  </thead>\n",
              "  <tbody>\n",
              "    <tr>\n",
              "      <th>0</th>\n",
              "      <td>KS</td>\n",
              "      <td>128</td>\n",
              "      <td>415</td>\n",
              "      <td>No</td>\n",
              "      <td>Yes</td>\n",
              "      <td>25</td>\n",
              "      <td>265.1</td>\n",
              "      <td>110</td>\n",
              "      <td>45.07</td>\n",
              "      <td>197.4</td>\n",
              "      <td>99</td>\n",
              "      <td>16.78</td>\n",
              "      <td>244.7</td>\n",
              "      <td>91</td>\n",
              "      <td>11.01</td>\n",
              "      <td>10.0</td>\n",
              "      <td>3</td>\n",
              "      <td>2.70</td>\n",
              "      <td>1</td>\n",
              "      <td>False</td>\n",
              "    </tr>\n",
              "    <tr>\n",
              "      <th>1</th>\n",
              "      <td>OH</td>\n",
              "      <td>107</td>\n",
              "      <td>415</td>\n",
              "      <td>No</td>\n",
              "      <td>Yes</td>\n",
              "      <td>26</td>\n",
              "      <td>161.6</td>\n",
              "      <td>123</td>\n",
              "      <td>27.47</td>\n",
              "      <td>195.5</td>\n",
              "      <td>103</td>\n",
              "      <td>16.62</td>\n",
              "      <td>254.4</td>\n",
              "      <td>103</td>\n",
              "      <td>11.45</td>\n",
              "      <td>13.7</td>\n",
              "      <td>3</td>\n",
              "      <td>3.70</td>\n",
              "      <td>1</td>\n",
              "      <td>False</td>\n",
              "    </tr>\n",
              "    <tr>\n",
              "      <th>2</th>\n",
              "      <td>NJ</td>\n",
              "      <td>137</td>\n",
              "      <td>415</td>\n",
              "      <td>No</td>\n",
              "      <td>No</td>\n",
              "      <td>0</td>\n",
              "      <td>243.4</td>\n",
              "      <td>114</td>\n",
              "      <td>41.38</td>\n",
              "      <td>121.2</td>\n",
              "      <td>110</td>\n",
              "      <td>10.30</td>\n",
              "      <td>162.6</td>\n",
              "      <td>104</td>\n",
              "      <td>7.32</td>\n",
              "      <td>12.2</td>\n",
              "      <td>5</td>\n",
              "      <td>3.29</td>\n",
              "      <td>0</td>\n",
              "      <td>False</td>\n",
              "    </tr>\n",
              "    <tr>\n",
              "      <th>3</th>\n",
              "      <td>OH</td>\n",
              "      <td>84</td>\n",
              "      <td>408</td>\n",
              "      <td>Yes</td>\n",
              "      <td>No</td>\n",
              "      <td>0</td>\n",
              "      <td>299.4</td>\n",
              "      <td>71</td>\n",
              "      <td>50.90</td>\n",
              "      <td>61.9</td>\n",
              "      <td>88</td>\n",
              "      <td>5.26</td>\n",
              "      <td>196.9</td>\n",
              "      <td>89</td>\n",
              "      <td>8.86</td>\n",
              "      <td>6.6</td>\n",
              "      <td>7</td>\n",
              "      <td>1.78</td>\n",
              "      <td>2</td>\n",
              "      <td>False</td>\n",
              "    </tr>\n",
              "    <tr>\n",
              "      <th>4</th>\n",
              "      <td>OK</td>\n",
              "      <td>75</td>\n",
              "      <td>415</td>\n",
              "      <td>Yes</td>\n",
              "      <td>No</td>\n",
              "      <td>0</td>\n",
              "      <td>166.7</td>\n",
              "      <td>113</td>\n",
              "      <td>28.34</td>\n",
              "      <td>148.3</td>\n",
              "      <td>122</td>\n",
              "      <td>12.61</td>\n",
              "      <td>186.9</td>\n",
              "      <td>121</td>\n",
              "      <td>8.41</td>\n",
              "      <td>10.1</td>\n",
              "      <td>3</td>\n",
              "      <td>2.73</td>\n",
              "      <td>3</td>\n",
              "      <td>False</td>\n",
              "    </tr>\n",
              "  </tbody>\n",
              "</table>\n",
              "</div>"
            ],
            "text/plain": [
              "  State  Account length  ...  Customer service calls  Churn\n",
              "0    KS             128  ...                       1  False\n",
              "1    OH             107  ...                       1  False\n",
              "2    NJ             137  ...                       0  False\n",
              "3    OH              84  ...                       2  False\n",
              "4    OK              75  ...                       3  False\n",
              "\n",
              "[5 rows x 20 columns]"
            ]
          },
          "metadata": {
            "tags": []
          },
          "execution_count": 3
        }
      ]
    },
    {
      "cell_type": "code",
      "metadata": {
        "id": "RnRyR1kc2MPn",
        "colab_type": "code",
        "colab": {}
      },
      "source": [
        "# Let's just use numbers for States and make International plan,Voice mail plan and Churn binary.\n",
        "\n",
        "state_enc = LabelEncoder()\n",
        "df['State'] = state_enc.fit_transform(df['State'])\n",
        "df['International plan'] = (df['International plan'] == 'Yes').astype('int')\n",
        "df['Voice mail plan'] = (df['Voice mail plan'] == 'Yes').astype('int')\n",
        "df['Churn'] = (df['Churn']).astype('int')"
      ],
      "execution_count": null,
      "outputs": []
    },
    {
      "cell_type": "code",
      "metadata": {
        "id": "k-4wxDEC34Bs",
        "colab_type": "code",
        "colab": {
          "base_uri": "https://localhost:8080/",
          "height": 249
        },
        "outputId": "72e22a44-b812-49f8-c0ee-ea47728e03d0"
      },
      "source": [
        "df.head()"
      ],
      "execution_count": null,
      "outputs": [
        {
          "output_type": "execute_result",
          "data": {
            "text/html": [
              "<div>\n",
              "<style scoped>\n",
              "    .dataframe tbody tr th:only-of-type {\n",
              "        vertical-align: middle;\n",
              "    }\n",
              "\n",
              "    .dataframe tbody tr th {\n",
              "        vertical-align: top;\n",
              "    }\n",
              "\n",
              "    .dataframe thead th {\n",
              "        text-align: right;\n",
              "    }\n",
              "</style>\n",
              "<table border=\"1\" class=\"dataframe\">\n",
              "  <thead>\n",
              "    <tr style=\"text-align: right;\">\n",
              "      <th></th>\n",
              "      <th>State</th>\n",
              "      <th>Account length</th>\n",
              "      <th>Area code</th>\n",
              "      <th>International plan</th>\n",
              "      <th>Voice mail plan</th>\n",
              "      <th>Number vmail messages</th>\n",
              "      <th>Total day minutes</th>\n",
              "      <th>Total day calls</th>\n",
              "      <th>Total day charge</th>\n",
              "      <th>Total eve minutes</th>\n",
              "      <th>Total eve calls</th>\n",
              "      <th>Total eve charge</th>\n",
              "      <th>Total night minutes</th>\n",
              "      <th>Total night calls</th>\n",
              "      <th>Total night charge</th>\n",
              "      <th>Total intl minutes</th>\n",
              "      <th>Total intl calls</th>\n",
              "      <th>Total intl charge</th>\n",
              "      <th>Customer service calls</th>\n",
              "      <th>Churn</th>\n",
              "    </tr>\n",
              "  </thead>\n",
              "  <tbody>\n",
              "    <tr>\n",
              "      <th>0</th>\n",
              "      <td>16</td>\n",
              "      <td>128</td>\n",
              "      <td>415</td>\n",
              "      <td>0</td>\n",
              "      <td>1</td>\n",
              "      <td>25</td>\n",
              "      <td>265.1</td>\n",
              "      <td>110</td>\n",
              "      <td>45.07</td>\n",
              "      <td>197.4</td>\n",
              "      <td>99</td>\n",
              "      <td>16.78</td>\n",
              "      <td>244.7</td>\n",
              "      <td>91</td>\n",
              "      <td>11.01</td>\n",
              "      <td>10.0</td>\n",
              "      <td>3</td>\n",
              "      <td>2.70</td>\n",
              "      <td>1</td>\n",
              "      <td>0</td>\n",
              "    </tr>\n",
              "    <tr>\n",
              "      <th>1</th>\n",
              "      <td>35</td>\n",
              "      <td>107</td>\n",
              "      <td>415</td>\n",
              "      <td>0</td>\n",
              "      <td>1</td>\n",
              "      <td>26</td>\n",
              "      <td>161.6</td>\n",
              "      <td>123</td>\n",
              "      <td>27.47</td>\n",
              "      <td>195.5</td>\n",
              "      <td>103</td>\n",
              "      <td>16.62</td>\n",
              "      <td>254.4</td>\n",
              "      <td>103</td>\n",
              "      <td>11.45</td>\n",
              "      <td>13.7</td>\n",
              "      <td>3</td>\n",
              "      <td>3.70</td>\n",
              "      <td>1</td>\n",
              "      <td>0</td>\n",
              "    </tr>\n",
              "    <tr>\n",
              "      <th>2</th>\n",
              "      <td>31</td>\n",
              "      <td>137</td>\n",
              "      <td>415</td>\n",
              "      <td>0</td>\n",
              "      <td>0</td>\n",
              "      <td>0</td>\n",
              "      <td>243.4</td>\n",
              "      <td>114</td>\n",
              "      <td>41.38</td>\n",
              "      <td>121.2</td>\n",
              "      <td>110</td>\n",
              "      <td>10.30</td>\n",
              "      <td>162.6</td>\n",
              "      <td>104</td>\n",
              "      <td>7.32</td>\n",
              "      <td>12.2</td>\n",
              "      <td>5</td>\n",
              "      <td>3.29</td>\n",
              "      <td>0</td>\n",
              "      <td>0</td>\n",
              "    </tr>\n",
              "    <tr>\n",
              "      <th>3</th>\n",
              "      <td>35</td>\n",
              "      <td>84</td>\n",
              "      <td>408</td>\n",
              "      <td>1</td>\n",
              "      <td>0</td>\n",
              "      <td>0</td>\n",
              "      <td>299.4</td>\n",
              "      <td>71</td>\n",
              "      <td>50.90</td>\n",
              "      <td>61.9</td>\n",
              "      <td>88</td>\n",
              "      <td>5.26</td>\n",
              "      <td>196.9</td>\n",
              "      <td>89</td>\n",
              "      <td>8.86</td>\n",
              "      <td>6.6</td>\n",
              "      <td>7</td>\n",
              "      <td>1.78</td>\n",
              "      <td>2</td>\n",
              "      <td>0</td>\n",
              "    </tr>\n",
              "    <tr>\n",
              "      <th>4</th>\n",
              "      <td>36</td>\n",
              "      <td>75</td>\n",
              "      <td>415</td>\n",
              "      <td>1</td>\n",
              "      <td>0</td>\n",
              "      <td>0</td>\n",
              "      <td>166.7</td>\n",
              "      <td>113</td>\n",
              "      <td>28.34</td>\n",
              "      <td>148.3</td>\n",
              "      <td>122</td>\n",
              "      <td>12.61</td>\n",
              "      <td>186.9</td>\n",
              "      <td>121</td>\n",
              "      <td>8.41</td>\n",
              "      <td>10.1</td>\n",
              "      <td>3</td>\n",
              "      <td>2.73</td>\n",
              "      <td>3</td>\n",
              "      <td>0</td>\n",
              "    </tr>\n",
              "  </tbody>\n",
              "</table>\n",
              "</div>"
            ],
            "text/plain": [
              "   State  Account length  ...  Customer service calls  Churn\n",
              "0     16             128  ...                       1      0\n",
              "1     35             107  ...                       1      0\n",
              "2     31             137  ...                       0      0\n",
              "3     35              84  ...                       2      0\n",
              "4     36              75  ...                       3      0\n",
              "\n",
              "[5 rows x 20 columns]"
            ]
          },
          "metadata": {
            "tags": []
          },
          "execution_count": 5
        }
      ]
    },
    {
      "cell_type": "code",
      "metadata": {
        "id": "QgzwMn2k35Jk",
        "colab_type": "code",
        "colab": {
          "base_uri": "https://localhost:8080/",
          "height": 50
        },
        "outputId": "9f521af1-666a-4c99-9fed-591c5f4dbecb"
      },
      "source": [
        "# Split to train/test in the following proportion 7:3. Initialize DMatrix objects.\n",
        "\n",
        "X_train, X_test, y_train, y_test = train_test_split(df.drop('Churn', axis=1), df['Churn'],\n",
        "                                                    test_size=0.3, stratify=df['Churn'], random_state=17)\n",
        "dtrain = xgb.DMatrix(X_train, y_train)\n",
        "dtest = xgb.DMatrix(X_test, y_test)"
      ],
      "execution_count": null,
      "outputs": [
        {
          "output_type": "stream",
          "text": [
            "/usr/local/lib/python3.6/dist-packages/xgboost/core.py:587: FutureWarning: Series.base is deprecated and will be removed in a future version\n",
            "  if getattr(data, 'base', None) is not None and \\\n"
          ],
          "name": "stderr"
        }
      ]
    },
    {
      "cell_type": "code",
      "metadata": {
        "id": "Jk_BRt6F4DO3",
        "colab_type": "code",
        "colab": {}
      },
      "source": [
        "# Initialize parameters of the model\n",
        "\n",
        "params = {\n",
        "    'objective':'binary:logistic',    # binary classification\n",
        "    'max_depth': 3,                   # limit max depth of trees\n",
        "    'silent': 1,                      # muted output\n",
        "    'eta': 1                          # learning rate\n",
        "}\n",
        "\n",
        "num_rounds = 50"
      ],
      "execution_count": null,
      "outputs": []
    },
    {
      "cell_type": "code",
      "metadata": {
        "id": "gBFpPeA65ysD",
        "colab_type": "code",
        "colab": {}
      },
      "source": [
        "# Pass the dict of params, data itself and number of rounds\n",
        "\n",
        "xgb_model = xgb.train(params, dtrain, num_rounds)"
      ],
      "execution_count": null,
      "outputs": []
    },
    {
      "cell_type": "code",
      "metadata": {
        "id": "VKS_i3sP7Cc-",
        "colab_type": "code",
        "colab": {
          "base_uri": "https://localhost:8080/",
          "height": 857
        },
        "outputId": "e146224b-a863-42a0-ceb0-88aeb0946613"
      },
      "source": [
        "# Check accuracy on test data using watchlist\n",
        "\n",
        "watchlist  = [(dtest,'test'), (dtrain,'train')]\n",
        "xgb_model = xgb.train(params, dtrain, num_rounds, watchlist)"
      ],
      "execution_count": null,
      "outputs": [
        {
          "output_type": "stream",
          "text": [
            "[0]\ttest-error:0.116\ttrain-error:0.09087\n",
            "[1]\ttest-error:0.102\ttrain-error:0.068581\n",
            "[2]\ttest-error:0.071\ttrain-error:0.040291\n",
            "[3]\ttest-error:0.064\ttrain-error:0.034719\n",
            "[4]\ttest-error:0.071\ttrain-error:0.036005\n",
            "[5]\ttest-error:0.07\ttrain-error:0.033862\n",
            "[6]\ttest-error:0.069\ttrain-error:0.032147\n",
            "[7]\ttest-error:0.073\ttrain-error:0.030433\n",
            "[8]\ttest-error:0.07\ttrain-error:0.028718\n",
            "[9]\ttest-error:0.074\ttrain-error:0.028718\n",
            "[10]\ttest-error:0.07\ttrain-error:0.02829\n",
            "[11]\ttest-error:0.07\ttrain-error:0.028718\n",
            "[12]\ttest-error:0.063\ttrain-error:0.026575\n",
            "[13]\ttest-error:0.067\ttrain-error:0.024432\n",
            "[14]\ttest-error:0.069\ttrain-error:0.02186\n",
            "[15]\ttest-error:0.069\ttrain-error:0.021432\n",
            "[16]\ttest-error:0.068\ttrain-error:0.02186\n",
            "[17]\ttest-error:0.063\ttrain-error:0.019288\n",
            "[18]\ttest-error:0.07\ttrain-error:0.021003\n",
            "[19]\ttest-error:0.067\ttrain-error:0.01886\n",
            "[20]\ttest-error:0.069\ttrain-error:0.019288\n",
            "[21]\ttest-error:0.068\ttrain-error:0.018003\n",
            "[22]\ttest-error:0.065\ttrain-error:0.016717\n",
            "[23]\ttest-error:0.063\ttrain-error:0.015859\n",
            "[24]\ttest-error:0.064\ttrain-error:0.015859\n",
            "[25]\ttest-error:0.062\ttrain-error:0.014574\n",
            "[26]\ttest-error:0.065\ttrain-error:0.014145\n",
            "[27]\ttest-error:0.063\ttrain-error:0.012002\n",
            "[28]\ttest-error:0.063\ttrain-error:0.01243\n",
            "[29]\ttest-error:0.063\ttrain-error:0.012002\n",
            "[30]\ttest-error:0.062\ttrain-error:0.011573\n",
            "[31]\ttest-error:0.063\ttrain-error:0.011144\n",
            "[32]\ttest-error:0.064\ttrain-error:0.010716\n",
            "[33]\ttest-error:0.061\ttrain-error:0.010716\n",
            "[34]\ttest-error:0.064\ttrain-error:0.010716\n",
            "[35]\ttest-error:0.059\ttrain-error:0.00943\n",
            "[36]\ttest-error:0.067\ttrain-error:0.008144\n",
            "[37]\ttest-error:0.066\ttrain-error:0.008144\n",
            "[38]\ttest-error:0.066\ttrain-error:0.007715\n",
            "[39]\ttest-error:0.066\ttrain-error:0.005144\n",
            "[40]\ttest-error:0.065\ttrain-error:0.004715\n",
            "[41]\ttest-error:0.066\ttrain-error:0.004715\n",
            "[42]\ttest-error:0.065\ttrain-error:0.003\n",
            "[43]\ttest-error:0.069\ttrain-error:0.002143\n",
            "[44]\ttest-error:0.065\ttrain-error:0.003\n",
            "[45]\ttest-error:0.064\ttrain-error:0.002572\n",
            "[46]\ttest-error:0.066\ttrain-error:0.003429\n",
            "[47]\ttest-error:0.063\ttrain-error:0.001286\n",
            "[48]\ttest-error:0.062\ttrain-error:0.001286\n",
            "[49]\ttest-error:0.065\ttrain-error:0.002143\n"
          ],
          "name": "stdout"
        }
      ]
    },
    {
      "cell_type": "code",
      "metadata": {
        "id": "E6W1Zr_M7S9s",
        "colab_type": "code",
        "colab": {}
      },
      "source": [
        "# Make predictions\n",
        "preds_prob = xgb_model.predict(dtest)"
      ],
      "execution_count": null,
      "outputs": []
    },
    {
      "cell_type": "code",
      "metadata": {
        "id": "n3TtT3Uv7bzC",
        "colab_type": "code",
        "colab": {
          "base_uri": "https://localhost:8080/",
          "height": 34
        },
        "outputId": "ae2356b6-f461-48d4-8acd-c2fe5ebaf86a"
      },
      "source": [
        "predicted_labels = preds_prob > 0.5\n",
        "print(\"Accuracy and F1 on the test set are: {} and {}\".format(\n",
        "    round(accuracy_score(y_test, predicted_labels), 3),\n",
        "    round(f1_score(y_test, predicted_labels), 3)))"
      ],
      "execution_count": null,
      "outputs": [
        {
          "output_type": "stream",
          "text": [
            "Accuracy and F1 on the test set are: 0.935 and 0.749\n"
          ],
          "name": "stdout"
        }
      ]
    },
    {
      "cell_type": "code",
      "metadata": {
        "id": "5lgytJbE8x6p",
        "colab_type": "code",
        "colab": {
          "base_uri": "https://localhost:8080/",
          "height": 513
        },
        "outputId": "db59c59d-36b5-48aa-c847-65cda960e652"
      },
      "source": [
        "# Plot feature imporatance\n",
        "ax = xgb.plot_importance(xgb_model)\n",
        "fig = ax.figure\n",
        "fig.set_size_inches(12, 8)"
      ],
      "execution_count": null,
      "outputs": [
        {
          "output_type": "display_data",
          "data": {
            "image/png": "[encoded data removed]",
            "text/plain": [
              "<Figure size 864x576 with 1 Axes>"
            ]
          },
          "metadata": {
            "tags": []
          }
        }
      ]
    }
  ]
}