{
 "cells": [
  {
   "cell_type": "markdown",
   "metadata": {
    "colab_type": "text",
    "id": "03sWgjDXF4pe",
    "nbgrader": {
     "grade": false,
     "grade_id": "cell-512ba712fc0fc065",
     "locked": true,
     "schema_version": 2,
     "solution": false
    }
   },
   "source": [
    "## Part 2. Data preprocessing, model training and evaluation."
   ]
  },
  {
   "cell_type": "markdown",
   "metadata": {
    "colab_type": "text",
    "id": "DK0qkZIHF4pf",
    "nbgrader": {
     "grade": false,
     "grade_id": "cell-b656a4266174b009",
     "locked": true,
     "schema_version": 2,
     "solution": false
    }
   },
   "source": [
    "### 1. Reading the data\n",
    "Here we work with the [dataset](https://archive.ics.uci.edu/ml/datasets/Statlog+%28Vehicle+Silhouettes%29), describing different cars for multiclass ($k=4$) classification problem. The data is available below."
   ]
  },
  {
   "cell_type": "code",
   "execution_count": null,
   "metadata": {
    "colab": {
     "base_uri": "https://localhost:8080/",
     "height": 202
    },
    "colab_type": "code",
    "id": "eQ_S2zI2F4pg",
    "outputId": "f2e48468-f846-4208-f0c1-261d80e9311c"
   },
   "outputs": [
    {
     "name": "stdout",
     "output_type": "stream",
     "text": [
      "--2020-03-30 14:36:06--  https://raw.githubusercontent.com/ml-mipt/ml-mipt/basic_s20/homeworks_basic/Lab1_ML_pipeline_and_SVM/car_data.csv\n",
      "Resolving raw.githubusercontent.com (raw.githubusercontent.com)... 151.101.0.133, 151.101.64.133, 151.101.128.133, ...\n",
      "Connecting to raw.githubusercontent.com (raw.githubusercontent.com)|151.101.0.133|:443... connected.\n",
      "HTTP request sent, awaiting response... 200 OK\n",
      "Length: 58374 (57K) [text/plain]\n",
      "Saving to: ‘car_data.csv’\n",
      "\n",
      "\r",
      "car_data.csv          0%[                    ]       0  --.-KB/s               \r",
      "car_data.csv        100%[===================>]  57.01K  --.-KB/s    in 0.05s   \n",
      "\n",
      "2020-03-30 14:36:06 (1.09 MB/s) - ‘car_data.csv’ saved [58374/58374]\n",
      "\n"
     ]
    }
   ],
   "source": [
    "# If on colab, uncomment the following lines\n",
    "\n",
    "!wget https://raw.githubusercontent.com/ml-mipt/ml-mipt/basic_s20/homeworks_basic/Lab1_ML_pipeline_and_SVM/car_data.csv"
   ]
  },
  {
   "cell_type": "code",
   "execution_count": null,
   "metadata": {
    "colab": {
     "base_uri": "https://localhost:8080/",
     "height": 50
    },
    "colab_type": "code",
    "id": "IZAGqF44F4pn",
    "nbgrader": {
     "grade": false,
     "grade_id": "cell-eebac6bfdf73d0bc",
     "locked": true,
     "schema_version": 2,
     "solution": false
    },
    "outputId": "fa66b2d4-5e51-42f6-9f03-1b31d1a54316"
   },
   "outputs": [
    {
     "name": "stdout",
     "output_type": "stream",
     "text": [
      "(846, 19) (846,)\n",
      "(549, 19) (549,) (297, 19) (297,)\n"
     ]
    }
   ],
   "source": [
    "import pandas as pd\n",
    "import numpy as np\n",
    "from sklearn.model_selection import train_test_split\n",
    "import seaborn as sns\n",
    "import matplotlib.pyplot as plt\n",
    "%matplotlib inline\n",
    "sns.set_style(\"darkgrid\")\n",
    "\n",
    "dataset = pd.read_csv('car_data.csv', delimiter=',', header=None).values\n",
    "data = dataset[:, :-1].astype(int)\n",
    "target = dataset[:, -1]\n",
    "\n",
    "print(data.shape, target.shape)\n",
    "\n",
    "X_train, X_test, y_train, y_test = train_test_split(data, target, test_size=0.35)\n",
    "print(X_train.shape, y_train.shape, X_test.shape, y_test.shape)"
   ]
  },
  {
   "cell_type": "markdown",
   "metadata": {
    "colab_type": "text",
    "id": "Wc4_TDjYF4pr",
    "nbgrader": {
     "grade": false,
     "grade_id": "cell-88b1a0f688568f2c",
     "locked": true,
     "schema_version": 2,
     "solution": false
    }
   },
   "source": [
    "To get some insights about the dataset, `pandas` might be used. The `train` part is transformed to `pd.DataFrame` below."
   ]
  },
  {
   "cell_type": "code",
   "execution_count": null,
   "metadata": {
    "colab": {
     "base_uri": "https://localhost:8080/",
     "height": 491
    },
    "colab_type": "code",
    "id": "zragOgemF4ps",
    "outputId": "6456b704-4cdf-4e90-9b4d-57bb9e733c38"
   },
   "outputs": [
    {
     "data": {
      "text/html": [
       "<div>\n",
       "<style scoped>\n",
       "    .dataframe tbody tr th:only-of-type {\n",
       "        vertical-align: middle;\n",
       "    }\n",
       "\n",
       "    .dataframe tbody tr th {\n",
       "        vertical-align: top;\n",
       "    }\n",
       "\n",
       "    .dataframe thead th {\n",
       "        text-align: right;\n",
       "    }\n",
       "</style>\n",
       "<table border=\"1\" class=\"dataframe\">\n",
       "  <thead>\n",
       "    <tr style=\"text-align: right;\">\n",
       "      <th></th>\n",
       "      <th>0</th>\n",
       "      <th>1</th>\n",
       "      <th>2</th>\n",
       "      <th>3</th>\n",
       "      <th>4</th>\n",
       "      <th>5</th>\n",
       "      <th>6</th>\n",
       "      <th>7</th>\n",
       "      <th>8</th>\n",
       "      <th>9</th>\n",
       "      <th>10</th>\n",
       "      <th>11</th>\n",
       "      <th>12</th>\n",
       "      <th>13</th>\n",
       "      <th>14</th>\n",
       "      <th>15</th>\n",
       "      <th>16</th>\n",
       "      <th>17</th>\n",
       "      <th>18</th>\n",
       "    </tr>\n",
       "  </thead>\n",
       "  <tbody>\n",
       "    <tr>\n",
       "      <th>0</th>\n",
       "      <td>160</td>\n",
       "      <td>82</td>\n",
       "      <td>38</td>\n",
       "      <td>53</td>\n",
       "      <td>125</td>\n",
       "      <td>59</td>\n",
       "      <td>5</td>\n",
       "      <td>133</td>\n",
       "      <td>51</td>\n",
       "      <td>18</td>\n",
       "      <td>128</td>\n",
       "      <td>152</td>\n",
       "      <td>259</td>\n",
       "      <td>146</td>\n",
       "      <td>87</td>\n",
       "      <td>0</td>\n",
       "      <td>0</td>\n",
       "      <td>177</td>\n",
       "      <td>183</td>\n",
       "    </tr>\n",
       "    <tr>\n",
       "      <th>1</th>\n",
       "      <td>439</td>\n",
       "      <td>98</td>\n",
       "      <td>47</td>\n",
       "      <td>109</td>\n",
       "      <td>202</td>\n",
       "      <td>59</td>\n",
       "      <td>11</td>\n",
       "      <td>199</td>\n",
       "      <td>34</td>\n",
       "      <td>23</td>\n",
       "      <td>154</td>\n",
       "      <td>207</td>\n",
       "      <td>586</td>\n",
       "      <td>165</td>\n",
       "      <td>61</td>\n",
       "      <td>1</td>\n",
       "      <td>33</td>\n",
       "      <td>194</td>\n",
       "      <td>208</td>\n",
       "    </tr>\n",
       "    <tr>\n",
       "      <th>2</th>\n",
       "      <td>784</td>\n",
       "      <td>87</td>\n",
       "      <td>37</td>\n",
       "      <td>52</td>\n",
       "      <td>116</td>\n",
       "      <td>54</td>\n",
       "      <td>6</td>\n",
       "      <td>115</td>\n",
       "      <td>58</td>\n",
       "      <td>17</td>\n",
       "      <td>126</td>\n",
       "      <td>135</td>\n",
       "      <td>196</td>\n",
       "      <td>144</td>\n",
       "      <td>74</td>\n",
       "      <td>11</td>\n",
       "      <td>22</td>\n",
       "      <td>186</td>\n",
       "      <td>190</td>\n",
       "    </tr>\n",
       "    <tr>\n",
       "      <th>3</th>\n",
       "      <td>389</td>\n",
       "      <td>100</td>\n",
       "      <td>57</td>\n",
       "      <td>107</td>\n",
       "      <td>207</td>\n",
       "      <td>63</td>\n",
       "      <td>11</td>\n",
       "      <td>227</td>\n",
       "      <td>30</td>\n",
       "      <td>25</td>\n",
       "      <td>180</td>\n",
       "      <td>234</td>\n",
       "      <td>756</td>\n",
       "      <td>205</td>\n",
       "      <td>72</td>\n",
       "      <td>6</td>\n",
       "      <td>19</td>\n",
       "      <td>186</td>\n",
       "      <td>198</td>\n",
       "    </tr>\n",
       "    <tr>\n",
       "      <th>4</th>\n",
       "      <td>629</td>\n",
       "      <td>90</td>\n",
       "      <td>42</td>\n",
       "      <td>63</td>\n",
       "      <td>144</td>\n",
       "      <td>59</td>\n",
       "      <td>7</td>\n",
       "      <td>131</td>\n",
       "      <td>50</td>\n",
       "      <td>18</td>\n",
       "      <td>142</td>\n",
       "      <td>154</td>\n",
       "      <td>259</td>\n",
       "      <td>162</td>\n",
       "      <td>65</td>\n",
       "      <td>15</td>\n",
       "      <td>3</td>\n",
       "      <td>197</td>\n",
       "      <td>204</td>\n",
       "    </tr>\n",
       "    <tr>\n",
       "      <th>5</th>\n",
       "      <td>479</td>\n",
       "      <td>86</td>\n",
       "      <td>42</td>\n",
       "      <td>64</td>\n",
       "      <td>122</td>\n",
       "      <td>54</td>\n",
       "      <td>6</td>\n",
       "      <td>148</td>\n",
       "      <td>46</td>\n",
       "      <td>19</td>\n",
       "      <td>143</td>\n",
       "      <td>170</td>\n",
       "      <td>319</td>\n",
       "      <td>171</td>\n",
       "      <td>87</td>\n",
       "      <td>1</td>\n",
       "      <td>3</td>\n",
       "      <td>179</td>\n",
       "      <td>182</td>\n",
       "    </tr>\n",
       "    <tr>\n",
       "      <th>6</th>\n",
       "      <td>639</td>\n",
       "      <td>108</td>\n",
       "      <td>55</td>\n",
       "      <td>105</td>\n",
       "      <td>230</td>\n",
       "      <td>68</td>\n",
       "      <td>11</td>\n",
       "      <td>218</td>\n",
       "      <td>30</td>\n",
       "      <td>24</td>\n",
       "      <td>171</td>\n",
       "      <td>228</td>\n",
       "      <td>709</td>\n",
       "      <td>210</td>\n",
       "      <td>69</td>\n",
       "      <td>14</td>\n",
       "      <td>4</td>\n",
       "      <td>190</td>\n",
       "      <td>197</td>\n",
       "    </tr>\n",
       "    <tr>\n",
       "      <th>7</th>\n",
       "      <td>22</td>\n",
       "      <td>94</td>\n",
       "      <td>43</td>\n",
       "      <td>64</td>\n",
       "      <td>173</td>\n",
       "      <td>69</td>\n",
       "      <td>7</td>\n",
       "      <td>150</td>\n",
       "      <td>43</td>\n",
       "      <td>19</td>\n",
       "      <td>142</td>\n",
       "      <td>169</td>\n",
       "      <td>344</td>\n",
       "      <td>177</td>\n",
       "      <td>68</td>\n",
       "      <td>9</td>\n",
       "      <td>1</td>\n",
       "      <td>199</td>\n",
       "      <td>206</td>\n",
       "    </tr>\n",
       "    <tr>\n",
       "      <th>8</th>\n",
       "      <td>500</td>\n",
       "      <td>101</td>\n",
       "      <td>56</td>\n",
       "      <td>100</td>\n",
       "      <td>204</td>\n",
       "      <td>62</td>\n",
       "      <td>12</td>\n",
       "      <td>227</td>\n",
       "      <td>30</td>\n",
       "      <td>25</td>\n",
       "      <td>178</td>\n",
       "      <td>231</td>\n",
       "      <td>757</td>\n",
       "      <td>204</td>\n",
       "      <td>73</td>\n",
       "      <td>0</td>\n",
       "      <td>11</td>\n",
       "      <td>186</td>\n",
       "      <td>197</td>\n",
       "    </tr>\n",
       "    <tr>\n",
       "      <th>9</th>\n",
       "      <td>267</td>\n",
       "      <td>100</td>\n",
       "      <td>46</td>\n",
       "      <td>81</td>\n",
       "      <td>187</td>\n",
       "      <td>61</td>\n",
       "      <td>9</td>\n",
       "      <td>166</td>\n",
       "      <td>40</td>\n",
       "      <td>20</td>\n",
       "      <td>154</td>\n",
       "      <td>189</td>\n",
       "      <td>415</td>\n",
       "      <td>175</td>\n",
       "      <td>63</td>\n",
       "      <td>13</td>\n",
       "      <td>9</td>\n",
       "      <td>198</td>\n",
       "      <td>207</td>\n",
       "    </tr>\n",
       "    <tr>\n",
       "      <th>10</th>\n",
       "      <td>469</td>\n",
       "      <td>92</td>\n",
       "      <td>40</td>\n",
       "      <td>62</td>\n",
       "      <td>144</td>\n",
       "      <td>59</td>\n",
       "      <td>8</td>\n",
       "      <td>127</td>\n",
       "      <td>52</td>\n",
       "      <td>17</td>\n",
       "      <td>139</td>\n",
       "      <td>149</td>\n",
       "      <td>241</td>\n",
       "      <td>150</td>\n",
       "      <td>62</td>\n",
       "      <td>13</td>\n",
       "      <td>1</td>\n",
       "      <td>204</td>\n",
       "      <td>210</td>\n",
       "    </tr>\n",
       "    <tr>\n",
       "      <th>11</th>\n",
       "      <td>107</td>\n",
       "      <td>85</td>\n",
       "      <td>39</td>\n",
       "      <td>77</td>\n",
       "      <td>151</td>\n",
       "      <td>59</td>\n",
       "      <td>8</td>\n",
       "      <td>150</td>\n",
       "      <td>45</td>\n",
       "      <td>19</td>\n",
       "      <td>134</td>\n",
       "      <td>176</td>\n",
       "      <td>331</td>\n",
       "      <td>133</td>\n",
       "      <td>73</td>\n",
       "      <td>0</td>\n",
       "      <td>16</td>\n",
       "      <td>184</td>\n",
       "      <td>193</td>\n",
       "    </tr>\n",
       "    <tr>\n",
       "      <th>12</th>\n",
       "      <td>675</td>\n",
       "      <td>100</td>\n",
       "      <td>58</td>\n",
       "      <td>109</td>\n",
       "      <td>230</td>\n",
       "      <td>70</td>\n",
       "      <td>11</td>\n",
       "      <td>226</td>\n",
       "      <td>30</td>\n",
       "      <td>25</td>\n",
       "      <td>182</td>\n",
       "      <td>234</td>\n",
       "      <td>752</td>\n",
       "      <td>207</td>\n",
       "      <td>72</td>\n",
       "      <td>0</td>\n",
       "      <td>13</td>\n",
       "      <td>187</td>\n",
       "      <td>198</td>\n",
       "    </tr>\n",
       "    <tr>\n",
       "      <th>13</th>\n",
       "      <td>516</td>\n",
       "      <td>92</td>\n",
       "      <td>42</td>\n",
       "      <td>75</td>\n",
       "      <td>172</td>\n",
       "      <td>60</td>\n",
       "      <td>8</td>\n",
       "      <td>147</td>\n",
       "      <td>45</td>\n",
       "      <td>19</td>\n",
       "      <td>142</td>\n",
       "      <td>174</td>\n",
       "      <td>322</td>\n",
       "      <td>160</td>\n",
       "      <td>62</td>\n",
       "      <td>22</td>\n",
       "      <td>10</td>\n",
       "      <td>206</td>\n",
       "      <td>211</td>\n",
       "    </tr>\n",
       "    <tr>\n",
       "      <th>14</th>\n",
       "      <td>108</td>\n",
       "      <td>80</td>\n",
       "      <td>44</td>\n",
       "      <td>68</td>\n",
       "      <td>135</td>\n",
       "      <td>59</td>\n",
       "      <td>8</td>\n",
       "      <td>150</td>\n",
       "      <td>45</td>\n",
       "      <td>19</td>\n",
       "      <td>145</td>\n",
       "      <td>170</td>\n",
       "      <td>329</td>\n",
       "      <td>173</td>\n",
       "      <td>80</td>\n",
       "      <td>7</td>\n",
       "      <td>12</td>\n",
       "      <td>180</td>\n",
       "      <td>185</td>\n",
       "    </tr>\n",
       "  </tbody>\n",
       "</table>\n",
       "</div>"
      ],
      "text/plain": [
       "     0    1   2    3    4   5   6    7   ...   11   12   13  14  15  16   17   18\n",
       "0   160   82  38   53  125  59   5  133  ...  152  259  146  87   0   0  177  183\n",
       "1   439   98  47  109  202  59  11  199  ...  207  586  165  61   1  33  194  208\n",
       "2   784   87  37   52  116  54   6  115  ...  135  196  144  74  11  22  186  190\n",
       "3   389  100  57  107  207  63  11  227  ...  234  756  205  72   6  19  186  198\n",
       "4   629   90  42   63  144  59   7  131  ...  154  259  162  65  15   3  197  204\n",
       "5   479   86  42   64  122  54   6  148  ...  170  319  171  87   1   3  179  182\n",
       "6   639  108  55  105  230  68  11  218  ...  228  709  210  69  14   4  190  197\n",
       "7    22   94  43   64  173  69   7  150  ...  169  344  177  68   9   1  199  206\n",
       "8   500  101  56  100  204  62  12  227  ...  231  757  204  73   0  11  186  197\n",
       "9   267  100  46   81  187  61   9  166  ...  189  415  175  63  13   9  198  207\n",
       "10  469   92  40   62  144  59   8  127  ...  149  241  150  62  13   1  204  210\n",
       "11  107   85  39   77  151  59   8  150  ...  176  331  133  73   0  16  184  193\n",
       "12  675  100  58  109  230  70  11  226  ...  234  752  207  72   0  13  187  198\n",
       "13  516   92  42   75  172  60   8  147  ...  174  322  160  62  22  10  206  211\n",
       "14  108   80  44   68  135  59   8  150  ...  170  329  173  80   7  12  180  185\n",
       "\n",
       "[15 rows x 19 columns]"
      ]
     },
     "execution_count": 3,
     "metadata": {
      "tags": []
     },
     "output_type": "execute_result"
    }
   ],
   "source": [
    "X_train_pd = pd.DataFrame(X_train)\n",
    "# First 15 rows of our dataset.\n",
    "X_train_pd.head(15)"
   ]
  },
  {
   "cell_type": "code",
   "execution_count": null,
   "metadata": {
    "colab": {},
    "colab_type": "code",
    "id": "ygNB9242N0Jv"
   },
   "outputs": [],
   "source": [
    "# remove the first column since it contains just the indices of the objects\n",
    "X_train_pd = X_train_pd.drop([0], axis=1)\n",
    "\n",
    "# the same goes for X_test\n",
    "X_test = np.delete(X_test, 0, 1)"
   ]
  },
  {
   "cell_type": "markdown",
   "metadata": {
    "colab_type": "text",
    "id": "Qt5lCqSkF4pw",
    "nbgrader": {
     "grade": false,
     "grade_id": "cell-98e7d91d77d65fcf",
     "locked": true,
     "schema_version": 2,
     "solution": false
    }
   },
   "source": [
    "Methods `describe` and `info` deliver some useful information."
   ]
  },
  {
   "cell_type": "code",
   "execution_count": null,
   "metadata": {
    "colab": {
     "base_uri": "https://localhost:8080/",
     "height": 284
    },
    "colab_type": "code",
    "id": "5qRGCovmF4py",
    "outputId": "150a9772-aabc-4530-d755-9b1db7ff8dc4"
   },
   "outputs": [
    {
     "data": {
      "text/html": [
       "<div>\n",
       "<style scoped>\n",
       "    .dataframe tbody tr th:only-of-type {\n",
       "        vertical-align: middle;\n",
       "    }\n",
       "\n",
       "    .dataframe tbody tr th {\n",
       "        vertical-align: top;\n",
       "    }\n",
       "\n",
       "    .dataframe thead th {\n",
       "        text-align: right;\n",
       "    }\n",
       "</style>\n",
       "<table border=\"1\" class=\"dataframe\">\n",
       "  <thead>\n",
       "    <tr style=\"text-align: right;\">\n",
       "      <th></th>\n",
       "      <th>1</th>\n",
       "      <th>2</th>\n",
       "      <th>3</th>\n",
       "      <th>4</th>\n",
       "      <th>5</th>\n",
       "      <th>6</th>\n",
       "      <th>7</th>\n",
       "      <th>8</th>\n",
       "      <th>9</th>\n",
       "      <th>10</th>\n",
       "      <th>11</th>\n",
       "      <th>12</th>\n",
       "      <th>13</th>\n",
       "      <th>14</th>\n",
       "      <th>15</th>\n",
       "      <th>16</th>\n",
       "      <th>17</th>\n",
       "      <th>18</th>\n",
       "    </tr>\n",
       "  </thead>\n",
       "  <tbody>\n",
       "    <tr>\n",
       "      <th>count</th>\n",
       "      <td>549.000000</td>\n",
       "      <td>549.000000</td>\n",
       "      <td>549.000000</td>\n",
       "      <td>549.000000</td>\n",
       "      <td>549.000000</td>\n",
       "      <td>549.000000</td>\n",
       "      <td>549.000000</td>\n",
       "      <td>549.000000</td>\n",
       "      <td>549.000000</td>\n",
       "      <td>549.000000</td>\n",
       "      <td>549.000000</td>\n",
       "      <td>549.000000</td>\n",
       "      <td>549.000000</td>\n",
       "      <td>549.000000</td>\n",
       "      <td>549.000000</td>\n",
       "      <td>549.000000</td>\n",
       "      <td>549.00000</td>\n",
       "      <td>549.000000</td>\n",
       "    </tr>\n",
       "    <tr>\n",
       "      <th>mean</th>\n",
       "      <td>93.291439</td>\n",
       "      <td>44.653916</td>\n",
       "      <td>81.706740</td>\n",
       "      <td>167.708561</td>\n",
       "      <td>61.622951</td>\n",
       "      <td>8.597450</td>\n",
       "      <td>167.808743</td>\n",
       "      <td>41.202186</td>\n",
       "      <td>20.508197</td>\n",
       "      <td>147.683060</td>\n",
       "      <td>187.903461</td>\n",
       "      <td>434.513661</td>\n",
       "      <td>173.752277</td>\n",
       "      <td>72.632058</td>\n",
       "      <td>6.347905</td>\n",
       "      <td>12.748634</td>\n",
       "      <td>188.80510</td>\n",
       "      <td>195.564663</td>\n",
       "    </tr>\n",
       "    <tr>\n",
       "      <th>std</th>\n",
       "      <td>8.213325</td>\n",
       "      <td>6.198399</td>\n",
       "      <td>15.635199</td>\n",
       "      <td>33.552589</td>\n",
       "      <td>8.197266</td>\n",
       "      <td>4.779067</td>\n",
       "      <td>33.235966</td>\n",
       "      <td>7.790196</td>\n",
       "      <td>2.600959</td>\n",
       "      <td>14.569795</td>\n",
       "      <td>31.837116</td>\n",
       "      <td>177.002150</td>\n",
       "      <td>32.734787</td>\n",
       "      <td>7.748755</td>\n",
       "      <td>4.830059</td>\n",
       "      <td>9.156517</td>\n",
       "      <td>6.26107</td>\n",
       "      <td>7.487819</td>\n",
       "    </tr>\n",
       "    <tr>\n",
       "      <th>min</th>\n",
       "      <td>73.000000</td>\n",
       "      <td>33.000000</td>\n",
       "      <td>40.000000</td>\n",
       "      <td>104.000000</td>\n",
       "      <td>47.000000</td>\n",
       "      <td>2.000000</td>\n",
       "      <td>112.000000</td>\n",
       "      <td>26.000000</td>\n",
       "      <td>17.000000</td>\n",
       "      <td>118.000000</td>\n",
       "      <td>130.000000</td>\n",
       "      <td>184.000000</td>\n",
       "      <td>112.000000</td>\n",
       "      <td>60.000000</td>\n",
       "      <td>0.000000</td>\n",
       "      <td>0.000000</td>\n",
       "      <td>176.00000</td>\n",
       "      <td>181.000000</td>\n",
       "    </tr>\n",
       "    <tr>\n",
       "      <th>25%</th>\n",
       "      <td>87.000000</td>\n",
       "      <td>39.000000</td>\n",
       "      <td>70.000000</td>\n",
       "      <td>140.000000</td>\n",
       "      <td>57.000000</td>\n",
       "      <td>6.000000</td>\n",
       "      <td>147.000000</td>\n",
       "      <td>34.000000</td>\n",
       "      <td>19.000000</td>\n",
       "      <td>136.000000</td>\n",
       "      <td>167.000000</td>\n",
       "      <td>319.000000</td>\n",
       "      <td>147.000000</td>\n",
       "      <td>68.000000</td>\n",
       "      <td>2.000000</td>\n",
       "      <td>6.000000</td>\n",
       "      <td>184.00000</td>\n",
       "      <td>190.000000</td>\n",
       "    </tr>\n",
       "    <tr>\n",
       "      <th>50%</th>\n",
       "      <td>92.000000</td>\n",
       "      <td>44.000000</td>\n",
       "      <td>78.000000</td>\n",
       "      <td>165.000000</td>\n",
       "      <td>61.000000</td>\n",
       "      <td>8.000000</td>\n",
       "      <td>156.000000</td>\n",
       "      <td>43.000000</td>\n",
       "      <td>19.000000</td>\n",
       "      <td>146.000000</td>\n",
       "      <td>177.000000</td>\n",
       "      <td>361.000000</td>\n",
       "      <td>173.000000</td>\n",
       "      <td>72.000000</td>\n",
       "      <td>5.000000</td>\n",
       "      <td>11.000000</td>\n",
       "      <td>189.00000</td>\n",
       "      <td>197.000000</td>\n",
       "    </tr>\n",
       "    <tr>\n",
       "      <th>75%</th>\n",
       "      <td>99.000000</td>\n",
       "      <td>49.000000</td>\n",
       "      <td>98.000000</td>\n",
       "      <td>193.000000</td>\n",
       "      <td>65.000000</td>\n",
       "      <td>10.000000</td>\n",
       "      <td>197.000000</td>\n",
       "      <td>46.000000</td>\n",
       "      <td>23.000000</td>\n",
       "      <td>159.000000</td>\n",
       "      <td>216.000000</td>\n",
       "      <td>578.000000</td>\n",
       "      <td>198.000000</td>\n",
       "      <td>76.000000</td>\n",
       "      <td>9.000000</td>\n",
       "      <td>19.000000</td>\n",
       "      <td>193.00000</td>\n",
       "      <td>201.000000</td>\n",
       "    </tr>\n",
       "    <tr>\n",
       "      <th>max</th>\n",
       "      <td>116.000000</td>\n",
       "      <td>59.000000</td>\n",
       "      <td>110.000000</td>\n",
       "      <td>333.000000</td>\n",
       "      <td>138.000000</td>\n",
       "      <td>52.000000</td>\n",
       "      <td>265.000000</td>\n",
       "      <td>61.000000</td>\n",
       "      <td>29.000000</td>\n",
       "      <td>186.000000</td>\n",
       "      <td>320.000000</td>\n",
       "      <td>1018.000000</td>\n",
       "      <td>264.000000</td>\n",
       "      <td>135.000000</td>\n",
       "      <td>22.000000</td>\n",
       "      <td>40.000000</td>\n",
       "      <td>206.00000</td>\n",
       "      <td>211.000000</td>\n",
       "    </tr>\n",
       "  </tbody>\n",
       "</table>\n",
       "</div>"
      ],
      "text/plain": [
       "               1           2           3   ...          16         17          18\n",
       "count  549.000000  549.000000  549.000000  ...  549.000000  549.00000  549.000000\n",
       "mean    93.291439   44.653916   81.706740  ...   12.748634  188.80510  195.564663\n",
       "std      8.213325    6.198399   15.635199  ...    9.156517    6.26107    7.487819\n",
       "min     73.000000   33.000000   40.000000  ...    0.000000  176.00000  181.000000\n",
       "25%     87.000000   39.000000   70.000000  ...    6.000000  184.00000  190.000000\n",
       "50%     92.000000   44.000000   78.000000  ...   11.000000  189.00000  197.000000\n",
       "75%     99.000000   49.000000   98.000000  ...   19.000000  193.00000  201.000000\n",
       "max    116.000000   59.000000  110.000000  ...   40.000000  206.00000  211.000000\n",
       "\n",
       "[8 rows x 18 columns]"
      ]
     },
     "execution_count": 5,
     "metadata": {
      "tags": []
     },
     "output_type": "execute_result"
    }
   ],
   "source": [
    "X_train_pd.describe()"
   ]
  },
  {
   "cell_type": "code",
   "execution_count": null,
   "metadata": {
    "colab": {
     "base_uri": "https://localhost:8080/",
     "height": 403
    },
    "colab_type": "code",
    "id": "lojqpRSlF4p4",
    "outputId": "9929e9da-f32a-48b8-ac77-bfaaf710cca3"
   },
   "outputs": [
    {
     "name": "stdout",
     "output_type": "stream",
     "text": [
      "<class 'pandas.core.frame.DataFrame'>\n",
      "RangeIndex: 549 entries, 0 to 548\n",
      "Data columns (total 18 columns):\n",
      "1     549 non-null int64\n",
      "2     549 non-null int64\n",
      "3     549 non-null int64\n",
      "4     549 non-null int64\n",
      "5     549 non-null int64\n",
      "6     549 non-null int64\n",
      "7     549 non-null int64\n",
      "8     549 non-null int64\n",
      "9     549 non-null int64\n",
      "10    549 non-null int64\n",
      "11    549 non-null int64\n",
      "12    549 non-null int64\n",
      "13    549 non-null int64\n",
      "14    549 non-null int64\n",
      "15    549 non-null int64\n",
      "16    549 non-null int64\n",
      "17    549 non-null int64\n",
      "18    549 non-null int64\n",
      "dtypes: int64(18)\n",
      "memory usage: 77.3 KB\n"
     ]
    }
   ],
   "source": [
    "X_train_pd.info()"
   ]
  },
  {
   "cell_type": "markdown",
   "metadata": {
    "colab_type": "text",
    "id": "O1VKwjPTF4p8"
   },
   "source": [
    "#### 2.0. Data preprocessing\n",
    "* Make some transformations of the dataset"
   ]
  },
  {
   "cell_type": "code",
   "execution_count": null,
   "metadata": {
    "colab": {
     "base_uri": "https://localhost:8080/",
     "height": 34
    },
    "colab_type": "code",
    "id": "Mk2n3gvWF4p-",
    "nbgrader": {
     "grade": true,
     "grade_id": "cell-a1514aa189a49fca",
     "locked": false,
     "points": 15,
     "schema_version": 2,
     "solution": true
    },
    "outputId": "04fb065d-1e52-4104-9bed-8ac87367676c"
   },
   "outputs": [
    {
     "data": {
      "text/plain": [
       "False"
      ]
     },
     "execution_count": 7,
     "metadata": {
      "tags": []
     },
     "output_type": "execute_result"
    }
   ],
   "source": [
    "# check if there are any missing values\n",
    "X_train_pd.isnull().values.any()"
   ]
  },
  {
   "cell_type": "code",
   "execution_count": null,
   "metadata": {
    "colab": {
     "base_uri": "https://localhost:8080/",
     "height": 398
    },
    "colab_type": "code",
    "id": "81UWxhS1KEou",
    "outputId": "74aff867-f530-4f8d-fc33-94ded126046d"
   },
   "outputs": [
    {
     "data": {
      "text/html": [
       "<style  type=\"text/css\" >\n",
       "    #T_419cff98_7294_11ea_9ff5_0242ac1c0002row0_col0 {\n",
       "            background-color:  #b40426;\n",
       "            color:  #f1f1f1;\n",
       "        }    #T_419cff98_7294_11ea_9ff5_0242ac1c0002row0_col1 {\n",
       "            background-color:  #e9785d;\n",
       "            color:  #000000;\n",
       "        }    #T_419cff98_7294_11ea_9ff5_0242ac1c0002row0_col2 {\n",
       "            background-color:  #d85646;\n",
       "            color:  #000000;\n",
       "        }    #T_419cff98_7294_11ea_9ff5_0242ac1c0002row0_col3 {\n",
       "            background-color:  #e97a5f;\n",
       "            color:  #000000;\n",
       "        }    #T_419cff98_7294_11ea_9ff5_0242ac1c0002row0_col4 {\n",
       "            background-color:  #84a7fc;\n",
       "            color:  #000000;\n",
       "        }    #T_419cff98_7294_11ea_9ff5_0242ac1c0002row0_col5 {\n",
       "            background-color:  #97b8ff;\n",
       "            color:  #000000;\n",
       "        }    #T_419cff98_7294_11ea_9ff5_0242ac1c0002row0_col6 {\n",
       "            background-color:  #d44e41;\n",
       "            color:  #000000;\n",
       "        }    #T_419cff98_7294_11ea_9ff5_0242ac1c0002row0_col7 {\n",
       "            background-color:  #5673e0;\n",
       "            color:  #000000;\n",
       "        }    #T_419cff98_7294_11ea_9ff5_0242ac1c0002row0_col8 {\n",
       "            background-color:  #d44e41;\n",
       "            color:  #000000;\n",
       "        }    #T_419cff98_7294_11ea_9ff5_0242ac1c0002row0_col9 {\n",
       "            background-color:  #ec7f63;\n",
       "            color:  #000000;\n",
       "        }    #T_419cff98_7294_11ea_9ff5_0242ac1c0002row0_col10 {\n",
       "            background-color:  #dc5d4a;\n",
       "            color:  #000000;\n",
       "        }    #T_419cff98_7294_11ea_9ff5_0242ac1c0002row0_col11 {\n",
       "            background-color:  #d44e41;\n",
       "            color:  #000000;\n",
       "        }    #T_419cff98_7294_11ea_9ff5_0242ac1c0002row0_col12 {\n",
       "            background-color:  #f39475;\n",
       "            color:  #000000;\n",
       "        }    #T_419cff98_7294_11ea_9ff5_0242ac1c0002row0_col13 {\n",
       "            background-color:  #a3c2fe;\n",
       "            color:  #000000;\n",
       "        }    #T_419cff98_7294_11ea_9ff5_0242ac1c0002row0_col14 {\n",
       "            background-color:  #90b2fe;\n",
       "            color:  #000000;\n",
       "        }    #T_419cff98_7294_11ea_9ff5_0242ac1c0002row0_col15 {\n",
       "            background-color:  #9bbcff;\n",
       "            color:  #000000;\n",
       "        }    #T_419cff98_7294_11ea_9ff5_0242ac1c0002row0_col16 {\n",
       "            background-color:  #f1cdba;\n",
       "            color:  #000000;\n",
       "        }    #T_419cff98_7294_11ea_9ff5_0242ac1c0002row0_col17 {\n",
       "            background-color:  #f5c1a9;\n",
       "            color:  #000000;\n",
       "        }    #T_419cff98_7294_11ea_9ff5_0242ac1c0002row1_col0 {\n",
       "            background-color:  #e97a5f;\n",
       "            color:  #000000;\n",
       "        }    #T_419cff98_7294_11ea_9ff5_0242ac1c0002row1_col1 {\n",
       "            background-color:  #b40426;\n",
       "            color:  #f1f1f1;\n",
       "        }    #T_419cff98_7294_11ea_9ff5_0242ac1c0002row1_col2 {\n",
       "            background-color:  #d75445;\n",
       "            color:  #000000;\n",
       "        }    #T_419cff98_7294_11ea_9ff5_0242ac1c0002row1_col3 {\n",
       "            background-color:  #f18f71;\n",
       "            color:  #000000;\n",
       "        }    #T_419cff98_7294_11ea_9ff5_0242ac1c0002row1_col4 {\n",
       "            background-color:  #92b4fe;\n",
       "            color:  #000000;\n",
       "        }    #T_419cff98_7294_11ea_9ff5_0242ac1c0002row1_col5 {\n",
       "            background-color:  #afcafc;\n",
       "            color:  #000000;\n",
       "        }    #T_419cff98_7294_11ea_9ff5_0242ac1c0002row1_col6 {\n",
       "            background-color:  #cd423b;\n",
       "            color:  #f1f1f1;\n",
       "        }    #T_419cff98_7294_11ea_9ff5_0242ac1c0002row1_col7 {\n",
       "            background-color:  #516ddb;\n",
       "            color:  #000000;\n",
       "        }    #T_419cff98_7294_11ea_9ff5_0242ac1c0002row1_col8 {\n",
       "            background-color:  #cf453c;\n",
       "            color:  #f1f1f1;\n",
       "        }    #T_419cff98_7294_11ea_9ff5_0242ac1c0002row1_col9 {\n",
       "            background-color:  #bb1b2c;\n",
       "            color:  #f1f1f1;\n",
       "        }    #T_419cff98_7294_11ea_9ff5_0242ac1c0002row1_col10 {\n",
       "            background-color:  #d75445;\n",
       "            color:  #000000;\n",
       "        }    #T_419cff98_7294_11ea_9ff5_0242ac1c0002row1_col11 {\n",
       "            background-color:  #cf453c;\n",
       "            color:  #f1f1f1;\n",
       "        }    #T_419cff98_7294_11ea_9ff5_0242ac1c0002row1_col12 {\n",
       "            background-color:  #c12b30;\n",
       "            color:  #f1f1f1;\n",
       "        }    #T_419cff98_7294_11ea_9ff5_0242ac1c0002row1_col13 {\n",
       "            background-color:  #dadce0;\n",
       "            color:  #000000;\n",
       "        }    #T_419cff98_7294_11ea_9ff5_0242ac1c0002row1_col14 {\n",
       "            background-color:  #7ea1fa;\n",
       "            color:  #000000;\n",
       "        }    #T_419cff98_7294_11ea_9ff5_0242ac1c0002row1_col15 {\n",
       "            background-color:  #6788ee;\n",
       "            color:  #000000;\n",
       "        }    #T_419cff98_7294_11ea_9ff5_0242ac1c0002row1_col16 {\n",
       "            background-color:  #aec9fc;\n",
       "            color:  #000000;\n",
       "        }    #T_419cff98_7294_11ea_9ff5_0242ac1c0002row1_col17 {\n",
       "            background-color:  #cdd9ec;\n",
       "            color:  #000000;\n",
       "        }    #T_419cff98_7294_11ea_9ff5_0242ac1c0002row2_col0 {\n",
       "            background-color:  #d95847;\n",
       "            color:  #000000;\n",
       "        }    #T_419cff98_7294_11ea_9ff5_0242ac1c0002row2_col1 {\n",
       "            background-color:  #d85646;\n",
       "            color:  #000000;\n",
       "        }    #T_419cff98_7294_11ea_9ff5_0242ac1c0002row2_col2 {\n",
       "            background-color:  #b40426;\n",
       "            color:  #f1f1f1;\n",
       "        }    #T_419cff98_7294_11ea_9ff5_0242ac1c0002row2_col3 {\n",
       "            background-color:  #e16751;\n",
       "            color:  #000000;\n",
       "        }    #T_419cff98_7294_11ea_9ff5_0242ac1c0002row2_col4 {\n",
       "            background-color:  #96b7ff;\n",
       "            color:  #000000;\n",
       "        }    #T_419cff98_7294_11ea_9ff5_0242ac1c0002row2_col5 {\n",
       "            background-color:  #b7cff9;\n",
       "            color:  #000000;\n",
       "        }    #T_419cff98_7294_11ea_9ff5_0242ac1c0002row2_col6 {\n",
       "            background-color:  #c53334;\n",
       "            color:  #f1f1f1;\n",
       "        }    #T_419cff98_7294_11ea_9ff5_0242ac1c0002row2_col7 {\n",
       "            background-color:  #4358cb;\n",
       "            color:  #f1f1f1;\n",
       "        }    #T_419cff98_7294_11ea_9ff5_0242ac1c0002row2_col8 {\n",
       "            background-color:  #c83836;\n",
       "            color:  #f1f1f1;\n",
       "        }    #T_419cff98_7294_11ea_9ff5_0242ac1c0002row2_col9 {\n",
       "            background-color:  #dd5f4b;\n",
       "            color:  #000000;\n",
       "        }    #T_419cff98_7294_11ea_9ff5_0242ac1c0002row2_col10 {\n",
       "            background-color:  #cd423b;\n",
       "            color:  #f1f1f1;\n",
       "        }    #T_419cff98_7294_11ea_9ff5_0242ac1c0002row2_col11 {\n",
       "            background-color:  #c83836;\n",
       "            color:  #f1f1f1;\n",
       "        }    #T_419cff98_7294_11ea_9ff5_0242ac1c0002row2_col12 {\n",
       "            background-color:  #e7745b;\n",
       "            color:  #000000;\n",
       "        }    #T_419cff98_7294_11ea_9ff5_0242ac1c0002row2_col13 {\n",
       "            background-color:  #a9c6fd;\n",
       "            color:  #000000;\n",
       "        }    #T_419cff98_7294_11ea_9ff5_0242ac1c0002row2_col14 {\n",
       "            background-color:  #6f92f3;\n",
       "            color:  #000000;\n",
       "        }    #T_419cff98_7294_11ea_9ff5_0242ac1c0002row2_col15 {\n",
       "            background-color:  #bbd1f8;\n",
       "            color:  #000000;\n",
       "        }    #T_419cff98_7294_11ea_9ff5_0242ac1c0002row2_col16 {\n",
       "            background-color:  #dfdbd9;\n",
       "            color:  #000000;\n",
       "        }    #T_419cff98_7294_11ea_9ff5_0242ac1c0002row2_col17 {\n",
       "            background-color:  #f4c6af;\n",
       "            color:  #000000;\n",
       "        }    #T_419cff98_7294_11ea_9ff5_0242ac1c0002row3_col0 {\n",
       "            background-color:  #e97a5f;\n",
       "            color:  #000000;\n",
       "        }    #T_419cff98_7294_11ea_9ff5_0242ac1c0002row3_col1 {\n",
       "            background-color:  #f18d6f;\n",
       "            color:  #000000;\n",
       "        }    #T_419cff98_7294_11ea_9ff5_0242ac1c0002row3_col2 {\n",
       "            background-color:  #de614d;\n",
       "            color:  #000000;\n",
       "        }    #T_419cff98_7294_11ea_9ff5_0242ac1c0002row3_col3 {\n",
       "            background-color:  #b40426;\n",
       "            color:  #f1f1f1;\n",
       "        }    #T_419cff98_7294_11ea_9ff5_0242ac1c0002row3_col4 {\n",
       "            background-color:  #f6a385;\n",
       "            color:  #000000;\n",
       "        }    #T_419cff98_7294_11ea_9ff5_0242ac1c0002row3_col5 {\n",
       "            background-color:  #e8d6cc;\n",
       "            color:  #000000;\n",
       "        }    #T_419cff98_7294_11ea_9ff5_0242ac1c0002row3_col6 {\n",
       "            background-color:  #e16751;\n",
       "            color:  #000000;\n",
       "        }    #T_419cff98_7294_11ea_9ff5_0242ac1c0002row3_col7 {\n",
       "            background-color:  #5977e3;\n",
       "            color:  #000000;\n",
       "        }    #T_419cff98_7294_11ea_9ff5_0242ac1c0002row3_col8 {\n",
       "            background-color:  #e57058;\n",
       "            color:  #000000;\n",
       "        }    #T_419cff98_7294_11ea_9ff5_0242ac1c0002row3_col9 {\n",
       "            background-color:  #f49a7b;\n",
       "            color:  #000000;\n",
       "        }    #T_419cff98_7294_11ea_9ff5_0242ac1c0002row3_col10 {\n",
       "            background-color:  #d85646;\n",
       "            color:  #000000;\n",
       "        }    #T_419cff98_7294_11ea_9ff5_0242ac1c0002row3_col11 {\n",
       "            background-color:  #e36c55;\n",
       "            color:  #000000;\n",
       "        }    #T_419cff98_7294_11ea_9ff5_0242ac1c0002row3_col12 {\n",
       "            background-color:  #f6a283;\n",
       "            color:  #000000;\n",
       "        }    #T_419cff98_7294_11ea_9ff5_0242ac1c0002row3_col13 {\n",
       "            background-color:  #b7cff9;\n",
       "            color:  #000000;\n",
       "        }    #T_419cff98_7294_11ea_9ff5_0242ac1c0002row3_col14 {\n",
       "            background-color:  #5d7ce6;\n",
       "            color:  #000000;\n",
       "        }    #T_419cff98_7294_11ea_9ff5_0242ac1c0002row3_col15 {\n",
       "            background-color:  #a6c4fe;\n",
       "            color:  #000000;\n",
       "        }    #T_419cff98_7294_11ea_9ff5_0242ac1c0002row3_col16 {\n",
       "            background-color:  #f5c2aa;\n",
       "            color:  #000000;\n",
       "        }    #T_419cff98_7294_11ea_9ff5_0242ac1c0002row3_col17 {\n",
       "            background-color:  #f7b194;\n",
       "            color:  #000000;\n",
       "        }    #T_419cff98_7294_11ea_9ff5_0242ac1c0002row4_col0 {\n",
       "            background-color:  #dbdcde;\n",
       "            color:  #000000;\n",
       "        }    #T_419cff98_7294_11ea_9ff5_0242ac1c0002row4_col1 {\n",
       "            background-color:  #e3d9d3;\n",
       "            color:  #000000;\n",
       "        }    #T_419cff98_7294_11ea_9ff5_0242ac1c0002row4_col2 {\n",
       "            background-color:  #ead4c8;\n",
       "            color:  #000000;\n",
       "        }    #T_419cff98_7294_11ea_9ff5_0242ac1c0002row4_col3 {\n",
       "            background-color:  #ea7b60;\n",
       "            color:  #000000;\n",
       "        }    #T_419cff98_7294_11ea_9ff5_0242ac1c0002row4_col4 {\n",
       "            background-color:  #b40426;\n",
       "            color:  #f1f1f1;\n",
       "        }    #T_419cff98_7294_11ea_9ff5_0242ac1c0002row4_col5 {\n",
       "            background-color:  #f7a688;\n",
       "            color:  #000000;\n",
       "        }    #T_419cff98_7294_11ea_9ff5_0242ac1c0002row4_col6 {\n",
       "            background-color:  #e7d7ce;\n",
       "            color:  #000000;\n",
       "        }    #T_419cff98_7294_11ea_9ff5_0242ac1c0002row4_col7 {\n",
       "            background-color:  #c1d4f4;\n",
       "            color:  #000000;\n",
       "        }    #T_419cff98_7294_11ea_9ff5_0242ac1c0002row4_col8 {\n",
       "            background-color:  #e2dad5;\n",
       "            color:  #000000;\n",
       "        }    #T_419cff98_7294_11ea_9ff5_0242ac1c0002row4_col9 {\n",
       "            background-color:  #dedcdb;\n",
       "            color:  #000000;\n",
       "        }    #T_419cff98_7294_11ea_9ff5_0242ac1c0002row4_col10 {\n",
       "            background-color:  #f5c2aa;\n",
       "            color:  #000000;\n",
       "        }    #T_419cff98_7294_11ea_9ff5_0242ac1c0002row4_col11 {\n",
       "            background-color:  #e4d9d2;\n",
       "            color:  #000000;\n",
       "        }    #T_419cff98_7294_11ea_9ff5_0242ac1c0002row4_col12 {\n",
       "            background-color:  #dbdcde;\n",
       "            color:  #000000;\n",
       "        }    #T_419cff98_7294_11ea_9ff5_0242ac1c0002row4_col13 {\n",
       "            background-color:  #ebd3c6;\n",
       "            color:  #000000;\n",
       "        }    #T_419cff98_7294_11ea_9ff5_0242ac1c0002row4_col14 {\n",
       "            background-color:  #4055c8;\n",
       "            color:  #f1f1f1;\n",
       "        }    #T_419cff98_7294_11ea_9ff5_0242ac1c0002row4_col15 {\n",
       "            background-color:  #6a8bef;\n",
       "            color:  #000000;\n",
       "        }    #T_419cff98_7294_11ea_9ff5_0242ac1c0002row4_col16 {\n",
       "            background-color:  #e7d7ce;\n",
       "            color:  #000000;\n",
       "        }    #T_419cff98_7294_11ea_9ff5_0242ac1c0002row4_col17 {\n",
       "            background-color:  #edd2c3;\n",
       "            color:  #000000;\n",
       "        }    #T_419cff98_7294_11ea_9ff5_0242ac1c0002row5_col0 {\n",
       "            background-color:  #e4d9d2;\n",
       "            color:  #000000;\n",
       "        }    #T_419cff98_7294_11ea_9ff5_0242ac1c0002row5_col1 {\n",
       "            background-color:  #efcebd;\n",
       "            color:  #000000;\n",
       "        }    #T_419cff98_7294_11ea_9ff5_0242ac1c0002row5_col2 {\n",
       "            background-color:  #f3c7b1;\n",
       "            color:  #000000;\n",
       "        }    #T_419cff98_7294_11ea_9ff5_0242ac1c0002row5_col3 {\n",
       "            background-color:  #f7ad90;\n",
       "            color:  #000000;\n",
       "        }    #T_419cff98_7294_11ea_9ff5_0242ac1c0002row5_col4 {\n",
       "            background-color:  #f7a688;\n",
       "            color:  #000000;\n",
       "        }    #T_419cff98_7294_11ea_9ff5_0242ac1c0002row5_col5 {\n",
       "            background-color:  #b40426;\n",
       "            color:  #f1f1f1;\n",
       "        }    #T_419cff98_7294_11ea_9ff5_0242ac1c0002row5_col6 {\n",
       "            background-color:  #edd1c2;\n",
       "            color:  #000000;\n",
       "        }    #T_419cff98_7294_11ea_9ff5_0242ac1c0002row5_col7 {\n",
       "            background-color:  #c1d4f4;\n",
       "            color:  #000000;\n",
       "        }    #T_419cff98_7294_11ea_9ff5_0242ac1c0002row5_col8 {\n",
       "            background-color:  #ecd3c5;\n",
       "            color:  #000000;\n",
       "        }    #T_419cff98_7294_11ea_9ff5_0242ac1c0002row5_col9 {\n",
       "            background-color:  #f3c8b2;\n",
       "            color:  #000000;\n",
       "        }    #T_419cff98_7294_11ea_9ff5_0242ac1c0002row5_col10 {\n",
       "            background-color:  #f6bda2;\n",
       "            color:  #000000;\n",
       "        }    #T_419cff98_7294_11ea_9ff5_0242ac1c0002row5_col11 {\n",
       "            background-color:  #ead4c8;\n",
       "            color:  #000000;\n",
       "        }    #T_419cff98_7294_11ea_9ff5_0242ac1c0002row5_col12 {\n",
       "            background-color:  #e5d8d1;\n",
       "            color:  #000000;\n",
       "        }    #T_419cff98_7294_11ea_9ff5_0242ac1c0002row5_col13 {\n",
       "            background-color:  #f5c4ac;\n",
       "            color:  #000000;\n",
       "        }    #T_419cff98_7294_11ea_9ff5_0242ac1c0002row5_col14 {\n",
       "            background-color:  #5572df;\n",
       "            color:  #000000;\n",
       "        }    #T_419cff98_7294_11ea_9ff5_0242ac1c0002row5_col15 {\n",
       "            background-color:  #7da0f9;\n",
       "            color:  #000000;\n",
       "        }    #T_419cff98_7294_11ea_9ff5_0242ac1c0002row5_col16 {\n",
       "            background-color:  #c1d4f4;\n",
       "            color:  #000000;\n",
       "        }    #T_419cff98_7294_11ea_9ff5_0242ac1c0002row5_col17 {\n",
       "            background-color:  #dfdbd9;\n",
       "            color:  #000000;\n",
       "        }    #T_419cff98_7294_11ea_9ff5_0242ac1c0002row6_col0 {\n",
       "            background-color:  #d75445;\n",
       "            color:  #000000;\n",
       "        }    #T_419cff98_7294_11ea_9ff5_0242ac1c0002row6_col1 {\n",
       "            background-color:  #d0473d;\n",
       "            color:  #f1f1f1;\n",
       "        }    #T_419cff98_7294_11ea_9ff5_0242ac1c0002row6_col2 {\n",
       "            background-color:  #c53334;\n",
       "            color:  #f1f1f1;\n",
       "        }    #T_419cff98_7294_11ea_9ff5_0242ac1c0002row6_col3 {\n",
       "            background-color:  #e46e56;\n",
       "            color:  #000000;\n",
       "        }    #T_419cff98_7294_11ea_9ff5_0242ac1c0002row6_col4 {\n",
       "            background-color:  #85a8fc;\n",
       "            color:  #000000;\n",
       "        }    #T_419cff98_7294_11ea_9ff5_0242ac1c0002row6_col5 {\n",
       "            background-color:  #97b8ff;\n",
       "            color:  #000000;\n",
       "        }    #T_419cff98_7294_11ea_9ff5_0242ac1c0002row6_col6 {\n",
       "            background-color:  #b40426;\n",
       "            color:  #f1f1f1;\n",
       "        }    #T_419cff98_7294_11ea_9ff5_0242ac1c0002row6_col7 {\n",
       "            background-color:  #3b4cc0;\n",
       "            color:  #f1f1f1;\n",
       "        }    #T_419cff98_7294_11ea_9ff5_0242ac1c0002row6_col8 {\n",
       "            background-color:  #b50927;\n",
       "            color:  #f1f1f1;\n",
       "        }    #T_419cff98_7294_11ea_9ff5_0242ac1c0002row6_col9 {\n",
       "            background-color:  #d85646;\n",
       "            color:  #000000;\n",
       "        }    #T_419cff98_7294_11ea_9ff5_0242ac1c0002row6_col10 {\n",
       "            background-color:  #be242e;\n",
       "            color:  #f1f1f1;\n",
       "        }    #T_419cff98_7294_11ea_9ff5_0242ac1c0002row6_col11 {\n",
       "            background-color:  #b40426;\n",
       "            color:  #f1f1f1;\n",
       "        }    #T_419cff98_7294_11ea_9ff5_0242ac1c0002row6_col12 {\n",
       "            background-color:  #da5a49;\n",
       "            color:  #000000;\n",
       "        }    #T_419cff98_7294_11ea_9ff5_0242ac1c0002row6_col13 {\n",
       "            background-color:  #ccd9ed;\n",
       "            color:  #000000;\n",
       "        }    #T_419cff98_7294_11ea_9ff5_0242ac1c0002row6_col14 {\n",
       "            background-color:  #6788ee;\n",
       "            color:  #000000;\n",
       "        }    #T_419cff98_7294_11ea_9ff5_0242ac1c0002row6_col15 {\n",
       "            background-color:  #abc8fd;\n",
       "            color:  #000000;\n",
       "        }    #T_419cff98_7294_11ea_9ff5_0242ac1c0002row6_col16 {\n",
       "            background-color:  #c7d7f0;\n",
       "            color:  #000000;\n",
       "        }    #T_419cff98_7294_11ea_9ff5_0242ac1c0002row6_col17 {\n",
       "            background-color:  #dcdddd;\n",
       "            color:  #000000;\n",
       "        }    #T_419cff98_7294_11ea_9ff5_0242ac1c0002row7_col0 {\n",
       "            background-color:  #3b4cc0;\n",
       "            color:  #f1f1f1;\n",
       "        }    #T_419cff98_7294_11ea_9ff5_0242ac1c0002row7_col1 {\n",
       "            background-color:  #3b4cc0;\n",
       "            color:  #f1f1f1;\n",
       "        }    #T_419cff98_7294_11ea_9ff5_0242ac1c0002row7_col2 {\n",
       "            background-color:  #3b4cc0;\n",
       "            color:  #f1f1f1;\n",
       "        }    #T_419cff98_7294_11ea_9ff5_0242ac1c0002row7_col3 {\n",
       "            background-color:  #3b4cc0;\n",
       "            color:  #f1f1f1;\n",
       "        }    #T_419cff98_7294_11ea_9ff5_0242ac1c0002row7_col4 {\n",
       "            background-color:  #3b4cc0;\n",
       "            color:  #f1f1f1;\n",
       "        }    #T_419cff98_7294_11ea_9ff5_0242ac1c0002row7_col5 {\n",
       "            background-color:  #3b4cc0;\n",
       "            color:  #f1f1f1;\n",
       "        }    #T_419cff98_7294_11ea_9ff5_0242ac1c0002row7_col6 {\n",
       "            background-color:  #3b4cc0;\n",
       "            color:  #f1f1f1;\n",
       "        }    #T_419cff98_7294_11ea_9ff5_0242ac1c0002row7_col7 {\n",
       "            background-color:  #b40426;\n",
       "            color:  #f1f1f1;\n",
       "        }    #T_419cff98_7294_11ea_9ff5_0242ac1c0002row7_col8 {\n",
       "            background-color:  #3b4cc0;\n",
       "            color:  #f1f1f1;\n",
       "        }    #T_419cff98_7294_11ea_9ff5_0242ac1c0002row7_col9 {\n",
       "            background-color:  #3b4cc0;\n",
       "            color:  #f1f1f1;\n",
       "        }    #T_419cff98_7294_11ea_9ff5_0242ac1c0002row7_col10 {\n",
       "            background-color:  #3b4cc0;\n",
       "            color:  #f1f1f1;\n",
       "        }    #T_419cff98_7294_11ea_9ff5_0242ac1c0002row7_col11 {\n",
       "            background-color:  #3b4cc0;\n",
       "            color:  #f1f1f1;\n",
       "        }    #T_419cff98_7294_11ea_9ff5_0242ac1c0002row7_col12 {\n",
       "            background-color:  #3b4cc0;\n",
       "            color:  #f1f1f1;\n",
       "        }    #T_419cff98_7294_11ea_9ff5_0242ac1c0002row7_col13 {\n",
       "            background-color:  #d8dce2;\n",
       "            color:  #000000;\n",
       "        }    #T_419cff98_7294_11ea_9ff5_0242ac1c0002row7_col14 {\n",
       "            background-color:  #3b4cc0;\n",
       "            color:  #f1f1f1;\n",
       "        }    #T_419cff98_7294_11ea_9ff5_0242ac1c0002row7_col15 {\n",
       "            background-color:  #3b4cc0;\n",
       "            color:  #f1f1f1;\n",
       "        }    #T_419cff98_7294_11ea_9ff5_0242ac1c0002row7_col16 {\n",
       "            background-color:  #b6cefa;\n",
       "            color:  #000000;\n",
       "        }    #T_419cff98_7294_11ea_9ff5_0242ac1c0002row7_col17 {\n",
       "            background-color:  #a6c4fe;\n",
       "            color:  #000000;\n",
       "        }    #T_419cff98_7294_11ea_9ff5_0242ac1c0002row8_col0 {\n",
       "            background-color:  #d75445;\n",
       "            color:  #000000;\n",
       "        }    #T_419cff98_7294_11ea_9ff5_0242ac1c0002row8_col1 {\n",
       "            background-color:  #d0473d;\n",
       "            color:  #f1f1f1;\n",
       "        }    #T_419cff98_7294_11ea_9ff5_0242ac1c0002row8_col2 {\n",
       "            background-color:  #c83836;\n",
       "            color:  #f1f1f1;\n",
       "        }    #T_419cff98_7294_11ea_9ff5_0242ac1c0002row8_col3 {\n",
       "            background-color:  #e8765c;\n",
       "            color:  #000000;\n",
       "        }    #T_419cff98_7294_11ea_9ff5_0242ac1c0002row8_col4 {\n",
       "            background-color:  #7da0f9;\n",
       "            color:  #000000;\n",
       "        }    #T_419cff98_7294_11ea_9ff5_0242ac1c0002row8_col5 {\n",
       "            background-color:  #94b6ff;\n",
       "            color:  #000000;\n",
       "        }    #T_419cff98_7294_11ea_9ff5_0242ac1c0002row8_col6 {\n",
       "            background-color:  #b50927;\n",
       "            color:  #f1f1f1;\n",
       "        }    #T_419cff98_7294_11ea_9ff5_0242ac1c0002row8_col7 {\n",
       "            background-color:  #3e51c5;\n",
       "            color:  #f1f1f1;\n",
       "        }    #T_419cff98_7294_11ea_9ff5_0242ac1c0002row8_col8 {\n",
       "            background-color:  #b40426;\n",
       "            color:  #f1f1f1;\n",
       "        }    #T_419cff98_7294_11ea_9ff5_0242ac1c0002row8_col9 {\n",
       "            background-color:  #d85646;\n",
       "            color:  #000000;\n",
       "        }    #T_419cff98_7294_11ea_9ff5_0242ac1c0002row8_col10 {\n",
       "            background-color:  #c12b30;\n",
       "            color:  #f1f1f1;\n",
       "        }    #T_419cff98_7294_11ea_9ff5_0242ac1c0002row8_col11 {\n",
       "            background-color:  #b50927;\n",
       "            color:  #f1f1f1;\n",
       "        }    #T_419cff98_7294_11ea_9ff5_0242ac1c0002row8_col12 {\n",
       "            background-color:  #da5a49;\n",
       "            color:  #000000;\n",
       "        }    #T_419cff98_7294_11ea_9ff5_0242ac1c0002row8_col13 {\n",
       "            background-color:  #cdd9ec;\n",
       "            color:  #000000;\n",
       "        }    #T_419cff98_7294_11ea_9ff5_0242ac1c0002row8_col14 {\n",
       "            background-color:  #6b8df0;\n",
       "            color:  #000000;\n",
       "        }    #T_419cff98_7294_11ea_9ff5_0242ac1c0002row8_col15 {\n",
       "            background-color:  #adc9fd;\n",
       "            color:  #000000;\n",
       "        }    #T_419cff98_7294_11ea_9ff5_0242ac1c0002row8_col16 {\n",
       "            background-color:  #c3d5f4;\n",
       "            color:  #000000;\n",
       "        }    #T_419cff98_7294_11ea_9ff5_0242ac1c0002row8_col17 {\n",
       "            background-color:  #d9dce1;\n",
       "            color:  #000000;\n",
       "        }    #T_419cff98_7294_11ea_9ff5_0242ac1c0002row9_col0 {\n",
       "            background-color:  #eb7d62;\n",
       "            color:  #000000;\n",
       "        }    #T_419cff98_7294_11ea_9ff5_0242ac1c0002row9_col1 {\n",
       "            background-color:  #ba162b;\n",
       "            color:  #f1f1f1;\n",
       "        }    #T_419cff98_7294_11ea_9ff5_0242ac1c0002row9_col2 {\n",
       "            background-color:  #da5a49;\n",
       "            color:  #000000;\n",
       "        }    #T_419cff98_7294_11ea_9ff5_0242ac1c0002row9_col3 {\n",
       "            background-color:  #f49a7b;\n",
       "            color:  #000000;\n",
       "        }    #T_419cff98_7294_11ea_9ff5_0242ac1c0002row9_col4 {\n",
       "            background-color:  #8db0fe;\n",
       "            color:  #000000;\n",
       "        }    #T_419cff98_7294_11ea_9ff5_0242ac1c0002row9_col5 {\n",
       "            background-color:  #c4d5f3;\n",
       "            color:  #000000;\n",
       "        }    #T_419cff98_7294_11ea_9ff5_0242ac1c0002row9_col6 {\n",
       "            background-color:  #d65244;\n",
       "            color:  #000000;\n",
       "        }    #T_419cff98_7294_11ea_9ff5_0242ac1c0002row9_col7 {\n",
       "            background-color:  #5a78e4;\n",
       "            color:  #000000;\n",
       "        }    #T_419cff98_7294_11ea_9ff5_0242ac1c0002row9_col8 {\n",
       "            background-color:  #d65244;\n",
       "            color:  #000000;\n",
       "        }    #T_419cff98_7294_11ea_9ff5_0242ac1c0002row9_col9 {\n",
       "            background-color:  #b40426;\n",
       "            color:  #f1f1f1;\n",
       "        }    #T_419cff98_7294_11ea_9ff5_0242ac1c0002row9_col10 {\n",
       "            background-color:  #df634e;\n",
       "            color:  #000000;\n",
       "        }    #T_419cff98_7294_11ea_9ff5_0242ac1c0002row9_col11 {\n",
       "            background-color:  #d75445;\n",
       "            color:  #000000;\n",
       "        }    #T_419cff98_7294_11ea_9ff5_0242ac1c0002row9_col12 {\n",
       "            background-color:  #cf453c;\n",
       "            color:  #f1f1f1;\n",
       "        }    #T_419cff98_7294_11ea_9ff5_0242ac1c0002row9_col13 {\n",
       "            background-color:  #d8dce2;\n",
       "            color:  #000000;\n",
       "        }    #T_419cff98_7294_11ea_9ff5_0242ac1c0002row9_col14 {\n",
       "            background-color:  #7699f6;\n",
       "            color:  #000000;\n",
       "        }    #T_419cff98_7294_11ea_9ff5_0242ac1c0002row9_col15 {\n",
       "            background-color:  #6c8ff1;\n",
       "            color:  #000000;\n",
       "        }    #T_419cff98_7294_11ea_9ff5_0242ac1c0002row9_col16 {\n",
       "            background-color:  #afcafc;\n",
       "            color:  #000000;\n",
       "        }    #T_419cff98_7294_11ea_9ff5_0242ac1c0002row9_col17 {\n",
       "            background-color:  #d4dbe6;\n",
       "            color:  #000000;\n",
       "        }    #T_419cff98_7294_11ea_9ff5_0242ac1c0002row10_col0 {\n",
       "            background-color:  #df634e;\n",
       "            color:  #000000;\n",
       "        }    #T_419cff98_7294_11ea_9ff5_0242ac1c0002row10_col1 {\n",
       "            background-color:  #d85646;\n",
       "            color:  #000000;\n",
       "        }    #T_419cff98_7294_11ea_9ff5_0242ac1c0002row10_col2 {\n",
       "            background-color:  #cd423b;\n",
       "            color:  #f1f1f1;\n",
       "        }    #T_419cff98_7294_11ea_9ff5_0242ac1c0002row10_col3 {\n",
       "            background-color:  #da5a49;\n",
       "            color:  #000000;\n",
       "        }    #T_419cff98_7294_11ea_9ff5_0242ac1c0002row10_col4 {\n",
       "            background-color:  #bed2f6;\n",
       "            color:  #000000;\n",
       "        }    #T_419cff98_7294_11ea_9ff5_0242ac1c0002row10_col5 {\n",
       "            background-color:  #c6d6f1;\n",
       "            color:  #000000;\n",
       "        }    #T_419cff98_7294_11ea_9ff5_0242ac1c0002row10_col6 {\n",
       "            background-color:  #be242e;\n",
       "            color:  #f1f1f1;\n",
       "        }    #T_419cff98_7294_11ea_9ff5_0242ac1c0002row10_col7 {\n",
       "            background-color:  #4055c8;\n",
       "            color:  #f1f1f1;\n",
       "        }    #T_419cff98_7294_11ea_9ff5_0242ac1c0002row10_col8 {\n",
       "            background-color:  #c12b30;\n",
       "            color:  #f1f1f1;\n",
       "        }    #T_419cff98_7294_11ea_9ff5_0242ac1c0002row10_col9 {\n",
       "            background-color:  #e26952;\n",
       "            color:  #000000;\n",
       "        }    #T_419cff98_7294_11ea_9ff5_0242ac1c0002row10_col10 {\n",
       "            background-color:  #b40426;\n",
       "            color:  #f1f1f1;\n",
       "        }    #T_419cff98_7294_11ea_9ff5_0242ac1c0002row10_col11 {\n",
       "            background-color:  #be242e;\n",
       "            color:  #f1f1f1;\n",
       "        }    #T_419cff98_7294_11ea_9ff5_0242ac1c0002row10_col12 {\n",
       "            background-color:  #de614d;\n",
       "            color:  #000000;\n",
       "        }    #T_419cff98_7294_11ea_9ff5_0242ac1c0002row10_col13 {\n",
       "            background-color:  #e3d9d3;\n",
       "            color:  #000000;\n",
       "        }    #T_419cff98_7294_11ea_9ff5_0242ac1c0002row10_col14 {\n",
       "            background-color:  #5b7ae5;\n",
       "            color:  #000000;\n",
       "        }    #T_419cff98_7294_11ea_9ff5_0242ac1c0002row10_col15 {\n",
       "            background-color:  #a6c4fe;\n",
       "            color:  #000000;\n",
       "        }    #T_419cff98_7294_11ea_9ff5_0242ac1c0002row10_col16 {\n",
       "            background-color:  #c9d7f0;\n",
       "            color:  #000000;\n",
       "        }    #T_419cff98_7294_11ea_9ff5_0242ac1c0002row10_col17 {\n",
       "            background-color:  #d7dce3;\n",
       "            color:  #000000;\n",
       "        }    #T_419cff98_7294_11ea_9ff5_0242ac1c0002row11_col0 {\n",
       "            background-color:  #d65244;\n",
       "            color:  #000000;\n",
       "        }    #T_419cff98_7294_11ea_9ff5_0242ac1c0002row11_col1 {\n",
       "            background-color:  #d1493f;\n",
       "            color:  #f1f1f1;\n",
       "        }    #T_419cff98_7294_11ea_9ff5_0242ac1c0002row11_col2 {\n",
       "            background-color:  #c83836;\n",
       "            color:  #f1f1f1;\n",
       "        }    #T_419cff98_7294_11ea_9ff5_0242ac1c0002row11_col3 {\n",
       "            background-color:  #e67259;\n",
       "            color:  #000000;\n",
       "        }    #T_419cff98_7294_11ea_9ff5_0242ac1c0002row11_col4 {\n",
       "            background-color:  #81a4fb;\n",
       "            color:  #000000;\n",
       "        }    #T_419cff98_7294_11ea_9ff5_0242ac1c0002row11_col5 {\n",
       "            background-color:  #8fb1fe;\n",
       "            color:  #000000;\n",
       "        }    #T_419cff98_7294_11ea_9ff5_0242ac1c0002row11_col6 {\n",
       "            background-color:  #b40426;\n",
       "            color:  #f1f1f1;\n",
       "        }    #T_419cff98_7294_11ea_9ff5_0242ac1c0002row11_col7 {\n",
       "            background-color:  #3d50c3;\n",
       "            color:  #f1f1f1;\n",
       "        }    #T_419cff98_7294_11ea_9ff5_0242ac1c0002row11_col8 {\n",
       "            background-color:  #b50927;\n",
       "            color:  #f1f1f1;\n",
       "        }    #T_419cff98_7294_11ea_9ff5_0242ac1c0002row11_col9 {\n",
       "            background-color:  #da5a49;\n",
       "            color:  #000000;\n",
       "        }    #T_419cff98_7294_11ea_9ff5_0242ac1c0002row11_col10 {\n",
       "            background-color:  #be242e;\n",
       "            color:  #f1f1f1;\n",
       "        }    #T_419cff98_7294_11ea_9ff5_0242ac1c0002row11_col11 {\n",
       "            background-color:  #b40426;\n",
       "            color:  #f1f1f1;\n",
       "        }    #T_419cff98_7294_11ea_9ff5_0242ac1c0002row11_col12 {\n",
       "            background-color:  #da5a49;\n",
       "            color:  #000000;\n",
       "        }    #T_419cff98_7294_11ea_9ff5_0242ac1c0002row11_col13 {\n",
       "            background-color:  #ccd9ed;\n",
       "            color:  #000000;\n",
       "        }    #T_419cff98_7294_11ea_9ff5_0242ac1c0002row11_col14 {\n",
       "            background-color:  #6788ee;\n",
       "            color:  #000000;\n",
       "        }    #T_419cff98_7294_11ea_9ff5_0242ac1c0002row11_col15 {\n",
       "            background-color:  #aac7fd;\n",
       "            color:  #000000;\n",
       "        }    #T_419cff98_7294_11ea_9ff5_0242ac1c0002row11_col16 {\n",
       "            background-color:  #c7d7f0;\n",
       "            color:  #000000;\n",
       "        }    #T_419cff98_7294_11ea_9ff5_0242ac1c0002row11_col17 {\n",
       "            background-color:  #dadce0;\n",
       "            color:  #000000;\n",
       "        }    #T_419cff98_7294_11ea_9ff5_0242ac1c0002row12_col0 {\n",
       "            background-color:  #f29274;\n",
       "            color:  #000000;\n",
       "        }    #T_419cff98_7294_11ea_9ff5_0242ac1c0002row12_col1 {\n",
       "            background-color:  #c0282f;\n",
       "            color:  #f1f1f1;\n",
       "        }    #T_419cff98_7294_11ea_9ff5_0242ac1c0002row12_col2 {\n",
       "            background-color:  #e46e56;\n",
       "            color:  #000000;\n",
       "        }    #T_419cff98_7294_11ea_9ff5_0242ac1c0002row12_col3 {\n",
       "            background-color:  #f6a283;\n",
       "            color:  #000000;\n",
       "        }    #T_419cff98_7294_11ea_9ff5_0242ac1c0002row12_col4 {\n",
       "            background-color:  #89acfd;\n",
       "            color:  #000000;\n",
       "        }    #T_419cff98_7294_11ea_9ff5_0242ac1c0002row12_col5 {\n",
       "            background-color:  #9ebeff;\n",
       "            color:  #000000;\n",
       "        }    #T_419cff98_7294_11ea_9ff5_0242ac1c0002row12_col6 {\n",
       "            background-color:  #d65244;\n",
       "            color:  #000000;\n",
       "        }    #T_419cff98_7294_11ea_9ff5_0242ac1c0002row12_col7 {\n",
       "            background-color:  #5b7ae5;\n",
       "            color:  #000000;\n",
       "        }    #T_419cff98_7294_11ea_9ff5_0242ac1c0002row12_col8 {\n",
       "            background-color:  #d75445;\n",
       "            color:  #000000;\n",
       "        }    #T_419cff98_7294_11ea_9ff5_0242ac1c0002row12_col9 {\n",
       "            background-color:  #cf453c;\n",
       "            color:  #f1f1f1;\n",
       "        }    #T_419cff98_7294_11ea_9ff5_0242ac1c0002row12_col10 {\n",
       "            background-color:  #da5a49;\n",
       "            color:  #000000;\n",
       "        }    #T_419cff98_7294_11ea_9ff5_0242ac1c0002row12_col11 {\n",
       "            background-color:  #d75445;\n",
       "            color:  #000000;\n",
       "        }    #T_419cff98_7294_11ea_9ff5_0242ac1c0002row12_col12 {\n",
       "            background-color:  #b40426;\n",
       "            color:  #f1f1f1;\n",
       "        }    #T_419cff98_7294_11ea_9ff5_0242ac1c0002row12_col13 {\n",
       "            background-color:  #ebd3c6;\n",
       "            color:  #000000;\n",
       "        }    #T_419cff98_7294_11ea_9ff5_0242ac1c0002row12_col14 {\n",
       "            background-color:  #86a9fc;\n",
       "            color:  #000000;\n",
       "        }    #T_419cff98_7294_11ea_9ff5_0242ac1c0002row12_col15 {\n",
       "            background-color:  #5d7ce6;\n",
       "            color:  #000000;\n",
       "        }    #T_419cff98_7294_11ea_9ff5_0242ac1c0002row12_col16 {\n",
       "            background-color:  #98b9ff;\n",
       "            color:  #000000;\n",
       "        }    #T_419cff98_7294_11ea_9ff5_0242ac1c0002row12_col17 {\n",
       "            background-color:  #b2ccfb;\n",
       "            color:  #000000;\n",
       "        }    #T_419cff98_7294_11ea_9ff5_0242ac1c0002row13_col0 {\n",
       "            background-color:  #a3c2fe;\n",
       "            color:  #000000;\n",
       "        }    #T_419cff98_7294_11ea_9ff5_0242ac1c0002row13_col1 {\n",
       "            background-color:  #dddcdc;\n",
       "            color:  #000000;\n",
       "        }    #T_419cff98_7294_11ea_9ff5_0242ac1c0002row13_col2 {\n",
       "            background-color:  #b9d0f9;\n",
       "            color:  #000000;\n",
       "        }    #T_419cff98_7294_11ea_9ff5_0242ac1c0002row13_col3 {\n",
       "            background-color:  #b6cefa;\n",
       "            color:  #000000;\n",
       "        }    #T_419cff98_7294_11ea_9ff5_0242ac1c0002row13_col4 {\n",
       "            background-color:  #a9c6fd;\n",
       "            color:  #000000;\n",
       "        }    #T_419cff98_7294_11ea_9ff5_0242ac1c0002row13_col5 {\n",
       "            background-color:  #cad8ef;\n",
       "            color:  #000000;\n",
       "        }    #T_419cff98_7294_11ea_9ff5_0242ac1c0002row13_col6 {\n",
       "            background-color:  #dadce0;\n",
       "            color:  #000000;\n",
       "        }    #T_419cff98_7294_11ea_9ff5_0242ac1c0002row13_col7 {\n",
       "            background-color:  #e5d8d1;\n",
       "            color:  #000000;\n",
       "        }    #T_419cff98_7294_11ea_9ff5_0242ac1c0002row13_col8 {\n",
       "            background-color:  #dadce0;\n",
       "            color:  #000000;\n",
       "        }    #T_419cff98_7294_11ea_9ff5_0242ac1c0002row13_col9 {\n",
       "            background-color:  #d7dce3;\n",
       "            color:  #000000;\n",
       "        }    #T_419cff98_7294_11ea_9ff5_0242ac1c0002row13_col10 {\n",
       "            background-color:  #ecd3c5;\n",
       "            color:  #000000;\n",
       "        }    #T_419cff98_7294_11ea_9ff5_0242ac1c0002row13_col11 {\n",
       "            background-color:  #dadce0;\n",
       "            color:  #000000;\n",
       "        }    #T_419cff98_7294_11ea_9ff5_0242ac1c0002row13_col12 {\n",
       "            background-color:  #ead4c8;\n",
       "            color:  #000000;\n",
       "        }    #T_419cff98_7294_11ea_9ff5_0242ac1c0002row13_col13 {\n",
       "            background-color:  #b40426;\n",
       "            color:  #f1f1f1;\n",
       "        }    #T_419cff98_7294_11ea_9ff5_0242ac1c0002row13_col14 {\n",
       "            background-color:  #3b4cc0;\n",
       "            color:  #f1f1f1;\n",
       "        }    #T_419cff98_7294_11ea_9ff5_0242ac1c0002row13_col15 {\n",
       "            background-color:  #4a63d3;\n",
       "            color:  #f1f1f1;\n",
       "        }    #T_419cff98_7294_11ea_9ff5_0242ac1c0002row13_col16 {\n",
       "            background-color:  #3b4cc0;\n",
       "            color:  #f1f1f1;\n",
       "        }    #T_419cff98_7294_11ea_9ff5_0242ac1c0002row13_col17 {\n",
       "            background-color:  #3b4cc0;\n",
       "            color:  #f1f1f1;\n",
       "        }    #T_419cff98_7294_11ea_9ff5_0242ac1c0002row14_col0 {\n",
       "            background-color:  #ebd3c6;\n",
       "            color:  #000000;\n",
       "        }    #T_419cff98_7294_11ea_9ff5_0242ac1c0002row14_col1 {\n",
       "            background-color:  #e7d7ce;\n",
       "            color:  #000000;\n",
       "        }    #T_419cff98_7294_11ea_9ff5_0242ac1c0002row14_col2 {\n",
       "            background-color:  #e6d7cf;\n",
       "            color:  #000000;\n",
       "        }    #T_419cff98_7294_11ea_9ff5_0242ac1c0002row14_col3 {\n",
       "            background-color:  #d4dbe6;\n",
       "            color:  #000000;\n",
       "        }    #T_419cff98_7294_11ea_9ff5_0242ac1c0002row14_col4 {\n",
       "            background-color:  #5e7de7;\n",
       "            color:  #000000;\n",
       "        }    #T_419cff98_7294_11ea_9ff5_0242ac1c0002row14_col5 {\n",
       "            background-color:  #7295f4;\n",
       "            color:  #000000;\n",
       "        }    #T_419cff98_7294_11ea_9ff5_0242ac1c0002row14_col6 {\n",
       "            background-color:  #e6d7cf;\n",
       "            color:  #000000;\n",
       "        }    #T_419cff98_7294_11ea_9ff5_0242ac1c0002row14_col7 {\n",
       "            background-color:  #d3dbe7;\n",
       "            color:  #000000;\n",
       "        }    #T_419cff98_7294_11ea_9ff5_0242ac1c0002row14_col8 {\n",
       "            background-color:  #e7d7ce;\n",
       "            color:  #000000;\n",
       "        }    #T_419cff98_7294_11ea_9ff5_0242ac1c0002row14_col9 {\n",
       "            background-color:  #e0dbd8;\n",
       "            color:  #000000;\n",
       "        }    #T_419cff98_7294_11ea_9ff5_0242ac1c0002row14_col10 {\n",
       "            background-color:  #dfdbd9;\n",
       "            color:  #000000;\n",
       "        }    #T_419cff98_7294_11ea_9ff5_0242ac1c0002row14_col11 {\n",
       "            background-color:  #e5d8d1;\n",
       "            color:  #000000;\n",
       "        }    #T_419cff98_7294_11ea_9ff5_0242ac1c0002row14_col12 {\n",
       "            background-color:  #e6d7cf;\n",
       "            color:  #000000;\n",
       "        }    #T_419cff98_7294_11ea_9ff5_0242ac1c0002row14_col13 {\n",
       "            background-color:  #c3d5f4;\n",
       "            color:  #000000;\n",
       "        }    #T_419cff98_7294_11ea_9ff5_0242ac1c0002row14_col14 {\n",
       "            background-color:  #b40426;\n",
       "            color:  #f1f1f1;\n",
       "        }    #T_419cff98_7294_11ea_9ff5_0242ac1c0002row14_col15 {\n",
       "            background-color:  #6687ed;\n",
       "            color:  #000000;\n",
       "        }    #T_419cff98_7294_11ea_9ff5_0242ac1c0002row14_col16 {\n",
       "            background-color:  #d6dce4;\n",
       "            color:  #000000;\n",
       "        }    #T_419cff98_7294_11ea_9ff5_0242ac1c0002row14_col17 {\n",
       "            background-color:  #d9dce1;\n",
       "            color:  #000000;\n",
       "        }    #T_419cff98_7294_11ea_9ff5_0242ac1c0002row15_col0 {\n",
       "            background-color:  #e4d9d2;\n",
       "            color:  #000000;\n",
       "        }    #T_419cff98_7294_11ea_9ff5_0242ac1c0002row15_col1 {\n",
       "            background-color:  #ccd9ed;\n",
       "            color:  #000000;\n",
       "        }    #T_419cff98_7294_11ea_9ff5_0242ac1c0002row15_col2 {\n",
       "            background-color:  #f3c7b1;\n",
       "            color:  #000000;\n",
       "        }    #T_419cff98_7294_11ea_9ff5_0242ac1c0002row15_col3 {\n",
       "            background-color:  #e8d6cc;\n",
       "            color:  #000000;\n",
       "        }    #T_419cff98_7294_11ea_9ff5_0242ac1c0002row15_col4 {\n",
       "            background-color:  #6687ed;\n",
       "            color:  #000000;\n",
       "        }    #T_419cff98_7294_11ea_9ff5_0242ac1c0002row15_col5 {\n",
       "            background-color:  #799cf8;\n",
       "            color:  #000000;\n",
       "        }    #T_419cff98_7294_11ea_9ff5_0242ac1c0002row15_col6 {\n",
       "            background-color:  #f2cbb7;\n",
       "            color:  #000000;\n",
       "        }    #T_419cff98_7294_11ea_9ff5_0242ac1c0002row15_col7 {\n",
       "            background-color:  #bfd3f6;\n",
       "            color:  #000000;\n",
       "        }    #T_419cff98_7294_11ea_9ff5_0242ac1c0002row15_col8 {\n",
       "            background-color:  #f2cbb7;\n",
       "            color:  #000000;\n",
       "        }    #T_419cff98_7294_11ea_9ff5_0242ac1c0002row15_col9 {\n",
       "            background-color:  #cbd8ee;\n",
       "            color:  #000000;\n",
       "        }    #T_419cff98_7294_11ea_9ff5_0242ac1c0002row15_col10 {\n",
       "            background-color:  #efcfbf;\n",
       "            color:  #000000;\n",
       "        }    #T_419cff98_7294_11ea_9ff5_0242ac1c0002row15_col11 {\n",
       "            background-color:  #f1cdba;\n",
       "            color:  #000000;\n",
       "        }    #T_419cff98_7294_11ea_9ff5_0242ac1c0002row15_col12 {\n",
       "            background-color:  #c0d4f5;\n",
       "            color:  #000000;\n",
       "        }    #T_419cff98_7294_11ea_9ff5_0242ac1c0002row15_col13 {\n",
       "            background-color:  #b6cefa;\n",
       "            color:  #000000;\n",
       "        }    #T_419cff98_7294_11ea_9ff5_0242ac1c0002row15_col14 {\n",
       "            background-color:  #445acc;\n",
       "            color:  #f1f1f1;\n",
       "        }    #T_419cff98_7294_11ea_9ff5_0242ac1c0002row15_col15 {\n",
       "            background-color:  #b40426;\n",
       "            color:  #f1f1f1;\n",
       "        }    #T_419cff98_7294_11ea_9ff5_0242ac1c0002row15_col16 {\n",
       "            background-color:  #dadce0;\n",
       "            color:  #000000;\n",
       "        }    #T_419cff98_7294_11ea_9ff5_0242ac1c0002row15_col17 {\n",
       "            background-color:  #edd2c3;\n",
       "            color:  #000000;\n",
       "        }    #T_419cff98_7294_11ea_9ff5_0242ac1c0002row16_col0 {\n",
       "            background-color:  #f2cbb7;\n",
       "            color:  #000000;\n",
       "        }    #T_419cff98_7294_11ea_9ff5_0242ac1c0002row16_col1 {\n",
       "            background-color:  #b7cff9;\n",
       "            color:  #000000;\n",
       "        }    #T_419cff98_7294_11ea_9ff5_0242ac1c0002row16_col2 {\n",
       "            background-color:  #e9d5cb;\n",
       "            color:  #000000;\n",
       "        }    #T_419cff98_7294_11ea_9ff5_0242ac1c0002row16_col3 {\n",
       "            background-color:  #f5c0a7;\n",
       "            color:  #000000;\n",
       "        }    #T_419cff98_7294_11ea_9ff5_0242ac1c0002row16_col4 {\n",
       "            background-color:  #a5c3fe;\n",
       "            color:  #000000;\n",
       "        }    #T_419cff98_7294_11ea_9ff5_0242ac1c0002row16_col5 {\n",
       "            background-color:  #5e7de7;\n",
       "            color:  #000000;\n",
       "        }    #T_419cff98_7294_11ea_9ff5_0242ac1c0002row16_col6 {\n",
       "            background-color:  #dadce0;\n",
       "            color:  #000000;\n",
       "        }    #T_419cff98_7294_11ea_9ff5_0242ac1c0002row16_col7 {\n",
       "            background-color:  #ccd9ed;\n",
       "            color:  #000000;\n",
       "        }    #T_419cff98_7294_11ea_9ff5_0242ac1c0002row16_col8 {\n",
       "            background-color:  #d5dbe5;\n",
       "            color:  #000000;\n",
       "        }    #T_419cff98_7294_11ea_9ff5_0242ac1c0002row16_col9 {\n",
       "            background-color:  #b3cdfb;\n",
       "            color:  #000000;\n",
       "        }    #T_419cff98_7294_11ea_9ff5_0242ac1c0002row16_col10 {\n",
       "            background-color:  #d8dce2;\n",
       "            color:  #000000;\n",
       "        }    #T_419cff98_7294_11ea_9ff5_0242ac1c0002row16_col11 {\n",
       "            background-color:  #d9dce1;\n",
       "            color:  #000000;\n",
       "        }    #T_419cff98_7294_11ea_9ff5_0242ac1c0002row16_col12 {\n",
       "            background-color:  #9abbff;\n",
       "            color:  #000000;\n",
       "        }    #T_419cff98_7294_11ea_9ff5_0242ac1c0002row16_col13 {\n",
       "            background-color:  #4055c8;\n",
       "            color:  #f1f1f1;\n",
       "        }    #T_419cff98_7294_11ea_9ff5_0242ac1c0002row16_col14 {\n",
       "            background-color:  #6485ec;\n",
       "            color:  #000000;\n",
       "        }    #T_419cff98_7294_11ea_9ff5_0242ac1c0002row16_col15 {\n",
       "            background-color:  #8db0fe;\n",
       "            color:  #000000;\n",
       "        }    #T_419cff98_7294_11ea_9ff5_0242ac1c0002row16_col16 {\n",
       "            background-color:  #b40426;\n",
       "            color:  #f1f1f1;\n",
       "        }    #T_419cff98_7294_11ea_9ff5_0242ac1c0002row16_col17 {\n",
       "            background-color:  #c83836;\n",
       "            color:  #f1f1f1;\n",
       "        }    #T_419cff98_7294_11ea_9ff5_0242ac1c0002row17_col0 {\n",
       "            background-color:  #f5c0a7;\n",
       "            color:  #000000;\n",
       "        }    #T_419cff98_7294_11ea_9ff5_0242ac1c0002row17_col1 {\n",
       "            background-color:  #d1dae9;\n",
       "            color:  #000000;\n",
       "        }    #T_419cff98_7294_11ea_9ff5_0242ac1c0002row17_col2 {\n",
       "            background-color:  #f6bea4;\n",
       "            color:  #000000;\n",
       "        }    #T_419cff98_7294_11ea_9ff5_0242ac1c0002row17_col3 {\n",
       "            background-color:  #f7b194;\n",
       "            color:  #000000;\n",
       "        }    #T_419cff98_7294_11ea_9ff5_0242ac1c0002row17_col4 {\n",
       "            background-color:  #aec9fc;\n",
       "            color:  #000000;\n",
       "        }    #T_419cff98_7294_11ea_9ff5_0242ac1c0002row17_col5 {\n",
       "            background-color:  #8fb1fe;\n",
       "            color:  #000000;\n",
       "        }    #T_419cff98_7294_11ea_9ff5_0242ac1c0002row17_col6 {\n",
       "            background-color:  #e8d6cc;\n",
       "            color:  #000000;\n",
       "        }    #T_419cff98_7294_11ea_9ff5_0242ac1c0002row17_col7 {\n",
       "            background-color:  #bcd2f7;\n",
       "            color:  #000000;\n",
       "        }    #T_419cff98_7294_11ea_9ff5_0242ac1c0002row17_col8 {\n",
       "            background-color:  #e4d9d2;\n",
       "            color:  #000000;\n",
       "        }    #T_419cff98_7294_11ea_9ff5_0242ac1c0002row17_col9 {\n",
       "            background-color:  #d3dbe7;\n",
       "            color:  #000000;\n",
       "        }    #T_419cff98_7294_11ea_9ff5_0242ac1c0002row17_col10 {\n",
       "            background-color:  #e2dad5;\n",
       "            color:  #000000;\n",
       "        }    #T_419cff98_7294_11ea_9ff5_0242ac1c0002row17_col11 {\n",
       "            background-color:  #e5d8d1;\n",
       "            color:  #000000;\n",
       "        }    #T_419cff98_7294_11ea_9ff5_0242ac1c0002row17_col12 {\n",
       "            background-color:  #afcafc;\n",
       "            color:  #000000;\n",
       "        }    #T_419cff98_7294_11ea_9ff5_0242ac1c0002row17_col13 {\n",
       "            background-color:  #3b4cc0;\n",
       "            color:  #f1f1f1;\n",
       "        }    #T_419cff98_7294_11ea_9ff5_0242ac1c0002row17_col14 {\n",
       "            background-color:  #6485ec;\n",
       "            color:  #000000;\n",
       "        }    #T_419cff98_7294_11ea_9ff5_0242ac1c0002row17_col15 {\n",
       "            background-color:  #b1cbfc;\n",
       "            color:  #000000;\n",
       "        }    #T_419cff98_7294_11ea_9ff5_0242ac1c0002row17_col16 {\n",
       "            background-color:  #c83836;\n",
       "            color:  #f1f1f1;\n",
       "        }    #T_419cff98_7294_11ea_9ff5_0242ac1c0002row17_col17 {\n",
       "            background-color:  #b40426;\n",
       "            color:  #f1f1f1;\n",
       "        }</style><table id=\"T_419cff98_7294_11ea_9ff5_0242ac1c0002\" ><thead>    <tr>        <th class=\"blank level0\" ></th>        <th class=\"col_heading level0 col0\" >1</th>        <th class=\"col_heading level0 col1\" >2</th>        <th class=\"col_heading level0 col2\" >3</th>        <th class=\"col_heading level0 col3\" >4</th>        <th class=\"col_heading level0 col4\" >5</th>        <th class=\"col_heading level0 col5\" >6</th>        <th class=\"col_heading level0 col6\" >7</th>        <th class=\"col_heading level0 col7\" >8</th>        <th class=\"col_heading level0 col8\" >9</th>        <th class=\"col_heading level0 col9\" >10</th>        <th class=\"col_heading level0 col10\" >11</th>        <th class=\"col_heading level0 col11\" >12</th>        <th class=\"col_heading level0 col12\" >13</th>        <th class=\"col_heading level0 col13\" >14</th>        <th class=\"col_heading level0 col14\" >15</th>        <th class=\"col_heading level0 col15\" >16</th>        <th class=\"col_heading level0 col16\" >17</th>        <th class=\"col_heading level0 col17\" >18</th>    </tr></thead><tbody>\n",
       "                <tr>\n",
       "                        <th id=\"T_419cff98_7294_11ea_9ff5_0242ac1c0002level0_row0\" class=\"row_heading level0 row0\" >1</th>\n",
       "                        <td id=\"T_419cff98_7294_11ea_9ff5_0242ac1c0002row0_col0\" class=\"data row0 col0\" >1</td>\n",
       "                        <td id=\"T_419cff98_7294_11ea_9ff5_0242ac1c0002row0_col1\" class=\"data row0 col1\" >0.683</td>\n",
       "                        <td id=\"T_419cff98_7294_11ea_9ff5_0242ac1c0002row0_col2\" class=\"data row0 col2\" >0.798</td>\n",
       "                        <td id=\"T_419cff98_7294_11ea_9ff5_0242ac1c0002row0_col3\" class=\"data row0 col3\" >0.684</td>\n",
       "                        <td id=\"T_419cff98_7294_11ea_9ff5_0242ac1c0002row0_col4\" class=\"data row0 col4\" >0.093</td>\n",
       "                        <td id=\"T_419cff98_7294_11ea_9ff5_0242ac1c0002row0_col5\" class=\"data row0 col5\" >0.154</td>\n",
       "                        <td id=\"T_419cff98_7294_11ea_9ff5_0242ac1c0002row0_col6\" class=\"data row0 col6\" >0.816</td>\n",
       "                        <td id=\"T_419cff98_7294_11ea_9ff5_0242ac1c0002row0_col7\" class=\"data row0 col7\" >-0.79</td>\n",
       "                        <td id=\"T_419cff98_7294_11ea_9ff5_0242ac1c0002row0_col8\" class=\"data row0 col8\" >0.818</td>\n",
       "                        <td id=\"T_419cff98_7294_11ea_9ff5_0242ac1c0002row0_col9\" class=\"data row0 col9\" >0.665</td>\n",
       "                        <td id=\"T_419cff98_7294_11ea_9ff5_0242ac1c0002row0_col10\" class=\"data row0 col10\" >0.769</td>\n",
       "                        <td id=\"T_419cff98_7294_11ea_9ff5_0242ac1c0002row0_col11\" class=\"data row0 col11\" >0.822</td>\n",
       "                        <td id=\"T_419cff98_7294_11ea_9ff5_0242ac1c0002row0_col12\" class=\"data row0 col12\" >0.581</td>\n",
       "                        <td id=\"T_419cff98_7294_11ea_9ff5_0242ac1c0002row0_col13\" class=\"data row0 col13\" >-0.225</td>\n",
       "                        <td id=\"T_419cff98_7294_11ea_9ff5_0242ac1c0002row0_col14\" class=\"data row0 col14\" >0.213</td>\n",
       "                        <td id=\"T_419cff98_7294_11ea_9ff5_0242ac1c0002row0_col15\" class=\"data row0 col15\" >0.156</td>\n",
       "                        <td id=\"T_419cff98_7294_11ea_9ff5_0242ac1c0002row0_col16\" class=\"data row0 col16\" >0.285</td>\n",
       "                        <td id=\"T_419cff98_7294_11ea_9ff5_0242ac1c0002row0_col17\" class=\"data row0 col17\" >0.35</td>\n",
       "            </tr>\n",
       "            <tr>\n",
       "                        <th id=\"T_419cff98_7294_11ea_9ff5_0242ac1c0002level0_row1\" class=\"row_heading level0 row1\" >2</th>\n",
       "                        <td id=\"T_419cff98_7294_11ea_9ff5_0242ac1c0002row1_col0\" class=\"data row1 col0\" >0.683</td>\n",
       "                        <td id=\"T_419cff98_7294_11ea_9ff5_0242ac1c0002row1_col1\" class=\"data row1 col1\" >1</td>\n",
       "                        <td id=\"T_419cff98_7294_11ea_9ff5_0242ac1c0002row1_col2\" class=\"data row1 col2\" >0.801</td>\n",
       "                        <td id=\"T_419cff98_7294_11ea_9ff5_0242ac1c0002row1_col3\" class=\"data row1 col3\" >0.601</td>\n",
       "                        <td id=\"T_419cff98_7294_11ea_9ff5_0242ac1c0002row1_col4\" class=\"data row1 col4\" >0.135</td>\n",
       "                        <td id=\"T_419cff98_7294_11ea_9ff5_0242ac1c0002row1_col5\" class=\"data row1 col5\" >0.24</td>\n",
       "                        <td id=\"T_419cff98_7294_11ea_9ff5_0242ac1c0002row1_col6\" class=\"data row1 col6\" >0.857</td>\n",
       "                        <td id=\"T_419cff98_7294_11ea_9ff5_0242ac1c0002row1_col7\" class=\"data row1 col7\" >-0.821</td>\n",
       "                        <td id=\"T_419cff98_7294_11ea_9ff5_0242ac1c0002row1_col8\" class=\"data row1 col8\" >0.854</td>\n",
       "                        <td id=\"T_419cff98_7294_11ea_9ff5_0242ac1c0002row1_col9\" class=\"data row1 col9\" >0.965</td>\n",
       "                        <td id=\"T_419cff98_7294_11ea_9ff5_0242ac1c0002row1_col10\" class=\"data row1 col10\" >0.803</td>\n",
       "                        <td id=\"T_419cff98_7294_11ea_9ff5_0242ac1c0002row1_col11\" class=\"data row1 col11\" >0.849</td>\n",
       "                        <td id=\"T_419cff98_7294_11ea_9ff5_0242ac1c0002row1_col12\" class=\"data row1 col12\" >0.938</td>\n",
       "                        <td id=\"T_419cff98_7294_11ea_9ff5_0242ac1c0002row1_col13\" class=\"data row1 col13\" >0.092</td>\n",
       "                        <td id=\"T_419cff98_7294_11ea_9ff5_0242ac1c0002row1_col14\" class=\"data row1 col14\" >0.161</td>\n",
       "                        <td id=\"T_419cff98_7294_11ea_9ff5_0242ac1c0002row1_col15\" class=\"data row1 col15\" >-0.02</td>\n",
       "                        <td id=\"T_419cff98_7294_11ea_9ff5_0242ac1c0002row1_col16\" class=\"data row1 col16\" >-0.14</td>\n",
       "                        <td id=\"T_419cff98_7294_11ea_9ff5_0242ac1c0002row1_col17\" class=\"data row1 col17\" >0.008</td>\n",
       "            </tr>\n",
       "            <tr>\n",
       "                        <th id=\"T_419cff98_7294_11ea_9ff5_0242ac1c0002level0_row2\" class=\"row_heading level0 row2\" >3</th>\n",
       "                        <td id=\"T_419cff98_7294_11ea_9ff5_0242ac1c0002row2_col0\" class=\"data row2 col0\" >0.798</td>\n",
       "                        <td id=\"T_419cff98_7294_11ea_9ff5_0242ac1c0002row2_col1\" class=\"data row2 col1\" >0.801</td>\n",
       "                        <td id=\"T_419cff98_7294_11ea_9ff5_0242ac1c0002row2_col2\" class=\"data row2 col2\" >1</td>\n",
       "                        <td id=\"T_419cff98_7294_11ea_9ff5_0242ac1c0002row2_col3\" class=\"data row2 col3\" >0.756</td>\n",
       "                        <td id=\"T_419cff98_7294_11ea_9ff5_0242ac1c0002row2_col4\" class=\"data row2 col4\" >0.153</td>\n",
       "                        <td id=\"T_419cff98_7294_11ea_9ff5_0242ac1c0002row2_col5\" class=\"data row2 col5\" >0.265</td>\n",
       "                        <td id=\"T_419cff98_7294_11ea_9ff5_0242ac1c0002row2_col6\" class=\"data row2 col6\" >0.906</td>\n",
       "                        <td id=\"T_419cff98_7294_11ea_9ff5_0242ac1c0002row2_col7\" class=\"data row2 col7\" >-0.912</td>\n",
       "                        <td id=\"T_419cff98_7294_11ea_9ff5_0242ac1c0002row2_col8\" class=\"data row2 col8\" >0.893</td>\n",
       "                        <td id=\"T_419cff98_7294_11ea_9ff5_0242ac1c0002row2_col9\" class=\"data row2 col9\" >0.78</td>\n",
       "                        <td id=\"T_419cff98_7294_11ea_9ff5_0242ac1c0002row2_col10\" class=\"data row2 col10\" >0.861</td>\n",
       "                        <td id=\"T_419cff98_7294_11ea_9ff5_0242ac1c0002row2_col11\" class=\"data row2 col11\" >0.888</td>\n",
       "                        <td id=\"T_419cff98_7294_11ea_9ff5_0242ac1c0002row2_col12\" class=\"data row2 col12\" >0.706</td>\n",
       "                        <td id=\"T_419cff98_7294_11ea_9ff5_0242ac1c0002row2_col13\" class=\"data row2 col13\" >-0.193</td>\n",
       "                        <td id=\"T_419cff98_7294_11ea_9ff5_0242ac1c0002row2_col14\" class=\"data row2 col14\" >0.116</td>\n",
       "                        <td id=\"T_419cff98_7294_11ea_9ff5_0242ac1c0002row2_col15\" class=\"data row2 col15\" >0.265</td>\n",
       "                        <td id=\"T_419cff98_7294_11ea_9ff5_0242ac1c0002row2_col16\" class=\"data row2 col16\" >0.141</td>\n",
       "                        <td id=\"T_419cff98_7294_11ea_9ff5_0242ac1c0002row2_col17\" class=\"data row2 col17\" >0.323</td>\n",
       "            </tr>\n",
       "            <tr>\n",
       "                        <th id=\"T_419cff98_7294_11ea_9ff5_0242ac1c0002level0_row3\" class=\"row_heading level0 row3\" >4</th>\n",
       "                        <td id=\"T_419cff98_7294_11ea_9ff5_0242ac1c0002row3_col0\" class=\"data row3 col0\" >0.684</td>\n",
       "                        <td id=\"T_419cff98_7294_11ea_9ff5_0242ac1c0002row3_col1\" class=\"data row3 col1\" >0.601</td>\n",
       "                        <td id=\"T_419cff98_7294_11ea_9ff5_0242ac1c0002row3_col2\" class=\"data row3 col2\" >0.756</td>\n",
       "                        <td id=\"T_419cff98_7294_11ea_9ff5_0242ac1c0002row3_col3\" class=\"data row3 col3\" >1</td>\n",
       "                        <td id=\"T_419cff98_7294_11ea_9ff5_0242ac1c0002row3_col4\" class=\"data row3 col4\" >0.678</td>\n",
       "                        <td id=\"T_419cff98_7294_11ea_9ff5_0242ac1c0002row3_col5\" class=\"data row3 col5\" >0.465</td>\n",
       "                        <td id=\"T_419cff98_7294_11ea_9ff5_0242ac1c0002row3_col6\" class=\"data row3 col6\" >0.723</td>\n",
       "                        <td id=\"T_419cff98_7294_11ea_9ff5_0242ac1c0002row3_col7\" class=\"data row3 col7\" >-0.775</td>\n",
       "                        <td id=\"T_419cff98_7294_11ea_9ff5_0242ac1c0002row3_col8\" class=\"data row3 col8\" >0.695</td>\n",
       "                        <td id=\"T_419cff98_7294_11ea_9ff5_0242ac1c0002row3_col9\" class=\"data row3 col9\" >0.554</td>\n",
       "                        <td id=\"T_419cff98_7294_11ea_9ff5_0242ac1c0002row3_col10\" class=\"data row3 col10\" >0.795</td>\n",
       "                        <td id=\"T_419cff98_7294_11ea_9ff5_0242ac1c0002row3_col11\" class=\"data row3 col11\" >0.709</td>\n",
       "                        <td id=\"T_419cff98_7294_11ea_9ff5_0242ac1c0002row3_col12\" class=\"data row3 col12\" >0.519</td>\n",
       "                        <td id=\"T_419cff98_7294_11ea_9ff5_0242ac1c0002row3_col13\" class=\"data row3 col13\" >-0.119</td>\n",
       "                        <td id=\"T_419cff98_7294_11ea_9ff5_0242ac1c0002row3_col14\" class=\"data row3 col14\" >0.057</td>\n",
       "                        <td id=\"T_419cff98_7294_11ea_9ff5_0242ac1c0002row3_col15\" class=\"data row3 col15\" >0.194</td>\n",
       "                        <td id=\"T_419cff98_7294_11ea_9ff5_0242ac1c0002row3_col16\" class=\"data row3 col16\" >0.357</td>\n",
       "                        <td id=\"T_419cff98_7294_11ea_9ff5_0242ac1c0002row3_col17\" class=\"data row3 col17\" >0.442</td>\n",
       "            </tr>\n",
       "            <tr>\n",
       "                        <th id=\"T_419cff98_7294_11ea_9ff5_0242ac1c0002level0_row4\" class=\"row_heading level0 row4\" >5</th>\n",
       "                        <td id=\"T_419cff98_7294_11ea_9ff5_0242ac1c0002row4_col0\" class=\"data row4 col0\" >0.093</td>\n",
       "                        <td id=\"T_419cff98_7294_11ea_9ff5_0242ac1c0002row4_col1\" class=\"data row4 col1\" >0.135</td>\n",
       "                        <td id=\"T_419cff98_7294_11ea_9ff5_0242ac1c0002row4_col2\" class=\"data row4 col2\" >0.153</td>\n",
       "                        <td id=\"T_419cff98_7294_11ea_9ff5_0242ac1c0002row4_col3\" class=\"data row4 col3\" >0.678</td>\n",
       "                        <td id=\"T_419cff98_7294_11ea_9ff5_0242ac1c0002row4_col4\" class=\"data row4 col4\" >1</td>\n",
       "                        <td id=\"T_419cff98_7294_11ea_9ff5_0242ac1c0002row4_col5\" class=\"data row4 col5\" >0.667</td>\n",
       "                        <td id=\"T_419cff98_7294_11ea_9ff5_0242ac1c0002row4_col6\" class=\"data row4 col6\" >0.096</td>\n",
       "                        <td id=\"T_419cff98_7294_11ea_9ff5_0242ac1c0002row4_col7\" class=\"data row4 col7\" >-0.172</td>\n",
       "                        <td id=\"T_419cff98_7294_11ea_9ff5_0242ac1c0002row4_col8\" class=\"data row4 col8\" >0.069</td>\n",
       "                        <td id=\"T_419cff98_7294_11ea_9ff5_0242ac1c0002row4_col9\" class=\"data row4 col9\" >0.123</td>\n",
       "                        <td id=\"T_419cff98_7294_11ea_9ff5_0242ac1c0002row4_col10\" class=\"data row4 col10\" >0.286</td>\n",
       "                        <td id=\"T_419cff98_7294_11ea_9ff5_0242ac1c0002row4_col11\" class=\"data row4 col11\" >0.08</td>\n",
       "                        <td id=\"T_419cff98_7294_11ea_9ff5_0242ac1c0002row4_col12\" class=\"data row4 col12\" >0.108</td>\n",
       "                        <td id=\"T_419cff98_7294_11ea_9ff5_0242ac1c0002row4_col13\" class=\"data row4 col13\" >0.215</td>\n",
       "                        <td id=\"T_419cff98_7294_11ea_9ff5_0242ac1c0002row4_col14\" class=\"data row4 col14\" >-0.039</td>\n",
       "                        <td id=\"T_419cff98_7294_11ea_9ff5_0242ac1c0002row4_col15\" class=\"data row4 col15\" >-0.01</td>\n",
       "                        <td id=\"T_419cff98_7294_11ea_9ff5_0242ac1c0002row4_col16\" class=\"data row4 col16\" >0.199</td>\n",
       "                        <td id=\"T_419cff98_7294_11ea_9ff5_0242ac1c0002row4_col17\" class=\"data row4 col17\" >0.232</td>\n",
       "            </tr>\n",
       "            <tr>\n",
       "                        <th id=\"T_419cff98_7294_11ea_9ff5_0242ac1c0002level0_row5\" class=\"row_heading level0 row5\" >6</th>\n",
       "                        <td id=\"T_419cff98_7294_11ea_9ff5_0242ac1c0002row5_col0\" class=\"data row5 col0\" >0.154</td>\n",
       "                        <td id=\"T_419cff98_7294_11ea_9ff5_0242ac1c0002row5_col1\" class=\"data row5 col1\" >0.24</td>\n",
       "                        <td id=\"T_419cff98_7294_11ea_9ff5_0242ac1c0002row5_col2\" class=\"data row5 col2\" >0.265</td>\n",
       "                        <td id=\"T_419cff98_7294_11ea_9ff5_0242ac1c0002row5_col3\" class=\"data row5 col3\" >0.465</td>\n",
       "                        <td id=\"T_419cff98_7294_11ea_9ff5_0242ac1c0002row5_col4\" class=\"data row5 col4\" >0.667</td>\n",
       "                        <td id=\"T_419cff98_7294_11ea_9ff5_0242ac1c0002row5_col5\" class=\"data row5 col5\" >1</td>\n",
       "                        <td id=\"T_419cff98_7294_11ea_9ff5_0242ac1c0002row5_col6\" class=\"data row5 col6\" >0.154</td>\n",
       "                        <td id=\"T_419cff98_7294_11ea_9ff5_0242ac1c0002row5_col7\" class=\"data row5 col7\" >-0.171</td>\n",
       "                        <td id=\"T_419cff98_7294_11ea_9ff5_0242ac1c0002row5_col8\" class=\"data row5 col8\" >0.148</td>\n",
       "                        <td id=\"T_419cff98_7294_11ea_9ff5_0242ac1c0002row5_col9\" class=\"data row5 col9\" >0.311</td>\n",
       "                        <td id=\"T_419cff98_7294_11ea_9ff5_0242ac1c0002row5_col10\" class=\"data row5 col10\" >0.322</td>\n",
       "                        <td id=\"T_419cff98_7294_11ea_9ff5_0242ac1c0002row5_col11\" class=\"data row5 col11\" >0.13</td>\n",
       "                        <td id=\"T_419cff98_7294_11ea_9ff5_0242ac1c0002row5_col12\" class=\"data row5 col12\" >0.179</td>\n",
       "                        <td id=\"T_419cff98_7294_11ea_9ff5_0242ac1c0002row5_col13\" class=\"data row5 col13\" >0.333</td>\n",
       "                        <td id=\"T_419cff98_7294_11ea_9ff5_0242ac1c0002row5_col14\" class=\"data row5 col14\" >0.031</td>\n",
       "                        <td id=\"T_419cff98_7294_11ea_9ff5_0242ac1c0002row5_col15\" class=\"data row5 col15\" >0.054</td>\n",
       "                        <td id=\"T_419cff98_7294_11ea_9ff5_0242ac1c0002row5_col16\" class=\"data row5 col16\" >-0.038</td>\n",
       "                        <td id=\"T_419cff98_7294_11ea_9ff5_0242ac1c0002row5_col17\" class=\"data row5 col17\" >0.127</td>\n",
       "            </tr>\n",
       "            <tr>\n",
       "                        <th id=\"T_419cff98_7294_11ea_9ff5_0242ac1c0002level0_row6\" class=\"row_heading level0 row6\" >7</th>\n",
       "                        <td id=\"T_419cff98_7294_11ea_9ff5_0242ac1c0002row6_col0\" class=\"data row6 col0\" >0.816</td>\n",
       "                        <td id=\"T_419cff98_7294_11ea_9ff5_0242ac1c0002row6_col1\" class=\"data row6 col1\" >0.857</td>\n",
       "                        <td id=\"T_419cff98_7294_11ea_9ff5_0242ac1c0002row6_col2\" class=\"data row6 col2\" >0.906</td>\n",
       "                        <td id=\"T_419cff98_7294_11ea_9ff5_0242ac1c0002row6_col3\" class=\"data row6 col3\" >0.723</td>\n",
       "                        <td id=\"T_419cff98_7294_11ea_9ff5_0242ac1c0002row6_col4\" class=\"data row6 col4\" >0.096</td>\n",
       "                        <td id=\"T_419cff98_7294_11ea_9ff5_0242ac1c0002row6_col5\" class=\"data row6 col5\" >0.154</td>\n",
       "                        <td id=\"T_419cff98_7294_11ea_9ff5_0242ac1c0002row6_col6\" class=\"data row6 col6\" >1</td>\n",
       "                        <td id=\"T_419cff98_7294_11ea_9ff5_0242ac1c0002row6_col7\" class=\"data row6 col7\" >-0.972</td>\n",
       "                        <td id=\"T_419cff98_7294_11ea_9ff5_0242ac1c0002row6_col8\" class=\"data row6 col8\" >0.992</td>\n",
       "                        <td id=\"T_419cff98_7294_11ea_9ff5_0242ac1c0002row6_col9\" class=\"data row6 col9\" >0.807</td>\n",
       "                        <td id=\"T_419cff98_7294_11ea_9ff5_0242ac1c0002row6_col10\" class=\"data row6 col10\" >0.945</td>\n",
       "                        <td id=\"T_419cff98_7294_11ea_9ff5_0242ac1c0002row6_col11\" class=\"data row6 col11\" >0.996</td>\n",
       "                        <td id=\"T_419cff98_7294_11ea_9ff5_0242ac1c0002row6_col12\" class=\"data row6 col12\" >0.8</td>\n",
       "                        <td id=\"T_419cff98_7294_11ea_9ff5_0242ac1c0002row6_col13\" class=\"data row6 col13\" >-0.003</td>\n",
       "                        <td id=\"T_419cff98_7294_11ea_9ff5_0242ac1c0002row6_col14\" class=\"data row6 col14\" >0.089</td>\n",
       "                        <td id=\"T_419cff98_7294_11ea_9ff5_0242ac1c0002row6_col15\" class=\"data row6 col15\" >0.213</td>\n",
       "                        <td id=\"T_419cff98_7294_11ea_9ff5_0242ac1c0002row6_col16\" class=\"data row6 col16\" >-0.005</td>\n",
       "                        <td id=\"T_419cff98_7294_11ea_9ff5_0242ac1c0002row6_col17\" class=\"data row6 col17\" >0.105</td>\n",
       "            </tr>\n",
       "            <tr>\n",
       "                        <th id=\"T_419cff98_7294_11ea_9ff5_0242ac1c0002level0_row7\" class=\"row_heading level0 row7\" >8</th>\n",
       "                        <td id=\"T_419cff98_7294_11ea_9ff5_0242ac1c0002row7_col0\" class=\"data row7 col0\" >-0.79</td>\n",
       "                        <td id=\"T_419cff98_7294_11ea_9ff5_0242ac1c0002row7_col1\" class=\"data row7 col1\" >-0.821</td>\n",
       "                        <td id=\"T_419cff98_7294_11ea_9ff5_0242ac1c0002row7_col2\" class=\"data row7 col2\" >-0.912</td>\n",
       "                        <td id=\"T_419cff98_7294_11ea_9ff5_0242ac1c0002row7_col3\" class=\"data row7 col3\" >-0.775</td>\n",
       "                        <td id=\"T_419cff98_7294_11ea_9ff5_0242ac1c0002row7_col4\" class=\"data row7 col4\" >-0.172</td>\n",
       "                        <td id=\"T_419cff98_7294_11ea_9ff5_0242ac1c0002row7_col5\" class=\"data row7 col5\" >-0.171</td>\n",
       "                        <td id=\"T_419cff98_7294_11ea_9ff5_0242ac1c0002row7_col6\" class=\"data row7 col6\" >-0.972</td>\n",
       "                        <td id=\"T_419cff98_7294_11ea_9ff5_0242ac1c0002row7_col7\" class=\"data row7 col7\" >1</td>\n",
       "                        <td id=\"T_419cff98_7294_11ea_9ff5_0242ac1c0002row7_col8\" class=\"data row7 col8\" >-0.948</td>\n",
       "                        <td id=\"T_419cff98_7294_11ea_9ff5_0242ac1c0002row7_col9\" class=\"data row7 col9\" >-0.771</td>\n",
       "                        <td id=\"T_419cff98_7294_11ea_9ff5_0242ac1c0002row7_col10\" class=\"data row7 col10\" >-0.932</td>\n",
       "                        <td id=\"T_419cff98_7294_11ea_9ff5_0242ac1c0002row7_col11\" class=\"data row7 col11\" >-0.954</td>\n",
       "                        <td id=\"T_419cff98_7294_11ea_9ff5_0242ac1c0002row7_col12\" class=\"data row7 col12\" >-0.76</td>\n",
       "                        <td id=\"T_419cff98_7294_11ea_9ff5_0242ac1c0002row7_col13\" class=\"data row7 col13\" >0.079</td>\n",
       "                        <td id=\"T_419cff98_7294_11ea_9ff5_0242ac1c0002row7_col14\" class=\"data row7 col14\" >-0.061</td>\n",
       "                        <td id=\"T_419cff98_7294_11ea_9ff5_0242ac1c0002row7_col15\" class=\"data row7 col15\" >-0.191</td>\n",
       "                        <td id=\"T_419cff98_7294_11ea_9ff5_0242ac1c0002row7_col16\" class=\"data row7 col16\" >-0.105</td>\n",
       "                        <td id=\"T_419cff98_7294_11ea_9ff5_0242ac1c0002row7_col17\" class=\"data row7 col17\" >-0.208</td>\n",
       "            </tr>\n",
       "            <tr>\n",
       "                        <th id=\"T_419cff98_7294_11ea_9ff5_0242ac1c0002level0_row8\" class=\"row_heading level0 row8\" >9</th>\n",
       "                        <td id=\"T_419cff98_7294_11ea_9ff5_0242ac1c0002row8_col0\" class=\"data row8 col0\" >0.818</td>\n",
       "                        <td id=\"T_419cff98_7294_11ea_9ff5_0242ac1c0002row8_col1\" class=\"data row8 col1\" >0.854</td>\n",
       "                        <td id=\"T_419cff98_7294_11ea_9ff5_0242ac1c0002row8_col2\" class=\"data row8 col2\" >0.893</td>\n",
       "                        <td id=\"T_419cff98_7294_11ea_9ff5_0242ac1c0002row8_col3\" class=\"data row8 col3\" >0.695</td>\n",
       "                        <td id=\"T_419cff98_7294_11ea_9ff5_0242ac1c0002row8_col4\" class=\"data row8 col4\" >0.069</td>\n",
       "                        <td id=\"T_419cff98_7294_11ea_9ff5_0242ac1c0002row8_col5\" class=\"data row8 col5\" >0.148</td>\n",
       "                        <td id=\"T_419cff98_7294_11ea_9ff5_0242ac1c0002row8_col6\" class=\"data row8 col6\" >0.992</td>\n",
       "                        <td id=\"T_419cff98_7294_11ea_9ff5_0242ac1c0002row8_col7\" class=\"data row8 col7\" >-0.948</td>\n",
       "                        <td id=\"T_419cff98_7294_11ea_9ff5_0242ac1c0002row8_col8\" class=\"data row8 col8\" >1</td>\n",
       "                        <td id=\"T_419cff98_7294_11ea_9ff5_0242ac1c0002row8_col9\" class=\"data row8 col9\" >0.808</td>\n",
       "                        <td id=\"T_419cff98_7294_11ea_9ff5_0242ac1c0002row8_col10\" class=\"data row8 col10\" >0.931</td>\n",
       "                        <td id=\"T_419cff98_7294_11ea_9ff5_0242ac1c0002row8_col11\" class=\"data row8 col11\" >0.992</td>\n",
       "                        <td id=\"T_419cff98_7294_11ea_9ff5_0242ac1c0002row8_col12\" class=\"data row8 col12\" >0.797</td>\n",
       "                        <td id=\"T_419cff98_7294_11ea_9ff5_0242ac1c0002row8_col13\" class=\"data row8 col13\" >0.007</td>\n",
       "                        <td id=\"T_419cff98_7294_11ea_9ff5_0242ac1c0002row8_col14\" class=\"data row8 col14\" >0.104</td>\n",
       "                        <td id=\"T_419cff98_7294_11ea_9ff5_0242ac1c0002row8_col15\" class=\"data row8 col15\" >0.218</td>\n",
       "                        <td id=\"T_419cff98_7294_11ea_9ff5_0242ac1c0002row8_col16\" class=\"data row8 col16\" >-0.031</td>\n",
       "                        <td id=\"T_419cff98_7294_11ea_9ff5_0242ac1c0002row8_col17\" class=\"data row8 col17\" >0.081</td>\n",
       "            </tr>\n",
       "            <tr>\n",
       "                        <th id=\"T_419cff98_7294_11ea_9ff5_0242ac1c0002level0_row9\" class=\"row_heading level0 row9\" >10</th>\n",
       "                        <td id=\"T_419cff98_7294_11ea_9ff5_0242ac1c0002row9_col0\" class=\"data row9 col0\" >0.665</td>\n",
       "                        <td id=\"T_419cff98_7294_11ea_9ff5_0242ac1c0002row9_col1\" class=\"data row9 col1\" >0.965</td>\n",
       "                        <td id=\"T_419cff98_7294_11ea_9ff5_0242ac1c0002row9_col2\" class=\"data row9 col2\" >0.78</td>\n",
       "                        <td id=\"T_419cff98_7294_11ea_9ff5_0242ac1c0002row9_col3\" class=\"data row9 col3\" >0.554</td>\n",
       "                        <td id=\"T_419cff98_7294_11ea_9ff5_0242ac1c0002row9_col4\" class=\"data row9 col4\" >0.123</td>\n",
       "                        <td id=\"T_419cff98_7294_11ea_9ff5_0242ac1c0002row9_col5\" class=\"data row9 col5\" >0.311</td>\n",
       "                        <td id=\"T_419cff98_7294_11ea_9ff5_0242ac1c0002row9_col6\" class=\"data row9 col6\" >0.807</td>\n",
       "                        <td id=\"T_419cff98_7294_11ea_9ff5_0242ac1c0002row9_col7\" class=\"data row9 col7\" >-0.771</td>\n",
       "                        <td id=\"T_419cff98_7294_11ea_9ff5_0242ac1c0002row9_col8\" class=\"data row9 col8\" >0.808</td>\n",
       "                        <td id=\"T_419cff98_7294_11ea_9ff5_0242ac1c0002row9_col9\" class=\"data row9 col9\" >1</td>\n",
       "                        <td id=\"T_419cff98_7294_11ea_9ff5_0242ac1c0002row9_col10\" class=\"data row9 col10\" >0.745</td>\n",
       "                        <td id=\"T_419cff98_7294_11ea_9ff5_0242ac1c0002row9_col11\" class=\"data row9 col11\" >0.794</td>\n",
       "                        <td id=\"T_419cff98_7294_11ea_9ff5_0242ac1c0002row9_col12\" class=\"data row9 col12\" >0.866</td>\n",
       "                        <td id=\"T_419cff98_7294_11ea_9ff5_0242ac1c0002row9_col13\" class=\"data row9 col13\" >0.075</td>\n",
       "                        <td id=\"T_419cff98_7294_11ea_9ff5_0242ac1c0002row9_col14\" class=\"data row9 col14\" >0.137</td>\n",
       "                        <td id=\"T_419cff98_7294_11ea_9ff5_0242ac1c0002row9_col15\" class=\"data row9 col15\" >-0.002</td>\n",
       "                        <td id=\"T_419cff98_7294_11ea_9ff5_0242ac1c0002row9_col16\" class=\"data row9 col16\" >-0.134</td>\n",
       "                        <td id=\"T_419cff98_7294_11ea_9ff5_0242ac1c0002row9_col17\" class=\"data row9 col17\" >0.048</td>\n",
       "            </tr>\n",
       "            <tr>\n",
       "                        <th id=\"T_419cff98_7294_11ea_9ff5_0242ac1c0002level0_row10\" class=\"row_heading level0 row10\" >11</th>\n",
       "                        <td id=\"T_419cff98_7294_11ea_9ff5_0242ac1c0002row10_col0\" class=\"data row10 col0\" >0.769</td>\n",
       "                        <td id=\"T_419cff98_7294_11ea_9ff5_0242ac1c0002row10_col1\" class=\"data row10 col1\" >0.803</td>\n",
       "                        <td id=\"T_419cff98_7294_11ea_9ff5_0242ac1c0002row10_col2\" class=\"data row10 col2\" >0.861</td>\n",
       "                        <td id=\"T_419cff98_7294_11ea_9ff5_0242ac1c0002row10_col3\" class=\"data row10 col3\" >0.795</td>\n",
       "                        <td id=\"T_419cff98_7294_11ea_9ff5_0242ac1c0002row10_col4\" class=\"data row10 col4\" >0.286</td>\n",
       "                        <td id=\"T_419cff98_7294_11ea_9ff5_0242ac1c0002row10_col5\" class=\"data row10 col5\" >0.322</td>\n",
       "                        <td id=\"T_419cff98_7294_11ea_9ff5_0242ac1c0002row10_col6\" class=\"data row10 col6\" >0.945</td>\n",
       "                        <td id=\"T_419cff98_7294_11ea_9ff5_0242ac1c0002row10_col7\" class=\"data row10 col7\" >-0.932</td>\n",
       "                        <td id=\"T_419cff98_7294_11ea_9ff5_0242ac1c0002row10_col8\" class=\"data row10 col8\" >0.931</td>\n",
       "                        <td id=\"T_419cff98_7294_11ea_9ff5_0242ac1c0002row10_col9\" class=\"data row10 col9\" >0.745</td>\n",
       "                        <td id=\"T_419cff98_7294_11ea_9ff5_0242ac1c0002row10_col10\" class=\"data row10 col10\" >1</td>\n",
       "                        <td id=\"T_419cff98_7294_11ea_9ff5_0242ac1c0002row10_col11\" class=\"data row10 col11\" >0.943</td>\n",
       "                        <td id=\"T_419cff98_7294_11ea_9ff5_0242ac1c0002row10_col12\" class=\"data row10 col12\" >0.779</td>\n",
       "                        <td id=\"T_419cff98_7294_11ea_9ff5_0242ac1c0002row10_col13\" class=\"data row10 col13\" >0.155</td>\n",
       "                        <td id=\"T_419cff98_7294_11ea_9ff5_0242ac1c0002row10_col14\" class=\"data row10 col14\" >0.051</td>\n",
       "                        <td id=\"T_419cff98_7294_11ea_9ff5_0242ac1c0002row10_col15\" class=\"data row10 col15\" >0.192</td>\n",
       "                        <td id=\"T_419cff98_7294_11ea_9ff5_0242ac1c0002row10_col16\" class=\"data row10 col16\" >0.002</td>\n",
       "                        <td id=\"T_419cff98_7294_11ea_9ff5_0242ac1c0002row10_col17\" class=\"data row10 col17\" >0.072</td>\n",
       "            </tr>\n",
       "            <tr>\n",
       "                        <th id=\"T_419cff98_7294_11ea_9ff5_0242ac1c0002level0_row11\" class=\"row_heading level0 row11\" >12</th>\n",
       "                        <td id=\"T_419cff98_7294_11ea_9ff5_0242ac1c0002row11_col0\" class=\"data row11 col0\" >0.822</td>\n",
       "                        <td id=\"T_419cff98_7294_11ea_9ff5_0242ac1c0002row11_col1\" class=\"data row11 col1\" >0.849</td>\n",
       "                        <td id=\"T_419cff98_7294_11ea_9ff5_0242ac1c0002row11_col2\" class=\"data row11 col2\" >0.888</td>\n",
       "                        <td id=\"T_419cff98_7294_11ea_9ff5_0242ac1c0002row11_col3\" class=\"data row11 col3\" >0.709</td>\n",
       "                        <td id=\"T_419cff98_7294_11ea_9ff5_0242ac1c0002row11_col4\" class=\"data row11 col4\" >0.08</td>\n",
       "                        <td id=\"T_419cff98_7294_11ea_9ff5_0242ac1c0002row11_col5\" class=\"data row11 col5\" >0.13</td>\n",
       "                        <td id=\"T_419cff98_7294_11ea_9ff5_0242ac1c0002row11_col6\" class=\"data row11 col6\" >0.996</td>\n",
       "                        <td id=\"T_419cff98_7294_11ea_9ff5_0242ac1c0002row11_col7\" class=\"data row11 col7\" >-0.954</td>\n",
       "                        <td id=\"T_419cff98_7294_11ea_9ff5_0242ac1c0002row11_col8\" class=\"data row11 col8\" >0.992</td>\n",
       "                        <td id=\"T_419cff98_7294_11ea_9ff5_0242ac1c0002row11_col9\" class=\"data row11 col9\" >0.794</td>\n",
       "                        <td id=\"T_419cff98_7294_11ea_9ff5_0242ac1c0002row11_col10\" class=\"data row11 col10\" >0.943</td>\n",
       "                        <td id=\"T_419cff98_7294_11ea_9ff5_0242ac1c0002row11_col11\" class=\"data row11 col11\" >1</td>\n",
       "                        <td id=\"T_419cff98_7294_11ea_9ff5_0242ac1c0002row11_col12\" class=\"data row11 col12\" >0.797</td>\n",
       "                        <td id=\"T_419cff98_7294_11ea_9ff5_0242ac1c0002row11_col13\" class=\"data row11 col13\" >0.003</td>\n",
       "                        <td id=\"T_419cff98_7294_11ea_9ff5_0242ac1c0002row11_col14\" class=\"data row11 col14\" >0.091</td>\n",
       "                        <td id=\"T_419cff98_7294_11ea_9ff5_0242ac1c0002row11_col15\" class=\"data row11 col15\" >0.205</td>\n",
       "                        <td id=\"T_419cff98_7294_11ea_9ff5_0242ac1c0002row11_col16\" class=\"data row11 col16\" >-0.004</td>\n",
       "                        <td id=\"T_419cff98_7294_11ea_9ff5_0242ac1c0002row11_col17\" class=\"data row11 col17\" >0.089</td>\n",
       "            </tr>\n",
       "            <tr>\n",
       "                        <th id=\"T_419cff98_7294_11ea_9ff5_0242ac1c0002level0_row12\" class=\"row_heading level0 row12\" >13</th>\n",
       "                        <td id=\"T_419cff98_7294_11ea_9ff5_0242ac1c0002row12_col0\" class=\"data row12 col0\" >0.581</td>\n",
       "                        <td id=\"T_419cff98_7294_11ea_9ff5_0242ac1c0002row12_col1\" class=\"data row12 col1\" >0.938</td>\n",
       "                        <td id=\"T_419cff98_7294_11ea_9ff5_0242ac1c0002row12_col2\" class=\"data row12 col2\" >0.706</td>\n",
       "                        <td id=\"T_419cff98_7294_11ea_9ff5_0242ac1c0002row12_col3\" class=\"data row12 col3\" >0.519</td>\n",
       "                        <td id=\"T_419cff98_7294_11ea_9ff5_0242ac1c0002row12_col4\" class=\"data row12 col4\" >0.108</td>\n",
       "                        <td id=\"T_419cff98_7294_11ea_9ff5_0242ac1c0002row12_col5\" class=\"data row12 col5\" >0.179</td>\n",
       "                        <td id=\"T_419cff98_7294_11ea_9ff5_0242ac1c0002row12_col6\" class=\"data row12 col6\" >0.8</td>\n",
       "                        <td id=\"T_419cff98_7294_11ea_9ff5_0242ac1c0002row12_col7\" class=\"data row12 col7\" >-0.76</td>\n",
       "                        <td id=\"T_419cff98_7294_11ea_9ff5_0242ac1c0002row12_col8\" class=\"data row12 col8\" >0.797</td>\n",
       "                        <td id=\"T_419cff98_7294_11ea_9ff5_0242ac1c0002row12_col9\" class=\"data row12 col9\" >0.866</td>\n",
       "                        <td id=\"T_419cff98_7294_11ea_9ff5_0242ac1c0002row12_col10\" class=\"data row12 col10\" >0.779</td>\n",
       "                        <td id=\"T_419cff98_7294_11ea_9ff5_0242ac1c0002row12_col11\" class=\"data row12 col11\" >0.797</td>\n",
       "                        <td id=\"T_419cff98_7294_11ea_9ff5_0242ac1c0002row12_col12\" class=\"data row12 col12\" >1</td>\n",
       "                        <td id=\"T_419cff98_7294_11ea_9ff5_0242ac1c0002row12_col13\" class=\"data row12 col13\" >0.219</td>\n",
       "                        <td id=\"T_419cff98_7294_11ea_9ff5_0242ac1c0002row12_col14\" class=\"data row12 col14\" >0.184</td>\n",
       "                        <td id=\"T_419cff98_7294_11ea_9ff5_0242ac1c0002row12_col15\" class=\"data row12 col15\" >-0.057</td>\n",
       "                        <td id=\"T_419cff98_7294_11ea_9ff5_0242ac1c0002row12_col16\" class=\"data row12 col16\" >-0.252</td>\n",
       "                        <td id=\"T_419cff98_7294_11ea_9ff5_0242ac1c0002row12_col17\" class=\"data row12 col17\" >-0.147</td>\n",
       "            </tr>\n",
       "            <tr>\n",
       "                        <th id=\"T_419cff98_7294_11ea_9ff5_0242ac1c0002level0_row13\" class=\"row_heading level0 row13\" >14</th>\n",
       "                        <td id=\"T_419cff98_7294_11ea_9ff5_0242ac1c0002row13_col0\" class=\"data row13 col0\" >-0.225</td>\n",
       "                        <td id=\"T_419cff98_7294_11ea_9ff5_0242ac1c0002row13_col1\" class=\"data row13 col1\" >0.092</td>\n",
       "                        <td id=\"T_419cff98_7294_11ea_9ff5_0242ac1c0002row13_col2\" class=\"data row13 col2\" >-0.193</td>\n",
       "                        <td id=\"T_419cff98_7294_11ea_9ff5_0242ac1c0002row13_col3\" class=\"data row13 col3\" >-0.119</td>\n",
       "                        <td id=\"T_419cff98_7294_11ea_9ff5_0242ac1c0002row13_col4\" class=\"data row13 col4\" >0.215</td>\n",
       "                        <td id=\"T_419cff98_7294_11ea_9ff5_0242ac1c0002row13_col5\" class=\"data row13 col5\" >0.333</td>\n",
       "                        <td id=\"T_419cff98_7294_11ea_9ff5_0242ac1c0002row13_col6\" class=\"data row13 col6\" >-0.003</td>\n",
       "                        <td id=\"T_419cff98_7294_11ea_9ff5_0242ac1c0002row13_col7\" class=\"data row13 col7\" >0.079</td>\n",
       "                        <td id=\"T_419cff98_7294_11ea_9ff5_0242ac1c0002row13_col8\" class=\"data row13 col8\" >0.007</td>\n",
       "                        <td id=\"T_419cff98_7294_11ea_9ff5_0242ac1c0002row13_col9\" class=\"data row13 col9\" >0.075</td>\n",
       "                        <td id=\"T_419cff98_7294_11ea_9ff5_0242ac1c0002row13_col10\" class=\"data row13 col10\" >0.155</td>\n",
       "                        <td id=\"T_419cff98_7294_11ea_9ff5_0242ac1c0002row13_col11\" class=\"data row13 col11\" >0.003</td>\n",
       "                        <td id=\"T_419cff98_7294_11ea_9ff5_0242ac1c0002row13_col12\" class=\"data row13 col12\" >0.219</td>\n",
       "                        <td id=\"T_419cff98_7294_11ea_9ff5_0242ac1c0002row13_col13\" class=\"data row13 col13\" >1</td>\n",
       "                        <td id=\"T_419cff98_7294_11ea_9ff5_0242ac1c0002row13_col14\" class=\"data row13 col14\" >-0.059</td>\n",
       "                        <td id=\"T_419cff98_7294_11ea_9ff5_0242ac1c0002row13_col15\" class=\"data row13 col15\" >-0.126</td>\n",
       "                        <td id=\"T_419cff98_7294_11ea_9ff5_0242ac1c0002row13_col16\" class=\"data row13 col16\" >-0.747</td>\n",
       "                        <td id=\"T_419cff98_7294_11ea_9ff5_0242ac1c0002row13_col17\" class=\"data row13 col17\" >-0.784</td>\n",
       "            </tr>\n",
       "            <tr>\n",
       "                        <th id=\"T_419cff98_7294_11ea_9ff5_0242ac1c0002level0_row14\" class=\"row_heading level0 row14\" >15</th>\n",
       "                        <td id=\"T_419cff98_7294_11ea_9ff5_0242ac1c0002row14_col0\" class=\"data row14 col0\" >0.213</td>\n",
       "                        <td id=\"T_419cff98_7294_11ea_9ff5_0242ac1c0002row14_col1\" class=\"data row14 col1\" >0.161</td>\n",
       "                        <td id=\"T_419cff98_7294_11ea_9ff5_0242ac1c0002row14_col2\" class=\"data row14 col2\" >0.116</td>\n",
       "                        <td id=\"T_419cff98_7294_11ea_9ff5_0242ac1c0002row14_col3\" class=\"data row14 col3\" >0.057</td>\n",
       "                        <td id=\"T_419cff98_7294_11ea_9ff5_0242ac1c0002row14_col4\" class=\"data row14 col4\" >-0.039</td>\n",
       "                        <td id=\"T_419cff98_7294_11ea_9ff5_0242ac1c0002row14_col5\" class=\"data row14 col5\" >0.031</td>\n",
       "                        <td id=\"T_419cff98_7294_11ea_9ff5_0242ac1c0002row14_col6\" class=\"data row14 col6\" >0.089</td>\n",
       "                        <td id=\"T_419cff98_7294_11ea_9ff5_0242ac1c0002row14_col7\" class=\"data row14 col7\" >-0.061</td>\n",
       "                        <td id=\"T_419cff98_7294_11ea_9ff5_0242ac1c0002row14_col8\" class=\"data row14 col8\" >0.104</td>\n",
       "                        <td id=\"T_419cff98_7294_11ea_9ff5_0242ac1c0002row14_col9\" class=\"data row14 col9\" >0.137</td>\n",
       "                        <td id=\"T_419cff98_7294_11ea_9ff5_0242ac1c0002row14_col10\" class=\"data row14 col10\" >0.051</td>\n",
       "                        <td id=\"T_419cff98_7294_11ea_9ff5_0242ac1c0002row14_col11\" class=\"data row14 col11\" >0.091</td>\n",
       "                        <td id=\"T_419cff98_7294_11ea_9ff5_0242ac1c0002row14_col12\" class=\"data row14 col12\" >0.184</td>\n",
       "                        <td id=\"T_419cff98_7294_11ea_9ff5_0242ac1c0002row14_col13\" class=\"data row14 col13\" >-0.059</td>\n",
       "                        <td id=\"T_419cff98_7294_11ea_9ff5_0242ac1c0002row14_col14\" class=\"data row14 col14\" >1</td>\n",
       "                        <td id=\"T_419cff98_7294_11ea_9ff5_0242ac1c0002row14_col15\" class=\"data row14 col15\" >-0.027</td>\n",
       "                        <td id=\"T_419cff98_7294_11ea_9ff5_0242ac1c0002row14_col16\" class=\"data row14 col16\" >0.08</td>\n",
       "                        <td id=\"T_419cff98_7294_11ea_9ff5_0242ac1c0002row14_col17\" class=\"data row14 col17\" >0.081</td>\n",
       "            </tr>\n",
       "            <tr>\n",
       "                        <th id=\"T_419cff98_7294_11ea_9ff5_0242ac1c0002level0_row15\" class=\"row_heading level0 row15\" >16</th>\n",
       "                        <td id=\"T_419cff98_7294_11ea_9ff5_0242ac1c0002row15_col0\" class=\"data row15 col0\" >0.156</td>\n",
       "                        <td id=\"T_419cff98_7294_11ea_9ff5_0242ac1c0002row15_col1\" class=\"data row15 col1\" >-0.02</td>\n",
       "                        <td id=\"T_419cff98_7294_11ea_9ff5_0242ac1c0002row15_col2\" class=\"data row15 col2\" >0.265</td>\n",
       "                        <td id=\"T_419cff98_7294_11ea_9ff5_0242ac1c0002row15_col3\" class=\"data row15 col3\" >0.194</td>\n",
       "                        <td id=\"T_419cff98_7294_11ea_9ff5_0242ac1c0002row15_col4\" class=\"data row15 col4\" >-0.01</td>\n",
       "                        <td id=\"T_419cff98_7294_11ea_9ff5_0242ac1c0002row15_col5\" class=\"data row15 col5\" >0.054</td>\n",
       "                        <td id=\"T_419cff98_7294_11ea_9ff5_0242ac1c0002row15_col6\" class=\"data row15 col6\" >0.213</td>\n",
       "                        <td id=\"T_419cff98_7294_11ea_9ff5_0242ac1c0002row15_col7\" class=\"data row15 col7\" >-0.191</td>\n",
       "                        <td id=\"T_419cff98_7294_11ea_9ff5_0242ac1c0002row15_col8\" class=\"data row15 col8\" >0.218</td>\n",
       "                        <td id=\"T_419cff98_7294_11ea_9ff5_0242ac1c0002row15_col9\" class=\"data row15 col9\" >-0.002</td>\n",
       "                        <td id=\"T_419cff98_7294_11ea_9ff5_0242ac1c0002row15_col10\" class=\"data row15 col10\" >0.192</td>\n",
       "                        <td id=\"T_419cff98_7294_11ea_9ff5_0242ac1c0002row15_col11\" class=\"data row15 col11\" >0.205</td>\n",
       "                        <td id=\"T_419cff98_7294_11ea_9ff5_0242ac1c0002row15_col12\" class=\"data row15 col12\" >-0.057</td>\n",
       "                        <td id=\"T_419cff98_7294_11ea_9ff5_0242ac1c0002row15_col13\" class=\"data row15 col13\" >-0.126</td>\n",
       "                        <td id=\"T_419cff98_7294_11ea_9ff5_0242ac1c0002row15_col14\" class=\"data row15 col14\" >-0.027</td>\n",
       "                        <td id=\"T_419cff98_7294_11ea_9ff5_0242ac1c0002row15_col15\" class=\"data row15 col15\" >1</td>\n",
       "                        <td id=\"T_419cff98_7294_11ea_9ff5_0242ac1c0002row15_col16\" class=\"data row15 col16\" >0.109</td>\n",
       "                        <td id=\"T_419cff98_7294_11ea_9ff5_0242ac1c0002row15_col17\" class=\"data row15 col17\" >0.23</td>\n",
       "            </tr>\n",
       "            <tr>\n",
       "                        <th id=\"T_419cff98_7294_11ea_9ff5_0242ac1c0002level0_row16\" class=\"row_heading level0 row16\" >17</th>\n",
       "                        <td id=\"T_419cff98_7294_11ea_9ff5_0242ac1c0002row16_col0\" class=\"data row16 col0\" >0.285</td>\n",
       "                        <td id=\"T_419cff98_7294_11ea_9ff5_0242ac1c0002row16_col1\" class=\"data row16 col1\" >-0.14</td>\n",
       "                        <td id=\"T_419cff98_7294_11ea_9ff5_0242ac1c0002row16_col2\" class=\"data row16 col2\" >0.141</td>\n",
       "                        <td id=\"T_419cff98_7294_11ea_9ff5_0242ac1c0002row16_col3\" class=\"data row16 col3\" >0.357</td>\n",
       "                        <td id=\"T_419cff98_7294_11ea_9ff5_0242ac1c0002row16_col4\" class=\"data row16 col4\" >0.199</td>\n",
       "                        <td id=\"T_419cff98_7294_11ea_9ff5_0242ac1c0002row16_col5\" class=\"data row16 col5\" >-0.038</td>\n",
       "                        <td id=\"T_419cff98_7294_11ea_9ff5_0242ac1c0002row16_col6\" class=\"data row16 col6\" >-0.005</td>\n",
       "                        <td id=\"T_419cff98_7294_11ea_9ff5_0242ac1c0002row16_col7\" class=\"data row16 col7\" >-0.105</td>\n",
       "                        <td id=\"T_419cff98_7294_11ea_9ff5_0242ac1c0002row16_col8\" class=\"data row16 col8\" >-0.031</td>\n",
       "                        <td id=\"T_419cff98_7294_11ea_9ff5_0242ac1c0002row16_col9\" class=\"data row16 col9\" >-0.134</td>\n",
       "                        <td id=\"T_419cff98_7294_11ea_9ff5_0242ac1c0002row16_col10\" class=\"data row16 col10\" >0.002</td>\n",
       "                        <td id=\"T_419cff98_7294_11ea_9ff5_0242ac1c0002row16_col11\" class=\"data row16 col11\" >-0.004</td>\n",
       "                        <td id=\"T_419cff98_7294_11ea_9ff5_0242ac1c0002row16_col12\" class=\"data row16 col12\" >-0.252</td>\n",
       "                        <td id=\"T_419cff98_7294_11ea_9ff5_0242ac1c0002row16_col13\" class=\"data row16 col13\" >-0.747</td>\n",
       "                        <td id=\"T_419cff98_7294_11ea_9ff5_0242ac1c0002row16_col14\" class=\"data row16 col14\" >0.08</td>\n",
       "                        <td id=\"T_419cff98_7294_11ea_9ff5_0242ac1c0002row16_col15\" class=\"data row16 col15\" >0.109</td>\n",
       "                        <td id=\"T_419cff98_7294_11ea_9ff5_0242ac1c0002row16_col16\" class=\"data row16 col16\" >1</td>\n",
       "                        <td id=\"T_419cff98_7294_11ea_9ff5_0242ac1c0002row16_col17\" class=\"data row16 col17\" >0.898</td>\n",
       "            </tr>\n",
       "            <tr>\n",
       "                        <th id=\"T_419cff98_7294_11ea_9ff5_0242ac1c0002level0_row17\" class=\"row_heading level0 row17\" >18</th>\n",
       "                        <td id=\"T_419cff98_7294_11ea_9ff5_0242ac1c0002row17_col0\" class=\"data row17 col0\" >0.35</td>\n",
       "                        <td id=\"T_419cff98_7294_11ea_9ff5_0242ac1c0002row17_col1\" class=\"data row17 col1\" >0.008</td>\n",
       "                        <td id=\"T_419cff98_7294_11ea_9ff5_0242ac1c0002row17_col2\" class=\"data row17 col2\" >0.323</td>\n",
       "                        <td id=\"T_419cff98_7294_11ea_9ff5_0242ac1c0002row17_col3\" class=\"data row17 col3\" >0.442</td>\n",
       "                        <td id=\"T_419cff98_7294_11ea_9ff5_0242ac1c0002row17_col4\" class=\"data row17 col4\" >0.232</td>\n",
       "                        <td id=\"T_419cff98_7294_11ea_9ff5_0242ac1c0002row17_col5\" class=\"data row17 col5\" >0.127</td>\n",
       "                        <td id=\"T_419cff98_7294_11ea_9ff5_0242ac1c0002row17_col6\" class=\"data row17 col6\" >0.105</td>\n",
       "                        <td id=\"T_419cff98_7294_11ea_9ff5_0242ac1c0002row17_col7\" class=\"data row17 col7\" >-0.208</td>\n",
       "                        <td id=\"T_419cff98_7294_11ea_9ff5_0242ac1c0002row17_col8\" class=\"data row17 col8\" >0.081</td>\n",
       "                        <td id=\"T_419cff98_7294_11ea_9ff5_0242ac1c0002row17_col9\" class=\"data row17 col9\" >0.048</td>\n",
       "                        <td id=\"T_419cff98_7294_11ea_9ff5_0242ac1c0002row17_col10\" class=\"data row17 col10\" >0.072</td>\n",
       "                        <td id=\"T_419cff98_7294_11ea_9ff5_0242ac1c0002row17_col11\" class=\"data row17 col11\" >0.089</td>\n",
       "                        <td id=\"T_419cff98_7294_11ea_9ff5_0242ac1c0002row17_col12\" class=\"data row17 col12\" >-0.147</td>\n",
       "                        <td id=\"T_419cff98_7294_11ea_9ff5_0242ac1c0002row17_col13\" class=\"data row17 col13\" >-0.784</td>\n",
       "                        <td id=\"T_419cff98_7294_11ea_9ff5_0242ac1c0002row17_col14\" class=\"data row17 col14\" >0.081</td>\n",
       "                        <td id=\"T_419cff98_7294_11ea_9ff5_0242ac1c0002row17_col15\" class=\"data row17 col15\" >0.23</td>\n",
       "                        <td id=\"T_419cff98_7294_11ea_9ff5_0242ac1c0002row17_col16\" class=\"data row17 col16\" >0.898</td>\n",
       "                        <td id=\"T_419cff98_7294_11ea_9ff5_0242ac1c0002row17_col17\" class=\"data row17 col17\" >1</td>\n",
       "            </tr>\n",
       "    </tbody></table>"
      ],
      "text/plain": [
       "<pandas.io.formats.style.Styler at 0x7fe490beb358>"
      ]
     },
     "execution_count": 8,
     "metadata": {
      "tags": []
     },
     "output_type": "execute_result"
    }
   ],
   "source": [
    "# take a look at the correlation matrix\n",
    "X_train_pd.corr().round(3).style.background_gradient(cmap='coolwarm')"
   ]
  },
  {
   "cell_type": "markdown",
   "metadata": {
    "colab_type": "text",
    "id": "ZOJyDQyvO1jd"
   },
   "source": [
    "It shows that several features in our dataset are highly correlated (for example 7 and 9, 7 and 12, etc)."
   ]
  },
  {
   "cell_type": "markdown",
   "metadata": {
    "colab_type": "text",
    "id": "WCR-91HfPpaw"
   },
   "source": [
    "Detect ouliers using boxplot"
   ]
  },
  {
   "cell_type": "code",
   "execution_count": null,
   "metadata": {
    "colab": {},
    "colab_type": "code",
    "id": "zYDIXoELjmPp"
   },
   "outputs": [],
   "source": [
    "figsize_x = 18\n",
    "figsize_y = 12\n",
    "f,ax = plt.subplots(figsize=(figsize_x,figsize_y))\n",
    "sns.boxplot(data=dataset, orient=\"h\", palette=\"Set2\", ax=ax)"
   ]
  },
  {
   "cell_type": "code",
   "execution_count": null,
   "metadata": {
    "colab": {
     "base_uri": "https://localhost:8080/",
     "height": 717
    },
    "colab_type": "code",
    "id": "KZLqCwgT7XJr",
    "outputId": "be5e369e-3f69-463f-e9ae-6ba03f613442"
   },
   "outputs": [
    {
     "data": {
      "text/plain": [
       "<matplotlib.axes._subplots.AxesSubplot at 0x7fe483ba3978>"
      ]
     },
     "execution_count": 9,
     "metadata": {
      "tags": []
     },
     "output_type": "execute_result"
    },
    {
     "data": {
      "image/png": "[encoded data removed]",
      "text/plain": [
       "<Figure size 1296x864 with 1 Axes>"
      ]
     },
     "metadata": {
      "tags": []
     },
     "output_type": "display_data"
    }
   ],
   "source": [
    "figsize_x = 18\n",
    "figsize_y = 12\n",
    "f,ax = plt.subplots(figsize=(figsize_x,figsize_y))\n",
    "sns.boxplot(data=X_train_pd, orient=\"h\", palette=\"Set2\", ax=ax)"
   ]
  },
  {
   "cell_type": "markdown",
   "metadata": {
    "colab_type": "text",
    "id": "4WkcFa00OkTv"
   },
   "source": [
    "We could see that there are plenty of outlies. Let's remove them.\n",
    "\n",
    "But firstly rename columns according to their actual names from original dataset. Correctly named features would be much easier to handle than features with names like '0','1','2', etc.\n",
    "\n",
    "Concatenate X and y in order to remove both feature data and labels of outliers."
   ]
  },
  {
   "cell_type": "code",
   "execution_count": null,
   "metadata": {
    "colab": {},
    "colab_type": "code",
    "id": "WNZ3DUMZBZKN"
   },
   "outputs": [],
   "source": [
    "y_train_pd = pd.DataFrame(y_train)"
   ]
  },
  {
   "cell_type": "code",
   "execution_count": null,
   "metadata": {
    "colab": {},
    "colab_type": "code",
    "id": "jna_euI4X7Kx"
   },
   "outputs": [],
   "source": [
    "X_train_pd.columns = ['compactness', 'circularity', 'distance_circularity', 'radius_ratio', 'pr.axis_aspect_ratio', 'max.length_aspect_ratio', 'scatter_ratio', 'elongatedness', 'pr.axis_rectangularity', 'max.length_rectangularity', 'scaled_variance1', 'scaled_variance2', 'scaled_radius_of_gyration', 'skewness_about1', 'skewness_about2', 'kurtosis_about1', 'kurtosis_about2', 'hollows_ratio']\n",
    "y_train_pd.columns = ['class']"
   ]
  },
  {
   "cell_type": "code",
   "execution_count": null,
   "metadata": {
    "colab": {},
    "colab_type": "code",
    "id": "8yU_tlQOCdTJ"
   },
   "outputs": [],
   "source": [
    "data_pd = pd.concat([X_train_pd, y_train_pd], axis=1)"
   ]
  },
  {
   "cell_type": "markdown",
   "metadata": {
    "colab_type": "text",
    "id": "KytMJ9CxPw8V"
   },
   "source": [
    "Consider that anything not in the range of (Q1 - 1.5 IQR) and (Q3 + 1.5 IQR) is an outlier and can be removed, where IQR = Q3 - Q1"
   ]
  },
  {
   "cell_type": "code",
   "execution_count": null,
   "metadata": {
    "colab": {},
    "colab_type": "code",
    "id": "I5QxuRFLHr5-"
   },
   "outputs": [],
   "source": [
    "Q1 = X_train_pd.quantile(0.25)\n",
    "Q3 = X_train_pd.quantile(0.75)\n",
    "IQR = Q3 - Q1\n",
    "\n",
    "data_pd = data_pd[~((data_pd.iloc[:,:-1] < (Q1 - 1.5 * IQR)) |(data_pd.iloc[:,:-1] > (Q3 + 1.5 * IQR))).any(axis=1)] # overwrite our data_pd removing outliers"
   ]
  },
  {
   "cell_type": "code",
   "execution_count": null,
   "metadata": {
    "colab": {},
    "colab_type": "code",
    "id": "wUAQHX2sqP8Y"
   },
   "outputs": [],
   "source": [
    "xtrain_scaled = "
   ]
  },
  {
   "cell_type": "code",
   "execution_count": null,
   "metadata": {
    "colab": {},
    "colab_type": "code",
    "id": "HPm3lMmsADpY"
   },
   "outputs": [],
   "source": [
    "data_pd = data_pd.reset_index(drop=True) # reset indices"
   ]
  },
  {
   "cell_type": "code",
   "execution_count": null,
   "metadata": {
    "colab": {
     "base_uri": "https://localhost:8080/",
     "height": 34
    },
    "colab_type": "code",
    "id": "dIUmTzUEhw8J",
    "outputId": "cf63b49d-6a0e-4721-e187-267627bd137c"
   },
   "outputs": [
    {
     "data": {
      "text/plain": [
       "(525, 19)"
      ]
     },
     "execution_count": 15,
     "metadata": {
      "tags": []
     },
     "output_type": "execute_result"
    }
   ],
   "source": [
    "data_pd.shape"
   ]
  },
  {
   "cell_type": "markdown",
   "metadata": {
    "colab_type": "text",
    "id": "sM3iay0xiaAx"
   },
   "source": [
    "Split them into X and y again."
   ]
  },
  {
   "cell_type": "code",
   "execution_count": null,
   "metadata": {
    "colab": {},
    "colab_type": "code",
    "id": "7MiF3EnVidvz"
   },
   "outputs": [],
   "source": [
    "X_train_pd = data_pd.iloc[:,:-1]\n",
    "y_train_pd = data_pd.iloc[:,-1]"
   ]
  },
  {
   "cell_type": "markdown",
   "metadata": {
    "colab_type": "text",
    "id": "6Lrqd2QdF4qB"
   },
   "source": [
    "#### 2.1. Basic logistic regression\n",
    "* Find optimal hyperparameters for logistic regression with cross-validation on the `train` data (small grid/random search is enough, no need to find the *best* parameters).\n",
    "\n",
    "* Estimate the model quality with `f1` and `accuracy` scores.\n",
    "* Plot a ROC-curve for the trained model. For the multiclass case we will use `scikitplot` library (e.g. `scikitplot.metrics.plot_roc(test_labels, predicted_proba)`).\n",
    "\n",
    "We are going to use following hyperparameters for logistic regression: `multi_class='multinomial'`, `solver='saga'` `tol=1e-3` and ` max_iter=500`."
   ]
  },
  {
   "cell_type": "code",
   "execution_count": null,
   "metadata": {
    "colab": {},
    "colab_type": "code",
    "id": "cKlJYKNUF4qB",
    "nbgrader": {
     "grade": true,
     "grade_id": "cell-1dd5ad5d0845cbbb",
     "locked": false,
     "points": 5,
     "schema_version": 2,
     "solution": true
    }
   },
   "outputs": [],
   "source": [
    "from sklearn.linear_model import LogisticRegression\n",
    "from sklearn.metrics import f1_score, accuracy_score"
   ]
  },
  {
   "cell_type": "code",
   "execution_count": null,
   "metadata": {
    "colab": {
     "base_uri": "https://localhost:8080/",
     "height": 269
    },
    "colab_type": "code",
    "id": "Xp2Id8ygF4qG",
    "outputId": "6fb433cd-8d30-46e1-a28c-01ac8bcec756"
   },
   "outputs": [
    {
     "name": "stdout",
     "output_type": "stream",
     "text": [
      "Collecting scikit-plot\n",
      "  Downloading https://files.pythonhosted.org/packages/7c/47/32520e259340c140a4ad27c1b97050dd3254fdc517b1d59974d47037510e/scikit_plot-0.3.7-py3-none-any.whl\n",
      "Requirement already satisfied: joblib>=0.10 in /usr/local/lib/python3.6/dist-packages (from scikit-plot) (0.14.1)\n",
      "Requirement already satisfied: scikit-learn>=0.18 in /usr/local/lib/python3.6/dist-packages (from scikit-plot) (0.22.2.post1)\n",
      "Requirement already satisfied: scipy>=0.9 in /usr/local/lib/python3.6/dist-packages (from scikit-plot) (1.4.1)\n",
      "Requirement already satisfied: matplotlib>=1.4.0 in /usr/local/lib/python3.6/dist-packages (from scikit-plot) (3.2.1)\n",
      "Requirement already satisfied: numpy>=1.11.0 in /usr/local/lib/python3.6/dist-packages (from scikit-learn>=0.18->scikit-plot) (1.18.2)\n",
      "Requirement already satisfied: kiwisolver>=1.0.1 in /usr/local/lib/python3.6/dist-packages (from matplotlib>=1.4.0->scikit-plot) (1.1.0)\n",
      "Requirement already satisfied: cycler>=0.10 in /usr/local/lib/python3.6/dist-packages (from matplotlib>=1.4.0->scikit-plot) (0.10.0)\n",
      "Requirement already satisfied: pyparsing!=2.0.4,!=2.1.2,!=2.1.6,>=2.0.1 in /usr/local/lib/python3.6/dist-packages (from matplotlib>=1.4.0->scikit-plot) (2.4.6)\n",
      "Requirement already satisfied: python-dateutil>=2.1 in /usr/local/lib/python3.6/dist-packages (from matplotlib>=1.4.0->scikit-plot) (2.8.1)\n",
      "Requirement already satisfied: setuptools in /usr/local/lib/python3.6/dist-packages (from kiwisolver>=1.0.1->matplotlib>=1.4.0->scikit-plot) (46.0.0)\n",
      "Requirement already satisfied: six in /usr/local/lib/python3.6/dist-packages (from cycler>=0.10->matplotlib>=1.4.0->scikit-plot) (1.12.0)\n",
      "Installing collected packages: scikit-plot\n",
      "Successfully installed scikit-plot-0.3.7\n"
     ]
    }
   ],
   "source": [
    "! pip install scikit-plot"
   ]
  },
  {
   "cell_type": "code",
   "execution_count": null,
   "metadata": {
    "colab": {},
    "colab_type": "code",
    "id": "vEWw0FU18O2H"
   },
   "outputs": [],
   "source": [
    "logreg = LogisticRegression(multi_class='multinomial', solver='saga', tol=1e-3, max_iter=500)"
   ]
  },
  {
   "cell_type": "code",
   "execution_count": null,
   "metadata": {
    "colab": {},
    "colab_type": "code",
    "id": "MbhEuF_Rrt-i"
   },
   "outputs": [],
   "source": [
    "from sklearn.model_selection import GridSearchCV\n",
    "penalty = ['l1', 'l2']\n",
    "C = [0.001, 0.01, 0.1, 1, 10, 100, 1000]\n",
    "\n",
    "\n",
    "hyperparameters = dict(C=C, penalty=penalty)\n",
    "clf = GridSearchCV(logreg, hyperparameters, cv=5, verbose=0)"
   ]
  },
  {
   "cell_type": "code",
   "execution_count": null,
   "metadata": {
    "colab": {},
    "colab_type": "code",
    "id": "CzQvJEJGsvUD"
   },
   "outputs": [],
   "source": [
    "best_lr_model = clf.fit(X_train_pd, y_train_pd)"
   ]
  },
  {
   "cell_type": "code",
   "execution_count": null,
   "metadata": {
    "colab": {
     "base_uri": "https://localhost:8080/",
     "height": 50
    },
    "colab_type": "code",
    "id": "bYSYZiCEwDHL",
    "outputId": "ba689f2a-6329-4494-a2ab-2f3cc012eda6"
   },
   "outputs": [
    {
     "name": "stdout",
     "output_type": "stream",
     "text": [
      "Best Penalty: l2\n",
      "Best C: 0.1\n"
     ]
    }
   ],
   "source": [
    "print('Best Penalty:', best_lr_model.best_estimator_.get_params()['penalty'])\n",
    "print('Best C:', best_lr_model.best_estimator_.get_params()['C'])"
   ]
  },
  {
   "cell_type": "code",
   "execution_count": null,
   "metadata": {
    "colab": {
     "base_uri": "https://localhost:8080/",
     "height": 34
    },
    "colab_type": "code",
    "id": "sbWqLH59jcAM",
    "outputId": "942f1a15-a6bd-4923-8ea9-5e269b8528eb"
   },
   "outputs": [
    {
     "data": {
      "text/plain": [
       "0.7175694313540888"
      ]
     },
     "execution_count": 24,
     "metadata": {
      "tags": []
     },
     "output_type": "execute_result"
    }
   ],
   "source": [
    "y_pred_test = best_lr_model.predict(X_test)\n",
    "f1_score(y_test, y_pred_test, average='weighted')"
   ]
  },
  {
   "cell_type": "code",
   "execution_count": null,
   "metadata": {
    "colab": {
     "base_uri": "https://localhost:8080/",
     "height": 34
    },
    "colab_type": "code",
    "id": "zI2lqGDrk4CK",
    "outputId": "0c5943d2-7316-442c-944a-397fec00b909"
   },
   "outputs": [
    {
     "data": {
      "text/plain": [
       "0.7272727272727273"
      ]
     },
     "execution_count": 25,
     "metadata": {
      "tags": []
     },
     "output_type": "execute_result"
    }
   ],
   "source": [
    "accuracy_score(y_test, y_pred_test)"
   ]
  },
  {
   "cell_type": "code",
   "execution_count": null,
   "metadata": {
    "colab": {},
    "colab_type": "code",
    "id": "I8ZlyGwK982U"
   },
   "outputs": [],
   "source": [
    "y_proba_test = best_lr_model.predict_proba(X_test)"
   ]
  },
  {
   "cell_type": "code",
   "execution_count": null,
   "metadata": {
    "colab": {
     "base_uri": "https://localhost:8080/",
     "height": 530
    },
    "colab_type": "code",
    "id": "F4w1QjRawnLL",
    "outputId": "52a2f729-4a2c-4f70-b700-b4cea2ac1b3b"
   },
   "outputs": [
    {
     "data": {
      "text/plain": [
       "<matplotlib.axes._subplots.AxesSubplot at 0x7fe47f286518>"
      ]
     },
     "execution_count": 27,
     "metadata": {
      "tags": []
     },
     "output_type": "execute_result"
    },
    {
     "data": {
      "image/png": "[encoded data removed]",
      "text/plain": [
       "<Figure size 720x576 with 1 Axes>"
      ]
     },
     "metadata": {
      "tags": []
     },
     "output_type": "display_data"
    }
   ],
   "source": [
    "import scikitplot\n",
    "scikitplot.metrics.plot_roc(y_test, y_proba_test, figsize=(10,8))"
   ]
  },
  {
   "cell_type": "markdown",
   "metadata": {
    "colab_type": "text",
    "id": "AFXZGiY8_Usy"
   },
   "source": [
    "**Logistic Regression Summary:**\n",
    "\n",
    "\n",
    "*   Best Penalty: l2, Best C: 0.1\n",
    "*   f1_score: 0.718\n",
    "*   Accuracy: 0.727\n",
    "\n",
    "f1 and accuracy scores depend on random seed of train_test_split. So, the above values are averaged across several launches of the code."
   ]
  },
  {
   "cell_type": "markdown",
   "metadata": {
    "colab_type": "text",
    "id": "_1Arwfe9F4qI"
   },
   "source": [
    "#### 2.2. PCA: explained variance plot\n",
    "* Apply the PCA to the train part of the data. Build the explaided variance plot. "
   ]
  },
  {
   "cell_type": "markdown",
   "metadata": {
    "colab_type": "text",
    "id": "Zc5VFqAEWugm"
   },
   "source": [
    "We need to normalize our data before applying PCA."
   ]
  },
  {
   "cell_type": "code",
   "execution_count": null,
   "metadata": {
    "colab": {},
    "colab_type": "code",
    "id": "nrEKkudIF4qJ",
    "nbgrader": {
     "grade": true,
     "grade_id": "cell-c6c614740bce090e",
     "locked": false,
     "points": 10,
     "schema_version": 2,
     "solution": true
    }
   },
   "outputs": [],
   "source": [
    "# normalization using StandardScaler\n",
    "\n",
    "from sklearn.preprocessing import StandardScaler \n",
    "sc = StandardScaler()\n",
    "X_train_scaled = pd.DataFrame(sc.fit_transform(X_train_pd), columns = X_train_pd.columns)"
   ]
  },
  {
   "cell_type": "code",
   "execution_count": null,
   "metadata": {
    "colab": {
     "base_uri": "https://localhost:8080/",
     "height": 50
    },
    "colab_type": "code",
    "id": "oVQDM7AXZUHY",
    "outputId": "030aab56-b2ff-4b00-ac87-25f437c24c31"
   },
   "outputs": [
    {
     "data": {
      "text/plain": [
       "PCA(copy=True, iterated_power='auto', n_components=None, random_state=None,\n",
       "    svd_solver='auto', tol=0.0, whiten=False)"
      ]
     },
     "execution_count": 136,
     "metadata": {
      "tags": []
     },
     "output_type": "execute_result"
    }
   ],
   "source": [
    "from sklearn.decomposition import PCA\n",
    "pca = PCA()\n",
    "pca.fit(X_train_scaled)"
   ]
  },
  {
   "cell_type": "code",
   "execution_count": null,
   "metadata": {
    "colab": {
     "base_uri": "https://localhost:8080/",
     "height": 530
    },
    "colab_type": "code",
    "id": "dGGZPGYaryI4",
    "outputId": "17b5aafc-231a-4c71-dc6e-a0d0b63cf2f0"
   },
   "outputs": [
    {
     "data": {
      "text/plain": [
       "Text(0.5, 1.0, 'Explained Variance Plot')"
      ]
     },
     "execution_count": 137,
     "metadata": {
      "tags": []
     },
     "output_type": "execute_result"
    },
    {
     "data": {
      "image/png": "[encoded data removed]",
      "text/plain": [
       "<Figure size 720x576 with 1 Axes>"
      ]
     },
     "metadata": {
      "tags": []
     },
     "output_type": "display_data"
    }
   ],
   "source": [
    "per_var = np.round(pca.explained_variance_ratio_* 100, decimals=2)\n",
    "labels = ['PC' + str(x) for x in range(1, len(per_var)+1)]\n",
    "\n",
    "plt.figure(figsize=(10,8))\n",
    "plt.bar(x=range(1,len(per_var)+1), height=per_var, tick_label=labels)\n",
    "plt.ylabel('Percentage of Explained Variance')\n",
    "plt.xlabel('Principal Component')\n",
    "plt.title('Explained Variance Plot')"
   ]
  },
  {
   "cell_type": "markdown",
   "metadata": {
    "colab_type": "text",
    "id": "AjR34aaXF4qM",
    "nbgrader": {
     "grade": false,
     "grade_id": "cell-0c1fe666f52fe53c",
     "locked": true,
     "schema_version": 2,
     "solution": false
    }
   },
   "source": [
    "#### 2.3. PCA trasformation\n",
    "* Select the appropriate number of components."
   ]
  },
  {
   "cell_type": "code",
   "execution_count": null,
   "metadata": {
    "colab": {
     "base_uri": "https://localhost:8080/",
     "height": 34
    },
    "colab_type": "code",
    "id": "Wz2z2rugF4qN",
    "nbgrader": {
     "grade": true,
     "grade_id": "cell-96ab18d96473ef71",
     "locked": false,
     "points": 5,
     "schema_version": 2,
     "solution": true
    },
    "outputId": "b14aeb37-168d-4449-a6f5-7de778c61e64"
   },
   "outputs": [
    {
     "name": "stdout",
     "output_type": "stream",
     "text": [
      "We have 11 features left out of 18 after applying PCA\n"
     ]
    }
   ],
   "source": [
    "pca = PCA(n_components=0.99) # retain 99% of the variance\n",
    "X_pca = pca.fit_transform(X_train_scaled)\n",
    "X_pca_pd = pd.DataFrame(data=X_pca)\n",
    "print('We have', X_pca.shape[1], 'features left out of 18 after applying PCA')"
   ]
  },
  {
   "cell_type": "markdown",
   "metadata": {
    "colab_type": "text",
    "id": "aAdPrmnqF4qR",
    "nbgrader": {
     "grade": false,
     "grade_id": "cell-d28b58a35c94e988",
     "locked": true,
     "schema_version": 2,
     "solution": false
    }
   },
   "source": [
    "#### 2.4. Logistic regression on PCA-preprocessed data.\n",
    "* Find optimal hyperparameters for logistic regression with cross-validation on the transformed by PCA `train` data.\n",
    "\n",
    "* Estimate the model quality with `f1` and `accuracy` scores.\n",
    "* Plot a ROC-curve for the trained model."
   ]
  },
  {
   "cell_type": "code",
   "execution_count": null,
   "metadata": {
    "colab": {},
    "colab_type": "code",
    "id": "jj61SpN9F4qR",
    "nbgrader": {
     "grade": true,
     "grade_id": "cell-12d53ea45258fa82",
     "locked": false,
     "points": 5,
     "schema_version": 2,
     "solution": true
    }
   },
   "outputs": [],
   "source": [
    "best_pca_model = clf.fit(X_pca_pd, y_train_pd)"
   ]
  },
  {
   "cell_type": "code",
   "execution_count": null,
   "metadata": {
    "colab": {},
    "colab_type": "code",
    "id": "zmvNem4h0QrZ"
   },
   "outputs": [],
   "source": [
    "# apply PCA on test data\n",
    "X_test_pd = pd.DataFrame(X_test)\n",
    "X_test_scaled = pd.DataFrame(sc.transform(X_test_pd), columns = X_test_pd.columns)"
   ]
  },
  {
   "cell_type": "code",
   "execution_count": null,
   "metadata": {
    "colab": {},
    "colab_type": "code",
    "id": "8xWOwm4czcgB"
   },
   "outputs": [],
   "source": [
    "X_pca_test = pca.transform(X_test_scaled)\n",
    "X_pca_test_pd = pd.DataFrame(data=X_pca_test)"
   ]
  },
  {
   "cell_type": "code",
   "execution_count": null,
   "metadata": {
    "colab": {
     "base_uri": "https://localhost:8080/",
     "height": 34
    },
    "colab_type": "code",
    "id": "jbK1ivycycmH",
    "outputId": "7be44d4c-d155-492f-f239-194243242291"
   },
   "outputs": [
    {
     "name": "stdout",
     "output_type": "stream",
     "text": [
      "f1_score: 0.7335275960250961\n"
     ]
    }
   ],
   "source": [
    "y_pred_test_pca = best_pca_model.predict(X_pca_test_pd)\n",
    "print('f1_score:', f1_score(y_test, y_pred_test_pca, average='weighted'))"
   ]
  },
  {
   "cell_type": "code",
   "execution_count": null,
   "metadata": {
    "colab": {
     "base_uri": "https://localhost:8080/",
     "height": 34
    },
    "colab_type": "code",
    "id": "qZPScY6V02vK",
    "outputId": "46fb7b3a-ac1f-491c-9670-58864880fd03"
   },
   "outputs": [
    {
     "name": "stdout",
     "output_type": "stream",
     "text": [
      "accuracy: 0.734006734006734\n"
     ]
    }
   ],
   "source": [
    "print('accuracy:', accuracy_score(y_test, y_pred_test_pca))"
   ]
  },
  {
   "cell_type": "code",
   "execution_count": null,
   "metadata": {
    "colab": {},
    "colab_type": "code",
    "id": "Bd6SFJvFCVjn"
   },
   "outputs": [],
   "source": [
    "y_proba_pca = best_pca_model.predict_proba(X_pca_test_pd)"
   ]
  },
  {
   "cell_type": "code",
   "execution_count": null,
   "metadata": {
    "colab": {
     "base_uri": "https://localhost:8080/",
     "height": 530
    },
    "colab_type": "code",
    "id": "L9BOucP3CeVP",
    "outputId": "dec0713f-b932-4079-d0d3-eae67fd06edd"
   },
   "outputs": [
    {
     "data": {
      "text/plain": [
       "<matplotlib.axes._subplots.AxesSubplot at 0x7fe47b0f86a0>"
      ]
     },
     "execution_count": 146,
     "metadata": {
      "tags": []
     },
     "output_type": "execute_result"
    },
    {
     "data": {
      "image/png": "[encoded data removed]",
      "text/plain": [
       "<Figure size 720x576 with 1 Axes>"
      ]
     },
     "metadata": {
      "tags": []
     },
     "output_type": "display_data"
    }
   ],
   "source": [
    "scikitplot.metrics.plot_roc(y_test, y_proba_pca, figsize=(10,8))"
   ]
  },
  {
   "cell_type": "markdown",
   "metadata": {
    "colab_type": "text",
    "id": "D2o2C3SpDAX_"
   },
   "source": [
    "**Logistic regression on PCA-preprocessed data summary**\n",
    "\n",
    "*   f1_score: 0.7335\n",
    "*   accuracy: 0.734\n",
    "\n",
    "We have slightly better results when using Logistic Regression with PCA.\n"
   ]
  },
  {
   "cell_type": "markdown",
   "metadata": {
    "colab_type": "text",
    "id": "38woFg6MF4qW",
    "nbgrader": {
     "grade": false,
     "grade_id": "cell-4fbf16c64076e139",
     "locked": true,
     "schema_version": 2,
     "solution": false
    }
   },
   "source": [
    "#### 2.5. Decision tree\n",
    "* Now train a desicion tree on the same data. Find optimal tree depth (`max_depth`) using cross-validation.\n",
    "\n",
    "* Measure the model quality using the same metrics you used above."
   ]
  },
  {
   "cell_type": "code",
   "execution_count": null,
   "metadata": {
    "colab": {},
    "colab_type": "code",
    "id": "OM0hILBwF4qY",
    "nbgrader": {
     "grade": true,
     "grade_id": "cell-748ed20b51c67fab",
     "locked": false,
     "points": 15,
     "schema_version": 2,
     "solution": true
    }
   },
   "outputs": [],
   "source": [
    "from sklearn.tree import DecisionTreeClassifier\n",
    "decision_tree = DecisionTreeClassifier()\n",
    "max_depth = range(3,300)\n",
    "hyperparameters = dict(max_depth=max_depth)\n",
    "clf = GridSearchCV(decision_tree, hyperparameters, cv=5, verbose=0)\n",
    "# train on PCA data\n",
    "best_tree_model = clf.fit(X_pca_pd, y_train_pd)"
   ]
  },
  {
   "cell_type": "code",
   "execution_count": null,
   "metadata": {
    "colab": {
     "base_uri": "https://localhost:8080/",
     "height": 34
    },
    "colab_type": "code",
    "id": "pQgp7kY1TjZ1",
    "outputId": "6423a0f1-c203-48db-d190-9caf1d22cf25"
   },
   "outputs": [
    {
     "name": "stdout",
     "output_type": "stream",
     "text": [
      "Best max_depth: 290\n"
     ]
    }
   ],
   "source": [
    "print('Best max_depth:', best_tree_model.best_estimator_.get_params()['max_depth'])"
   ]
  },
  {
   "cell_type": "code",
   "execution_count": null,
   "metadata": {
    "colab": {
     "base_uri": "https://localhost:8080/",
     "height": 34
    },
    "colab_type": "code",
    "id": "hv0Shrd6T1A-",
    "outputId": "adcda776-94a7-4e86-8453-62f4aadf9b13"
   },
   "outputs": [
    {
     "name": "stdout",
     "output_type": "stream",
     "text": [
      "f1_score: 0.6049137853897905\n"
     ]
    }
   ],
   "source": [
    "y_pred_test_tree = best_tree_model.predict(X_pca_test_pd)\n",
    "print('f1_score:', f1_score(y_test, y_pred_test_tree, average='weighted'))"
   ]
  },
  {
   "cell_type": "code",
   "execution_count": null,
   "metadata": {
    "colab": {
     "base_uri": "https://localhost:8080/",
     "height": 34
    },
    "colab_type": "code",
    "id": "EPA1XvoxT9gt",
    "outputId": "6fe819be-7d2e-44a3-c369-8d53d53e5d23"
   },
   "outputs": [
    {
     "name": "stdout",
     "output_type": "stream",
     "text": [
      "accuracy: 0.5959595959595959\n"
     ]
    }
   ],
   "source": [
    "print('accuracy:', accuracy_score(y_test, y_pred_test_tree))"
   ]
  },
  {
   "cell_type": "code",
   "execution_count": null,
   "metadata": {
    "colab": {
     "base_uri": "https://localhost:8080/",
     "height": 34
    },
    "colab_type": "code",
    "id": "G2OMnVCGUWLh",
    "outputId": "2d3e9ff7-901b-4d3b-b1b0-24386ab571d9"
   },
   "outputs": [
    {
     "name": "stdout",
     "output_type": "stream",
     "text": [
      "Best max_depth: 6\n"
     ]
    }
   ],
   "source": [
    "# train on data without PCA\n",
    "best_tree_model = clf.fit(X_train_pd, y_train_pd)\n",
    "y_pred_test_tree = best_tree_model.predict(X_test)\n",
    "print('Best max_depth:', best_tree_model.best_estimator_.get_params()['max_depth'])"
   ]
  },
  {
   "cell_type": "code",
   "execution_count": null,
   "metadata": {
    "colab": {
     "base_uri": "https://localhost:8080/",
     "height": 34
    },
    "colab_type": "code",
    "id": "EEeRzROaU763",
    "outputId": "2ec27f97-90a7-42e6-f251-bacab3a11ee2"
   },
   "outputs": [
    {
     "name": "stdout",
     "output_type": "stream",
     "text": [
      "f1_score: 0.6975566064466697\n"
     ]
    }
   ],
   "source": [
    "print('f1_score:', f1_score(y_test, y_pred_test_tree, average='weighted'))"
   ]
  },
  {
   "cell_type": "code",
   "execution_count": null,
   "metadata": {
    "colab": {
     "base_uri": "https://localhost:8080/",
     "height": 34
    },
    "colab_type": "code",
    "id": "exoH_787VEht",
    "outputId": "419fb797-7a6a-4855-a447-438b4d13f36f"
   },
   "outputs": [
    {
     "name": "stdout",
     "output_type": "stream",
     "text": [
      "accuracy: 0.7003367003367004\n"
     ]
    }
   ],
   "source": [
    "print('accuracy:', accuracy_score(y_test, y_pred_test_tree))"
   ]
  },
  {
   "cell_type": "code",
   "execution_count": null,
   "metadata": {
    "colab": {},
    "colab_type": "code",
    "id": "4ILznc7EWb9k"
   },
   "outputs": [],
   "source": [
    "y_proba_tree = best_tree_model.predict_proba(X_test)"
   ]
  },
  {
   "cell_type": "code",
   "execution_count": null,
   "metadata": {
    "colab": {
     "base_uri": "https://localhost:8080/",
     "height": 530
    },
    "colab_type": "code",
    "id": "4kdmTkKPWrX_",
    "outputId": "1d536346-8e14-44cc-d8dc-ea041841ecaf"
   },
   "outputs": [
    {
     "data": {
      "text/plain": [
       "<matplotlib.axes._subplots.AxesSubplot at 0x7fe47b26d940>"
      ]
     },
     "execution_count": 174,
     "metadata": {
      "tags": []
     },
     "output_type": "execute_result"
    },
    {
     "data": {
      "image/png": "[encoded data removed]",
      "text/plain": [
       "<Figure size 720x576 with 1 Axes>"
      ]
     },
     "metadata": {
      "tags": []
     },
     "output_type": "display_data"
    }
   ],
   "source": [
    "scikitplot.metrics.plot_roc(y_test, y_proba_tree, figsize=(10,8))"
   ]
  },
  {
   "cell_type": "markdown",
   "metadata": {
    "colab_type": "text",
    "id": "VgxuL6cqYPAF"
   },
   "source": [
    "Model quality decreased compared to the previous models. Especially, if we build our model on PCA data.\n",
    "\n",
    "If we use non-PCA data, the scores are the following:\n",
    "\n",
    "*   f1_score: 0.698\n",
    "*   accuracy: 0.700\n",
    "\n"
   ]
  }
 ],
 "metadata": {
  "celltoolbar": "Create Assignment",
  "colab": {
   "collapsed_sections": [],
   "name": "Copy of Lab1_part2_ml_pipeline.ipynb",
   "provenance": []
  },
  "kernelspec": {
   "display_name": "Python 3",
   "language": "python",
   "name": "python3"
  },
  "language_info": {
   "codemirror_mode": {
    "name": "ipython",
    "version": 3
   },
   "file_extension": ".py",
   "mimetype": "text/x-python",
   "name": "python",
   "nbconvert_exporter": "python",
   "pygments_lexer": "ipython3",
   "version": "3.8.3"
  },
  "toc": {
   "base_numbering": 1,
   "nav_menu": {},
   "number_sections": false,
   "sideBar": true,
   "skip_h1_title": false,
   "title_cell": "Table of Contents",
   "title_sidebar": "Contents",
   "toc_cell": false,
   "toc_position": {},
   "toc_section_display": true,
   "toc_window_display": false
  }
 },
 "nbformat": 4,
 "nbformat_minor": 1
}
